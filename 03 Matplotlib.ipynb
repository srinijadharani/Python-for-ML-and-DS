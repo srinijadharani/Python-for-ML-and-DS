{
  "nbformat": 4,
  "nbformat_minor": 0,
  "metadata": {
    "colab": {
      "name": "Day3(Matplotlib).ipynb",
      "provenance": [],
      "collapsed_sections": [],
      "authorship_tag": "ABX9TyMVQPVvVtCRwMoxw6SOhLVO",
      "include_colab_link": true
    },
    "kernelspec": {
      "name": "python3",
      "display_name": "Python 3"
    }
  },
  "cells": [
    {
      "cell_type": "markdown",
      "metadata": {
        "id": "view-in-github",
        "colab_type": "text"
      },
      "source": [
        "<a href=\"https://colab.research.google.com/github/srinijadharani/Python-for-ML-and-DS/blob/master/Day3(Matplotlib).ipynb\" target=\"_parent\"><img src=\"https://colab.research.google.com/assets/colab-badge.svg\" alt=\"Open In Colab\"/></a>"
      ]
    },
    {
      "cell_type": "markdown",
      "metadata": {
        "id": "XgToz4dnzwzC",
        "colab_type": "text"
      },
      "source": [
        "# **DATA VISUALISATION-1**\n",
        "\n",
        "### **MATPLOTLIB**<br>\n",
        "\n",
        "It is the most popular plotting library for Python. It gives you control over every aspect of a figure. It works efficiently with NumPy arrays and Pandas DataFrames.<BR><BR>\n",
        " ### **PART 1**"
      ]
    },
    {
      "cell_type": "code",
      "metadata": {
        "id": "9R8pBLDiAXAk",
        "colab_type": "code",
        "colab": {}
      },
      "source": [
        "import matplotlib.pyplot as plt\n",
        "import numpy as np\n",
        "import pandas as pd"
      ],
      "execution_count": 1,
      "outputs": []
    },
    {
      "cell_type": "code",
      "metadata": {
        "id": "6gp29-zh55g3",
        "colab_type": "code",
        "colab": {}
      },
      "source": [
        "x=np.linspace(0,5,11)\n",
        "y=x**2"
      ],
      "execution_count": 2,
      "outputs": []
    },
    {
      "cell_type": "code",
      "metadata": {
        "id": "Yv3jJidv6OTi",
        "colab_type": "code",
        "colab": {
          "base_uri": "https://localhost:8080/",
          "height": 34
        },
        "outputId": "cd341dca-5fba-4c6b-8880-4f88b6f22404"
      },
      "source": [
        "x"
      ],
      "execution_count": 3,
      "outputs": [
        {
          "output_type": "execute_result",
          "data": {
            "text/plain": [
              "array([0. , 0.5, 1. , 1.5, 2. , 2.5, 3. , 3.5, 4. , 4.5, 5. ])"
            ]
          },
          "metadata": {
            "tags": []
          },
          "execution_count": 3
        }
      ]
    },
    {
      "cell_type": "code",
      "metadata": {
        "id": "nVBeZqRg6PNv",
        "colab_type": "code",
        "colab": {
          "base_uri": "https://localhost:8080/",
          "height": 52
        },
        "outputId": "46c1396e-b243-4eb9-9247-effdd1b9b03a"
      },
      "source": [
        "y"
      ],
      "execution_count": 4,
      "outputs": [
        {
          "output_type": "execute_result",
          "data": {
            "text/plain": [
              "array([ 0.  ,  0.25,  1.  ,  2.25,  4.  ,  6.25,  9.  , 12.25, 16.  ,\n",
              "       20.25, 25.  ])"
            ]
          },
          "metadata": {
            "tags": []
          },
          "execution_count": 4
        }
      ]
    },
    {
      "cell_type": "code",
      "metadata": {
        "id": "1ALXpV4v6QGc",
        "colab_type": "code",
        "colab": {
          "base_uri": "https://localhost:8080/",
          "height": 295
        },
        "outputId": "13c2b29d-3dcc-42fa-9b90-e43d53e7b2ab"
      },
      "source": [
        "#Functional method\n",
        "plt.plot(x,y)\n",
        "plt.xlabel(\"x-axis\")\n",
        "plt.ylabel(\"y-axis\")\n",
        "plt.title(\"Graph\")\n",
        "plt.show()"
      ],
      "execution_count": 5,
      "outputs": [
        {
          "output_type": "display_data",
          "data": {
            "image/png": "[encoded data removed]",
            "text/plain": [
              "<Figure size 432x288 with 1 Axes>"
            ]
          },
          "metadata": {
            "tags": [],
            "needs_background": "light"
          }
        }
      ]
    },
    {
      "cell_type": "code",
      "metadata": {
        "id": "zzCms0Vz6fpl",
        "colab_type": "code",
        "colab": {
          "base_uri": "https://localhost:8080/",
          "height": 513
        },
        "outputId": "8f56b481-cca6-45c0-a690-dd717f8a4eef"
      },
      "source": [
        "plt.subplot(1,2,1) #subplot(number_of_rows, number_of_columns, plot_number)\n",
        "plt.plot(x,y,\"r\")\n",
        "plt.show()\n",
        "\n",
        "plt.subplot(1,2,1)\n",
        "plt.plot(y,x,\"b\")\n",
        "plt.show()"
      ],
      "execution_count": 6,
      "outputs": [
        {
          "output_type": "display_data",
          "data": {
            "image/png": "[encoded data removed]",
            "text/plain": [
              "<Figure size 432x288 with 1 Axes>"
            ]
          },
          "metadata": {
            "tags": [],
            "needs_background": "light"
          }
        },
        {
          "output_type": "display_data",
          "data": {
            "image/png": "[encoded data removed]",
            "text/plain": [
              "<Figure size 432x288 with 1 Axes>"
            ]
          },
          "metadata": {
            "tags": [],
            "needs_background": "light"
          }
        }
      ]
    },
    {
      "cell_type": "code",
      "metadata": {
        "id": "U5MUFjZR9MzJ",
        "colab_type": "code",
        "colab": {
          "base_uri": "https://localhost:8080/",
          "height": 34
        },
        "outputId": "86feb9a4-f254-4266-ec01-969c2457dbcb"
      },
      "source": [
        "#Object oriented method\n",
        "fig=plt.figure()"
      ],
      "execution_count": 7,
      "outputs": [
        {
          "output_type": "display_data",
          "data": {
            "text/plain": [
              "<Figure size 432x288 with 0 Axes>"
            ]
          },
          "metadata": {
            "tags": []
          }
        }
      ]
    },
    {
      "cell_type": "code",
      "metadata": {
        "id": "NorNcjEu9koN",
        "colab_type": "code",
        "colab": {
          "base_uri": "https://localhost:8080/",
          "height": 34
        },
        "outputId": "a5f0a583-fbf6-4b77-b8f6-24ee19b802a4"
      },
      "source": [
        "axes=fig.add_axes([0.1,0.1,0.8,0.8])\n",
        "\n",
        "axes.plot(x,y)\n",
        "#axes() takes in 4 arguments in a list. left, bottom, width, height range from 0 to 1 (percentage of the canvas you want to consume)"
      ],
      "execution_count": 8,
      "outputs": [
        {
          "output_type": "execute_result",
          "data": {
            "text/plain": [
              "[<matplotlib.lines.Line2D at 0x7f94e7626128>]"
            ]
          },
          "metadata": {
            "tags": []
          },
          "execution_count": 8
        }
      ]
    },
    {
      "cell_type": "code",
      "metadata": {
        "id": "upFjbt5h93hu",
        "colab_type": "code",
        "colab": {
          "base_uri": "https://localhost:8080/",
          "height": 296
        },
        "outputId": "ebf115b4-20f3-470a-b1e3-2d7be0088284"
      },
      "source": [
        "fig=plt.figure()\n",
        "axes=fig.add_axes([0.1,0.1,0.8,0.8])\n",
        "axes.plot(x,y)"
      ],
      "execution_count": 9,
      "outputs": [
        {
          "output_type": "execute_result",
          "data": {
            "text/plain": [
              "[<matplotlib.lines.Line2D at 0x7f94e7658588>]"
            ]
          },
          "metadata": {
            "tags": []
          },
          "execution_count": 9
        },
        {
          "output_type": "display_data",
          "data": {
            "image/png": "[encoded data removed]",
            "text/plain": [
              "<Figure size 432x288 with 1 Axes>"
            ]
          },
          "metadata": {
            "tags": [],
            "needs_background": "light"
          }
        }
      ]
    },
    {
      "cell_type": "code",
      "metadata": {
        "id": "O7AmsZBH-VZu",
        "colab_type": "code",
        "colab": {
          "base_uri": "https://localhost:8080/",
          "height": 325
        },
        "outputId": "4330f6bf-6323-4bd5-e1a9-31c26bcb24fc"
      },
      "source": [
        "fig=plt.figure()\n",
        "axes=fig.add_axes([0.1,0.1,0.8,0.8])\n",
        "axes.plot(x,y)\n",
        "axes.set_xlabel(\"x-axis\")\n",
        "axes.set_ylabel(\"y-axis\")\n",
        "axes.set_title(\"Graph\")"
      ],
      "execution_count": 10,
      "outputs": [
        {
          "output_type": "execute_result",
          "data": {
            "text/plain": [
              "Text(0.5, 1.0, 'Graph')"
            ]
          },
          "metadata": {
            "tags": []
          },
          "execution_count": 10
        },
        {
          "output_type": "display_data",
          "data": {
            "image/png": "[encoded data removed]",
            "text/plain": [
              "<Figure size 432x288 with 1 Axes>"
            ]
          },
          "metadata": {
            "tags": [],
            "needs_background": "light"
          }
        }
      ]
    },
    {
      "cell_type": "code",
      "metadata": {
        "id": "WIyAHHny--Mg",
        "colab_type": "code",
        "colab": {
          "base_uri": "https://localhost:8080/",
          "height": 294
        },
        "outputId": "a4281f71-eb58-4890-9483-b1a8a9b0a813"
      },
      "source": [
        "fig = plt.figure()\n",
        "\n",
        "x=np.linspace(0,5,11)\n",
        "y=x**2\n",
        "\n",
        "axes1 = fig.add_axes([0.1,0.1,0.8,0.8])\n",
        "\n",
        "axes1.plot(x,y)\n",
        "axes1.set_title(\"Larger\")\n",
        "plt.show()"
      ],
      "execution_count": 11,
      "outputs": [
        {
          "output_type": "display_data",
          "data": {
            "image/png": "[encoded data removed]",
            "text/plain": [
              "<Figure size 432x288 with 1 Axes>"
            ]
          },
          "metadata": {
            "tags": [],
            "needs_background": "light"
          }
        }
      ]
    },
    {
      "cell_type": "markdown",
      "metadata": {
        "id": "KoTTzZIcfcj_",
        "colab_type": "text"
      },
      "source": [
        "### **PART 2**"
      ]
    },
    {
      "cell_type": "code",
      "metadata": {
        "id": "ev6Oh6mHSE9Z",
        "colab_type": "code",
        "colab": {
          "base_uri": "https://localhost:8080/",
          "height": 265
        },
        "outputId": "6bbe8808-3047-4c8a-c338-2e9630af7e7c"
      },
      "source": [
        "fig,axes=plt.subplots(nrows=1,ncols=2)\n",
        "\n",
        "#axes is an iterable object (a list). so we can use for loop.\n",
        "\n",
        "for current_ax in axes:\n",
        "  current_ax.plot(x,y)"
      ],
      "execution_count": 14,
      "outputs": [
        {
          "output_type": "display_data",
          "data": {
            "image/png": "[encoded data removed]",
            "text/plain": [
              "<Figure size 432x288 with 2 Axes>"
            ]
          },
          "metadata": {
            "tags": [],
            "needs_background": "light"
          }
        }
      ]
    },
    {
      "cell_type": "code",
      "metadata": {
        "id": "z3TFLQSqSTwX",
        "colab_type": "code",
        "colab": {
          "base_uri": "https://localhost:8080/",
          "height": 70
        },
        "outputId": "65119aa9-8d06-43d7-9fbf-b8a0724348a7"
      },
      "source": [
        "axes #list"
      ],
      "execution_count": 16,
      "outputs": [
        {
          "output_type": "execute_result",
          "data": {
            "text/plain": [
              "array([<matplotlib.axes._subplots.AxesSubplot object at 0x7f94e75029e8>,\n",
              "       <matplotlib.axes._subplots.AxesSubplot object at 0x7f94e7135ef0>],\n",
              "      dtype=object)"
            ]
          },
          "metadata": {
            "tags": []
          },
          "execution_count": 16
        }
      ]
    },
    {
      "cell_type": "code",
      "metadata": {
        "id": "BBJxQD2fTlIZ",
        "colab_type": "code",
        "colab": {
          "base_uri": "https://localhost:8080/",
          "height": 297
        },
        "outputId": "de847a5c-4bf7-4c71-b5c0-57b6a249bbb1"
      },
      "source": [
        "fig,axes=plt.subplots(nrows=1,ncols=2)\n",
        "\n",
        "axes[0].plot(x,y) #index calling\n",
        "axes[0].set_xlabel(\"x-axis\")\n",
        "axes[0].set_ylabel(\"y-axis\")\n",
        "axes[0].set_title(\"First Plot\")\n",
        "\n",
        "axes[1].plot(y,x)\n",
        "axes[1].set_xlabel(\"x-axis\")\n",
        "axes[1].set_ylabel(\"y-axis\")\n",
        "axes[1].set_title(\"Second Plot\")\n",
        "\n",
        "plt.tight_layout() #takes care of the layout and orientation of the plots and prevents overlapping of the plots.\n",
        "#always recommended.\n",
        "\n",
        "plt.show()"
      ],
      "execution_count": 25,
      "outputs": [
        {
          "output_type": "display_data",
          "data": {
            "image/png": "[encoded data removed]",
            "text/plain": [
              "<Figure size 432x288 with 2 Axes>"
            ]
          },
          "metadata": {
            "tags": [],
            "needs_background": "light"
          }
        }
      ]
    },
    {
      "cell_type": "markdown",
      "metadata": {
        "id": "Ef5bkk4YUsOT",
        "colab_type": "text"
      },
      "source": [
        "**FIGURE SIZE, ASPECT RATIO, DPI (dots per inch)**"
      ]
    },
    {
      "cell_type": "code",
      "metadata": {
        "id": "P92M6TRyT0_g",
        "colab_type": "code",
        "colab": {
          "base_uri": "https://localhost:8080/",
          "height": 210
        },
        "outputId": "e9bbafd8-8a0d-43f1-a1d5-74b31bfbe295"
      },
      "source": [
        "import matplotlib.pyplot as plt\n",
        "\n",
        "fig=plt.figure(figsize=(3,2)) #figsize=(width, height)\n",
        "\n",
        "ax=fig.add_axes([0,0,1,1])\n",
        "ax.plot(x,y)"
      ],
      "execution_count": 29,
      "outputs": [
        {
          "output_type": "execute_result",
          "data": {
            "text/plain": [
              "[<matplotlib.lines.Line2D at 0x7f94e6cc8898>]"
            ]
          },
          "metadata": {
            "tags": []
          },
          "execution_count": 29
        },
        {
          "output_type": "display_data",
          "data": {
            "image/png": "[encoded data removed]",
            "text/plain": [
              "<Figure size 216x144 with 1 Axes>"
            ]
          },
          "metadata": {
            "tags": [],
            "needs_background": "light"
          }
        }
      ]
    },
    {
      "cell_type": "code",
      "metadata": {
        "id": "EURV9i03VxkV",
        "colab_type": "code",
        "colab": {
          "base_uri": "https://localhost:8080/",
          "height": 239
        },
        "outputId": "1dd7a160-cc32-41de-acd1-00934f5b3880"
      },
      "source": [
        "fig=plt.figure(figsize=(4,2)) \n",
        "axes=fig.add_axes([0,0,1,1])\n",
        "axes.plot(x,y)\n",
        "axes.set_xlabel(\"x-axis\")\n",
        "axes.set_ylabel(\"y-axis\")\n",
        "axes.set_title(\"Graph\")"
      ],
      "execution_count": 33,
      "outputs": [
        {
          "output_type": "execute_result",
          "data": {
            "text/plain": [
              "Text(0.5, 1.0, 'Graph')"
            ]
          },
          "metadata": {
            "tags": []
          },
          "execution_count": 33
        },
        {
          "output_type": "display_data",
          "data": {
            "image/png": "[encoded data removed]",
            "text/plain": [
              "<Figure size 288x144 with 1 Axes>"
            ]
          },
          "metadata": {
            "tags": [],
            "needs_background": "light"
          }
        }
      ]
    },
    {
      "cell_type": "code",
      "metadata": {
        "id": "PGQVcAgDZMFl",
        "colab_type": "code",
        "colab": {
          "base_uri": "https://localhost:8080/",
          "height": 153
        },
        "outputId": "d310ab87-d571-4849-b4ea-a1b638116f61"
      },
      "source": [
        "fig,axes=plt.subplots(nrows=1,ncols=2,figsize=(4,2))\n",
        "axes[0].plot(x,y)\n",
        "axes[1].plot(y,x)\n",
        "\n",
        "plt.tight_layout()\n",
        "plt.show()"
      ],
      "execution_count": 45,
      "outputs": [
        {
          "output_type": "display_data",
          "data": {
            "image/png": "[encoded data removed]",
            "text/plain": [
              "<Figure size 288x144 with 2 Axes>"
            ]
          },
          "metadata": {
            "tags": [],
            "needs_background": "light"
          }
        }
      ]
    },
    {
      "cell_type": "markdown",
      "metadata": {
        "id": "tZ-RgynmZ9Ti",
        "colab_type": "text"
      },
      "source": [
        "to save the plots in the form of a png or jpeg or jpg or svg etc, use the following method\n",
        "\n",
        "`fig.savefig('my_plot.svg') or\n",
        "fig.savefig('myplot.png') etc`<br>\n",
        "you can even specify the dpi if you want"
      ]
    },
    {
      "cell_type": "code",
      "metadata": {
        "id": "sKESQWjBZTUN",
        "colab_type": "code",
        "colab": {
          "base_uri": "https://localhost:8080/",
          "height": 264
        },
        "outputId": "e042af3f-4585-4acc-e49e-fb4b59589db0"
      },
      "source": [
        "fig=plt.figure(figsize=(5,3))\n",
        "\n",
        "axes=fig.add_axes([0,0,1,1])\n",
        "axes.plot(x,x**2,label=\"x squared\")\n",
        "axes.plot(x,x**3,label=\"x cubed\")\n",
        "\n",
        "axes.legend(loc=0) #goes to the respective plots and checks if there are any labels present\n",
        "#loc=0 chooses the best location to place the legend\n",
        "\n",
        "axes.plot()\n",
        "plt.show()"
      ],
      "execution_count": 50,
      "outputs": [
        {
          "output_type": "display_data",
          "data": {
            "image/png": "[encoded data removed]",
            "text/plain": [
              "<Figure size 360x216 with 1 Axes>"
            ]
          },
          "metadata": {
            "tags": [],
            "needs_background": "light"
          }
        }
      ]
    },
    {
      "cell_type": "markdown",
      "metadata": {
        "id": "3xg-TeyTfm1u",
        "colab_type": "text"
      },
      "source": [
        "### **PART 3**"
      ]
    },
    {
      "cell_type": "markdown",
      "metadata": {
        "id": "cvYAN9VFfsQT",
        "colab_type": "text"
      },
      "source": [
        "**PLOT APPEARANCE**"
      ]
    },
    {
      "cell_type": "code",
      "metadata": {
        "id": "PZv9RDM1d7Yw",
        "colab_type": "code",
        "colab": {
          "base_uri": "https://localhost:8080/",
          "height": 282
        },
        "outputId": "c327066f-9e45-4aba-a726-36195268e451"
      },
      "source": [
        "fig=plt.figure(figsize=(4,3))\n",
        "\n",
        "x=np.linspace(0,5,11)\n",
        "y=x**2\n",
        "\n",
        "axes=fig.add_axes([0,0,1,1])\n",
        "axes.plot(x, y, color=\"#05dfd7\")\n",
        "#linewidth default is set to 1\n",
        "#for transparency, use alpha"
      ],
      "execution_count": 63,
      "outputs": [
        {
          "output_type": "execute_result",
          "data": {
            "text/plain": [
              "[<matplotlib.lines.Line2D at 0x7f94e416f748>]"
            ]
          },
          "metadata": {
            "tags": []
          },
          "execution_count": 63
        },
        {
          "output_type": "display_data",
          "data": {
            "image/png": "[encoded data removed]",
            "text/plain": [
              "<Figure size 288x216 with 1 Axes>"
            ]
          },
          "metadata": {
            "tags": [],
            "needs_background": "light"
          }
        }
      ]
    },
    {
      "cell_type": "code",
      "metadata": {
        "id": "_X-lZn7KgFIa",
        "colab_type": "code",
        "colab": {
          "base_uri": "https://localhost:8080/",
          "height": 282
        },
        "outputId": "7a10999f-2339-4397-cd82-cf4124e3f8ee"
      },
      "source": [
        "fig=plt.figure(figsize=(4,3))\n",
        "\n",
        "x=np.linspace(0,5,11)\n",
        "y=x**2\n",
        "\n",
        "axes=fig.add_axes([0,0,1,1])\n",
        "axes.plot(x, y, color=\"#05dfd7\", linewidth=3, alpha=0.5)\n",
        "#linewidth default is set to 1 (linewidth or lw)\n",
        "#for transparency, use alpha"
      ],
      "execution_count": 64,
      "outputs": [
        {
          "output_type": "execute_result",
          "data": {
            "text/plain": [
              "[<matplotlib.lines.Line2D at 0x7f94e6dadfd0>]"
            ]
          },
          "metadata": {
            "tags": []
          },
          "execution_count": 64
        },
        {
          "output_type": "display_data",
          "data": {
            "image/png": "[encoded data removed]",
            "text/plain": [
              "<Figure size 288x216 with 1 Axes>"
            ]
          },
          "metadata": {
            "tags": [],
            "needs_background": "light"
          }
        }
      ]
    },
    {
      "cell_type": "code",
      "metadata": {
        "id": "0wUWZFFAhTnT",
        "colab_type": "code",
        "colab": {
          "base_uri": "https://localhost:8080/",
          "height": 264
        },
        "outputId": "ca23bb46-9984-4162-c83e-2d550bf55287"
      },
      "source": [
        "fig=plt.figure(figsize=(4,3))\n",
        "axes=fig.add_axes([0,0,1,1])\n",
        "\n",
        "x=np.linspace(0,5,11)\n",
        "y=x**3\n",
        "\n",
        "axes.plot(x, y, color=\"#c4fb6d\", lw=3, linestyle=\"-\",marker=\"o\",\n",
        "          markerfacecolor=\"blue\",markeredgecolor=\"black\")\n",
        "\n",
        "plt.show()"
      ],
      "execution_count": 89,
      "outputs": [
        {
          "output_type": "display_data",
          "data": {
            "image/png": "[encoded data removed]",
            "text/plain": [
              "<Figure size 288x216 with 1 Axes>"
            ]
          },
          "metadata": {
            "tags": [],
            "needs_background": "light"
          }
        }
      ]
    },
    {
      "cell_type": "code",
      "metadata": {
        "id": "GCeVJ-P8hrkm",
        "colab_type": "code",
        "colab": {
          "base_uri": "https://localhost:8080/",
          "height": 268
        },
        "outputId": "b06b954d-99e5-4a8b-ceab-2de848915dc4"
      },
      "source": [
        "fig=plt.figure(figsize=(4,3))\n",
        "axes=fig.add_axes([0,0,1,1])\n",
        "\n",
        "x=np.linspace(0,5,11)\n",
        "y=x**3\n",
        "\n",
        "axes.plot(x, y, color=\"#c4fb6d\", lw=3, linestyle=\"-\")\n",
        "axes.set_xlim([0,3])\n",
        "axes.set_ylim([0,30])\n",
        "\n",
        "#set_xlim and set_ylim are used to plot the graph in a specific limit\n",
        "\n",
        "plt.show()"
      ],
      "execution_count": 93,
      "outputs": [
        {
          "output_type": "display_data",
          "data": {
            "image/png": "[encoded data removed]",
            "text/plain": [
              "<Figure size 288x216 with 1 Axes>"
            ]
          },
          "metadata": {
            "tags": [],
            "needs_background": "light"
          }
        }
      ]
    },
    {
      "cell_type": "markdown",
      "metadata": {
        "id": "wNI5VhLpk3DC",
        "colab_type": "text"
      },
      "source": [
        "**SPECIAL PLOT TYPES**"
      ]
    },
    {
      "cell_type": "markdown",
      "metadata": {
        "id": "zXhj7IsilZc1",
        "colab_type": "text"
      },
      "source": [
        "Matplotlib offers many different types of data visualisation. Not only line graphs, but also histograms, pie charts, scattered graphs, ploygons etc. But \"Seaborn\" which is based on Matplotlib offers more than Matplotlib for data visualisation. And about Seaborn, is in the next notebook."
      ]
    }
  ]
}
