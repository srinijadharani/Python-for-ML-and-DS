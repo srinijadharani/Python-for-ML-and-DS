{
  "nbformat": 4,
  "nbformat_minor": 0,
  "metadata": {
    "colab": {
      "name": "Day2(Pandas).ipynb",
      "provenance": [],
      "authorship_tag": "ABX9TyPWKcx/Y0JKrTfM3pYcinD8",
      "include_colab_link": true
    },
    "kernelspec": {
      "name": "python3",
      "display_name": "Python 3"
    }
  },
  "cells": [
    {
      "cell_type": "markdown",
      "metadata": {
        "id": "view-in-github",
        "colab_type": "text"
      },
      "source": [
        "<a href=\"https://colab.research.google.com/github/srinijadharani/Python-for-ML-and-Data-Science/blob/master/Day2(Pandas).ipynb\" target=\"_parent\"><img src=\"https://colab.research.google.com/assets/colab-badge.svg\" alt=\"Open In Colab\"/></a>"
      ]
    },
    {
      "cell_type": "markdown",
      "metadata": {
        "id": "-_0TI8iODlTg",
        "colab_type": "text"
      },
      "source": [
        "# **PANDAS**<br>\n",
        "1. Open source library built on top of NumPy\n",
        "2. Fast analysis and data cleaning and preparation\n",
        "3. Excels in performance and productivity\n",
        "4. Built-in visualisation features"
      ]
    },
    {
      "cell_type": "markdown",
      "metadata": {
        "id": "ewkDqf6DD96U",
        "colab_type": "text"
      },
      "source": [
        "**SERIES**<br>\n",
        "This data type is very similar to NumPy arrays and in fact, it is built on top of a NumPy array object. Bute the main difference is that series can have access labels."
      ]
    },
    {
      "cell_type": "code",
      "metadata": {
        "id": "km0xDZMC-BG6",
        "colab_type": "code",
        "colab": {}
      },
      "source": [
        "import numpy as np"
      ],
      "execution_count": 1,
      "outputs": []
    },
    {
      "cell_type": "code",
      "metadata": {
        "id": "DtgWvj0gEiiL",
        "colab_type": "code",
        "colab": {}
      },
      "source": [
        "import pandas as pd"
      ],
      "execution_count": 2,
      "outputs": []
    },
    {
      "cell_type": "code",
      "metadata": {
        "id": "kV35zkKHEnkL",
        "colab_type": "code",
        "colab": {}
      },
      "source": [
        "labels = [\"a\",\"b\",\"c\"]\n",
        "my_data = [10,20,30]\n",
        "arr = np.array(my_data)\n",
        "d = {\"ten\":10,\"twenty\":20,\"thirty\":30}"
      ],
      "execution_count": 10,
      "outputs": []
    },
    {
      "cell_type": "code",
      "metadata": {
        "id": "yUnbeSJ_FnNx",
        "colab_type": "code",
        "colab": {
          "base_uri": "https://localhost:8080/",
          "height": 87
        },
        "outputId": "cf2a4b1c-09f3-415e-eac1-afcd21053a36"
      },
      "source": [
        "pd.Series(data = my_data) #data is a keyword here. It is an attribute"
      ],
      "execution_count": 11,
      "outputs": [
        {
          "output_type": "execute_result",
          "data": {
            "text/plain": [
              "0    10\n",
              "1    20\n",
              "2    30\n",
              "dtype: int64"
            ]
          },
          "metadata": {
            "tags": []
          },
          "execution_count": 11
        }
      ]
    },
    {
      "cell_type": "code",
      "metadata": {
        "id": "WioXXENJFrhp",
        "colab_type": "code",
        "colab": {
          "base_uri": "https://localhost:8080/",
          "height": 87
        },
        "outputId": "81def8f1-f607-4a4b-cf34-f581bdf89bb6"
      },
      "source": [
        "pd.Series(data = my_data, index = labels)"
      ],
      "execution_count": 12,
      "outputs": [
        {
          "output_type": "execute_result",
          "data": {
            "text/plain": [
              "a    10\n",
              "b    20\n",
              "c    30\n",
              "dtype: int64"
            ]
          },
          "metadata": {
            "tags": []
          },
          "execution_count": 12
        }
      ]
    },
    {
      "cell_type": "code",
      "metadata": {
        "id": "WvQHco3bF1cA",
        "colab_type": "code",
        "colab": {
          "base_uri": "https://localhost:8080/",
          "height": 87
        },
        "outputId": "db152348-8089-4b90-be0c-3aae88fc5ff6"
      },
      "source": [
        "pd.Series(my_data,labels)"
      ],
      "execution_count": 13,
      "outputs": [
        {
          "output_type": "execute_result",
          "data": {
            "text/plain": [
              "a    10\n",
              "b    20\n",
              "c    30\n",
              "dtype: int64"
            ]
          },
          "metadata": {
            "tags": []
          },
          "execution_count": 13
        }
      ]
    },
    {
      "cell_type": "code",
      "metadata": {
        "id": "325VKe50GBXx",
        "colab_type": "code",
        "colab": {
          "base_uri": "https://localhost:8080/",
          "height": 87
        },
        "outputId": "6abf8cc9-2300-413d-feaa-c529dfbfe491"
      },
      "source": [
        "pd.Series(arr, labels)"
      ],
      "execution_count": 14,
      "outputs": [
        {
          "output_type": "execute_result",
          "data": {
            "text/plain": [
              "a    10\n",
              "b    20\n",
              "c    30\n",
              "dtype: int64"
            ]
          },
          "metadata": {
            "tags": []
          },
          "execution_count": 14
        }
      ]
    },
    {
      "cell_type": "code",
      "metadata": {
        "id": "ibfVCoPUGOIM",
        "colab_type": "code",
        "colab": {
          "base_uri": "https://localhost:8080/",
          "height": 87
        },
        "outputId": "acb3720a-c914-4a45-9f8c-3405f9658d97"
      },
      "source": [
        "pd.Series(d)"
      ],
      "execution_count": 15,
      "outputs": [
        {
          "output_type": "execute_result",
          "data": {
            "text/plain": [
              "ten       10\n",
              "twenty    20\n",
              "thirty    30\n",
              "dtype: int64"
            ]
          },
          "metadata": {
            "tags": []
          },
          "execution_count": 15
        }
      ]
    },
    {
      "cell_type": "code",
      "metadata": {
        "id": "j_W7uFm5GR8W",
        "colab_type": "code",
        "colab": {
          "base_uri": "https://localhost:8080/",
          "height": 87
        },
        "outputId": "b1d19a1d-3e5a-4521-e239-2894d37f8234"
      },
      "source": [
        "pd.Series(arr)"
      ],
      "execution_count": 16,
      "outputs": [
        {
          "output_type": "execute_result",
          "data": {
            "text/plain": [
              "0    10\n",
              "1    20\n",
              "2    30\n",
              "dtype: int64"
            ]
          },
          "metadata": {
            "tags": []
          },
          "execution_count": 16
        }
      ]
    },
    {
      "cell_type": "code",
      "metadata": {
        "id": "7rSboYwjGyAl",
        "colab_type": "code",
        "colab": {
          "base_uri": "https://localhost:8080/",
          "height": 87
        },
        "outputId": "7bda6155-11a6-4b6a-a496-57cb11520d55"
      },
      "source": [
        "pd.Series(data=labels) #Series can hold any data type."
      ],
      "execution_count": 18,
      "outputs": [
        {
          "output_type": "execute_result",
          "data": {
            "text/plain": [
              "0    a\n",
              "1    b\n",
              "2    c\n",
              "dtype: object"
            ]
          },
          "metadata": {
            "tags": []
          },
          "execution_count": 18
        }
      ]
    },
    {
      "cell_type": "code",
      "metadata": {
        "id": "BhuvMsjbG0vJ",
        "colab_type": "code",
        "colab": {
          "base_uri": "https://localhost:8080/",
          "height": 87
        },
        "outputId": "50a132bc-ed9d-4010-8d7e-a417f4ba5c42"
      },
      "source": [
        "pd.Series(data = [sum,len,print]) #this holds the references to the built-in functions"
      ],
      "execution_count": 20,
      "outputs": [
        {
          "output_type": "execute_result",
          "data": {
            "text/plain": [
              "0      <built-in function sum>\n",
              "1      <built-in function len>\n",
              "2    <built-in function print>\n",
              "dtype: object"
            ]
          },
          "metadata": {
            "tags": []
          },
          "execution_count": 20
        }
      ]
    },
    {
      "cell_type": "code",
      "metadata": {
        "id": "X3JU9gYsHDjm",
        "colab_type": "code",
        "colab": {}
      },
      "source": [
        "ser1 = pd.Series([1,2,3,4],[\"Hello\",\"Hola\",\"Ciao\",\"Bonjour\"])"
      ],
      "execution_count": 21,
      "outputs": []
    },
    {
      "cell_type": "code",
      "metadata": {
        "id": "hoFJNJFFHndw",
        "colab_type": "code",
        "colab": {
          "base_uri": "https://localhost:8080/",
          "height": 105
        },
        "outputId": "3e0e72f9-e679-47df-c905-953344fded65"
      },
      "source": [
        "ser1"
      ],
      "execution_count": 22,
      "outputs": [
        {
          "output_type": "execute_result",
          "data": {
            "text/plain": [
              "Hello      1\n",
              "Hola       2\n",
              "Ciao       3\n",
              "Bonjour    4\n",
              "dtype: int64"
            ]
          },
          "metadata": {
            "tags": []
          },
          "execution_count": 22
        }
      ]
    },
    {
      "cell_type": "code",
      "metadata": {
        "id": "b9gzlzNfHpfV",
        "colab_type": "code",
        "colab": {
          "base_uri": "https://localhost:8080/",
          "height": 105
        },
        "outputId": "acc26f1b-2e4d-4e2b-8ed1-579e5b69c0bc"
      },
      "source": [
        "ser2 = pd.Series([1,2,3,4],[\"Hello\",\"Hallo\",\"Ciao\",\"Bonjour\"])\n",
        "ser2"
      ],
      "execution_count": 23,
      "outputs": [
        {
          "output_type": "execute_result",
          "data": {
            "text/plain": [
              "Hello      1\n",
              "Hallo      2\n",
              "Ciao       3\n",
              "Bonjour    4\n",
              "dtype: int64"
            ]
          },
          "metadata": {
            "tags": []
          },
          "execution_count": 23
        }
      ]
    },
    {
      "cell_type": "code",
      "metadata": {
        "id": "02hdltOFIhnX",
        "colab_type": "code",
        "colab": {
          "base_uri": "https://localhost:8080/",
          "height": 122
        },
        "outputId": "617ebeb2-7d6c-4b80-c019-bd727ae7a093"
      },
      "source": [
        "ser1 +ser2"
      ],
      "execution_count": 24,
      "outputs": [
        {
          "output_type": "execute_result",
          "data": {
            "text/plain": [
              "Bonjour    8.0\n",
              "Ciao       6.0\n",
              "Hallo      NaN\n",
              "Hello      2.0\n",
              "Hola       NaN\n",
              "dtype: float64"
            ]
          },
          "metadata": {
            "tags": []
          },
          "execution_count": 24
        }
      ]
    },
    {
      "cell_type": "markdown",
      "metadata": {
        "id": "NMZVKgh3IyJT",
        "colab_type": "text"
      },
      "source": [
        "Pandas and NumPy when working togther, convert integers into floating point values."
      ]
    }
  ]
}