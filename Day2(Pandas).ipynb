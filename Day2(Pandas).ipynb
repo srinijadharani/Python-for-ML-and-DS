{
  "nbformat": 4,
  "nbformat_minor": 0,
  "metadata": {
    "colab": {
      "name": "Day2(Pandas).ipynb",
      "provenance": [],
      "collapsed_sections": [],
      "authorship_tag": "ABX9TyMuPQzz5u5V7NctDL1XzemR",
      "include_colab_link": true
    },
    "kernelspec": {
      "name": "python3",
      "display_name": "Python 3"
    }
  },
  "cells": [
    {
      "cell_type": "markdown",
      "metadata": {
        "id": "view-in-github",
        "colab_type": "text"
      },
      "source": [
        "<a href=\"https://colab.research.google.com/github/srinijadharani/Python-for-ML-and-DS/blob/master/Day2(Pandas).ipynb\" target=\"_parent\"><img src=\"https://colab.research.google.com/assets/colab-badge.svg\" alt=\"Open In Colab\"/></a>"
      ]
    },
    {
      "cell_type": "markdown",
      "metadata": {
        "id": "-_0TI8iODlTg",
        "colab_type": "text"
      },
      "source": [
        "# **PANDAS**<br>\n",
        "1. Open source library built on top of NumPy\n",
        "2. Fast analysis and data cleaning and preparation\n",
        "3. Excels in performance and productivity\n",
        "4. Built-in visualisation features"
      ]
    },
    {
      "cell_type": "markdown",
      "metadata": {
        "id": "ewkDqf6DD96U",
        "colab_type": "text"
      },
      "source": [
        "**SERIES**<br>\n",
        "This data type is very similar to NumPy arrays and in fact, it is built on top of a NumPy array object. But the main difference is that series can have access labels."
      ]
    },
    {
      "cell_type": "code",
      "metadata": {
        "id": "km0xDZMC-BG6",
        "colab_type": "code",
        "colab": {}
      },
      "source": [
        "import numpy as np"
      ],
      "execution_count": 1,
      "outputs": []
    },
    {
      "cell_type": "code",
      "metadata": {
        "id": "DtgWvj0gEiiL",
        "colab_type": "code",
        "colab": {}
      },
      "source": [
        "import pandas as pd"
      ],
      "execution_count": 2,
      "outputs": []
    },
    {
      "cell_type": "code",
      "metadata": {
        "id": "kV35zkKHEnkL",
        "colab_type": "code",
        "colab": {}
      },
      "source": [
        "labels = [\"a\",\"b\",\"c\"]\n",
        "my_data = [10,20,30]\n",
        "arr = np.array(my_data)\n",
        "d = {\"ten\":10,\"twenty\":20,\"thirty\":30}"
      ],
      "execution_count": 3,
      "outputs": []
    },
    {
      "cell_type": "code",
      "metadata": {
        "id": "yUnbeSJ_FnNx",
        "colab_type": "code",
        "colab": {
          "base_uri": "https://localhost:8080/",
          "height": 87
        },
        "outputId": "6f12bccb-94f7-4b96-f94f-638c3c37d306"
      },
      "source": [
        "pd.Series(data = my_data) #data is a keyword here. It is an attribute"
      ],
      "execution_count": 4,
      "outputs": [
        {
          "output_type": "execute_result",
          "data": {
            "text/plain": [
              "0    10\n",
              "1    20\n",
              "2    30\n",
              "dtype: int64"
            ]
          },
          "metadata": {
            "tags": []
          },
          "execution_count": 4
        }
      ]
    },
    {
      "cell_type": "code",
      "metadata": {
        "id": "WioXXENJFrhp",
        "colab_type": "code",
        "colab": {
          "base_uri": "https://localhost:8080/",
          "height": 87
        },
        "outputId": "65f76037-afee-4ae5-86e0-4fb6ee416f32"
      },
      "source": [
        "pd.Series(data = my_data, index = labels)"
      ],
      "execution_count": 5,
      "outputs": [
        {
          "output_type": "execute_result",
          "data": {
            "text/plain": [
              "a    10\n",
              "b    20\n",
              "c    30\n",
              "dtype: int64"
            ]
          },
          "metadata": {
            "tags": []
          },
          "execution_count": 5
        }
      ]
    },
    {
      "cell_type": "code",
      "metadata": {
        "id": "WvQHco3bF1cA",
        "colab_type": "code",
        "colab": {
          "base_uri": "https://localhost:8080/",
          "height": 87
        },
        "outputId": "278213a2-45c9-4048-fb1d-cf7f832fa884"
      },
      "source": [
        "pd.Series(my_data,labels)"
      ],
      "execution_count": 6,
      "outputs": [
        {
          "output_type": "execute_result",
          "data": {
            "text/plain": [
              "a    10\n",
              "b    20\n",
              "c    30\n",
              "dtype: int64"
            ]
          },
          "metadata": {
            "tags": []
          },
          "execution_count": 6
        }
      ]
    },
    {
      "cell_type": "code",
      "metadata": {
        "id": "325VKe50GBXx",
        "colab_type": "code",
        "colab": {
          "base_uri": "https://localhost:8080/",
          "height": 87
        },
        "outputId": "7b697499-c8cd-4eac-8eb5-59b59e12c26c"
      },
      "source": [
        "pd.Series(arr, labels)"
      ],
      "execution_count": 7,
      "outputs": [
        {
          "output_type": "execute_result",
          "data": {
            "text/plain": [
              "a    10\n",
              "b    20\n",
              "c    30\n",
              "dtype: int64"
            ]
          },
          "metadata": {
            "tags": []
          },
          "execution_count": 7
        }
      ]
    },
    {
      "cell_type": "code",
      "metadata": {
        "id": "ibfVCoPUGOIM",
        "colab_type": "code",
        "colab": {
          "base_uri": "https://localhost:8080/",
          "height": 87
        },
        "outputId": "c25b5542-6131-4c93-afd1-e8b187d85015"
      },
      "source": [
        "pd.Series(d)"
      ],
      "execution_count": 8,
      "outputs": [
        {
          "output_type": "execute_result",
          "data": {
            "text/plain": [
              "ten       10\n",
              "twenty    20\n",
              "thirty    30\n",
              "dtype: int64"
            ]
          },
          "metadata": {
            "tags": []
          },
          "execution_count": 8
        }
      ]
    },
    {
      "cell_type": "code",
      "metadata": {
        "id": "j_W7uFm5GR8W",
        "colab_type": "code",
        "colab": {
          "base_uri": "https://localhost:8080/",
          "height": 87
        },
        "outputId": "39c4c26b-82b0-4f14-d193-8defbe87d055"
      },
      "source": [
        "pd.Series(arr)"
      ],
      "execution_count": 9,
      "outputs": [
        {
          "output_type": "execute_result",
          "data": {
            "text/plain": [
              "0    10\n",
              "1    20\n",
              "2    30\n",
              "dtype: int64"
            ]
          },
          "metadata": {
            "tags": []
          },
          "execution_count": 9
        }
      ]
    },
    {
      "cell_type": "code",
      "metadata": {
        "id": "7rSboYwjGyAl",
        "colab_type": "code",
        "colab": {
          "base_uri": "https://localhost:8080/",
          "height": 87
        },
        "outputId": "c3d137e4-42ca-44e9-d5ba-153f8bbb71d5"
      },
      "source": [
        "pd.Series(data=labels) #Series can hold any data type."
      ],
      "execution_count": 10,
      "outputs": [
        {
          "output_type": "execute_result",
          "data": {
            "text/plain": [
              "0    a\n",
              "1    b\n",
              "2    c\n",
              "dtype: object"
            ]
          },
          "metadata": {
            "tags": []
          },
          "execution_count": 10
        }
      ]
    },
    {
      "cell_type": "code",
      "metadata": {
        "id": "BhuvMsjbG0vJ",
        "colab_type": "code",
        "colab": {
          "base_uri": "https://localhost:8080/",
          "height": 87
        },
        "outputId": "25ca276b-d124-48ba-ef4b-c37bb3fe84aa"
      },
      "source": [
        "pd.Series(data = [sum,len,print]) #this holds the references to the built-in functions"
      ],
      "execution_count": 11,
      "outputs": [
        {
          "output_type": "execute_result",
          "data": {
            "text/plain": [
              "0      <built-in function sum>\n",
              "1      <built-in function len>\n",
              "2    <built-in function print>\n",
              "dtype: object"
            ]
          },
          "metadata": {
            "tags": []
          },
          "execution_count": 11
        }
      ]
    },
    {
      "cell_type": "code",
      "metadata": {
        "id": "X3JU9gYsHDjm",
        "colab_type": "code",
        "colab": {}
      },
      "source": [
        "ser1 = pd.Series([1,2,3,4],[\"Hello\",\"Hola\",\"Ciao\",\"Bonjour\"])"
      ],
      "execution_count": 12,
      "outputs": []
    },
    {
      "cell_type": "code",
      "metadata": {
        "id": "hoFJNJFFHndw",
        "colab_type": "code",
        "colab": {
          "base_uri": "https://localhost:8080/",
          "height": 105
        },
        "outputId": "5d48c2b4-a5b9-4817-f9ad-25ae4bf62e08"
      },
      "source": [
        "ser1"
      ],
      "execution_count": 13,
      "outputs": [
        {
          "output_type": "execute_result",
          "data": {
            "text/plain": [
              "Hello      1\n",
              "Hola       2\n",
              "Ciao       3\n",
              "Bonjour    4\n",
              "dtype: int64"
            ]
          },
          "metadata": {
            "tags": []
          },
          "execution_count": 13
        }
      ]
    },
    {
      "cell_type": "code",
      "metadata": {
        "id": "b9gzlzNfHpfV",
        "colab_type": "code",
        "colab": {
          "base_uri": "https://localhost:8080/",
          "height": 105
        },
        "outputId": "2363324a-5766-4cbf-ba15-2dd9af3b7a41"
      },
      "source": [
        "ser2 = pd.Series([1,2,3,4],[\"Hello\",\"Hallo\",\"Ciao\",\"Bonjour\"])\n",
        "ser2"
      ],
      "execution_count": 14,
      "outputs": [
        {
          "output_type": "execute_result",
          "data": {
            "text/plain": [
              "Hello      1\n",
              "Hallo      2\n",
              "Ciao       3\n",
              "Bonjour    4\n",
              "dtype: int64"
            ]
          },
          "metadata": {
            "tags": []
          },
          "execution_count": 14
        }
      ]
    },
    {
      "cell_type": "code",
      "metadata": {
        "id": "02hdltOFIhnX",
        "colab_type": "code",
        "colab": {
          "base_uri": "https://localhost:8080/",
          "height": 122
        },
        "outputId": "d9cd3d06-5b54-4a0c-a766-c05d4be8222c"
      },
      "source": [
        "ser1 +ser2"
      ],
      "execution_count": 15,
      "outputs": [
        {
          "output_type": "execute_result",
          "data": {
            "text/plain": [
              "Bonjour    8.0\n",
              "Ciao       6.0\n",
              "Hallo      NaN\n",
              "Hello      2.0\n",
              "Hola       NaN\n",
              "dtype: float64"
            ]
          },
          "metadata": {
            "tags": []
          },
          "execution_count": 15
        }
      ]
    },
    {
      "cell_type": "markdown",
      "metadata": {
        "id": "NMZVKgh3IyJT",
        "colab_type": "text"
      },
      "source": [
        "Pandas and NumPy while working together, convert integers into floating point values."
      ]
    },
    {
      "cell_type": "markdown",
      "metadata": {
        "id": "XLkOmXZKeuIY",
        "colab_type": "text"
      },
      "source": [
        "## **DATAFRAMES**"
      ]
    },
    {
      "cell_type": "markdown",
      "metadata": {
        "id": "s55RpQ8IGQXH",
        "colab_type": "text"
      },
      "source": [
        "**DATAFRAMES_1**"
      ]
    },
    {
      "cell_type": "code",
      "metadata": {
        "id": "vgSAfhKUeyQj",
        "colab_type": "code",
        "colab": {}
      },
      "source": [
        "import numpy as np\n",
        "import pandas as pd"
      ],
      "execution_count": 16,
      "outputs": []
    },
    {
      "cell_type": "code",
      "metadata": {
        "id": "p2NojByHe7o3",
        "colab_type": "code",
        "colab": {}
      },
      "source": [
        "from numpy.random import randn"
      ],
      "execution_count": 17,
      "outputs": []
    },
    {
      "cell_type": "markdown",
      "metadata": {
        "id": "w2S13eUMEMki",
        "colab_type": "text"
      },
      "source": [
        "Seed function is used to save the state of a random function, so that it can generate same random numbers on multiple executions of the code on the same machine or on different machines (for a specific seed value)."
      ]
    },
    {
      "cell_type": "code",
      "metadata": {
        "id": "vVWiXpfwfRf2",
        "colab_type": "code",
        "colab": {}
      },
      "source": [
        "np.random.seed(101)"
      ],
      "execution_count": 18,
      "outputs": []
    },
    {
      "cell_type": "code",
      "metadata": {
        "id": "6b0m1QQ4fV8A",
        "colab_type": "code",
        "colab": {}
      },
      "source": [
        "df = pd.DataFrame(randn(5,4),[\"A\",\"B\",\"C\",\"D\",\"E\"],[\"W\",\"X\",\"Y\",\"Z\"]) #manually creating a DataFrame"
      ],
      "execution_count": 19,
      "outputs": []
    },
    {
      "cell_type": "code",
      "metadata": {
        "id": "1zHBwaNbf3HK",
        "colab_type": "code",
        "colab": {
          "base_uri": "https://localhost:8080/",
          "height": 199
        },
        "outputId": "c4bb6bc9-4980-4aaf-d2d6-f81336420132"
      },
      "source": [
        "df"
      ],
      "execution_count": 20,
      "outputs": [
        {
          "output_type": "execute_result",
          "data": {
            "text/html": [
              "<div>\n",
              "<style scoped>\n",
              "    .dataframe tbody tr th:only-of-type {\n",
              "        vertical-align: middle;\n",
              "    }\n",
              "\n",
              "    .dataframe tbody tr th {\n",
              "        vertical-align: top;\n",
              "    }\n",
              "\n",
              "    .dataframe thead th {\n",
              "        text-align: right;\n",
              "    }\n",
              "</style>\n",
              "<table border=\"1\" class=\"dataframe\">\n",
              "  <thead>\n",
              "    <tr style=\"text-align: right;\">\n",
              "      <th></th>\n",
              "      <th>W</th>\n",
              "      <th>X</th>\n",
              "      <th>Y</th>\n",
              "      <th>Z</th>\n",
              "    </tr>\n",
              "  </thead>\n",
              "  <tbody>\n",
              "    <tr>\n",
              "      <th>A</th>\n",
              "      <td>2.706850</td>\n",
              "      <td>0.628133</td>\n",
              "      <td>0.907969</td>\n",
              "      <td>0.503826</td>\n",
              "    </tr>\n",
              "    <tr>\n",
              "      <th>B</th>\n",
              "      <td>0.651118</td>\n",
              "      <td>-0.319318</td>\n",
              "      <td>-0.848077</td>\n",
              "      <td>0.605965</td>\n",
              "    </tr>\n",
              "    <tr>\n",
              "      <th>C</th>\n",
              "      <td>-2.018168</td>\n",
              "      <td>0.740122</td>\n",
              "      <td>0.528813</td>\n",
              "      <td>-0.589001</td>\n",
              "    </tr>\n",
              "    <tr>\n",
              "      <th>D</th>\n",
              "      <td>0.188695</td>\n",
              "      <td>-0.758872</td>\n",
              "      <td>-0.933237</td>\n",
              "      <td>0.955057</td>\n",
              "    </tr>\n",
              "    <tr>\n",
              "      <th>E</th>\n",
              "      <td>0.190794</td>\n",
              "      <td>1.978757</td>\n",
              "      <td>2.605967</td>\n",
              "      <td>0.683509</td>\n",
              "    </tr>\n",
              "  </tbody>\n",
              "</table>\n",
              "</div>"
            ],
            "text/plain": [
              "          W         X         Y         Z\n",
              "A  2.706850  0.628133  0.907969  0.503826\n",
              "B  0.651118 -0.319318 -0.848077  0.605965\n",
              "C -2.018168  0.740122  0.528813 -0.589001\n",
              "D  0.188695 -0.758872 -0.933237  0.955057\n",
              "E  0.190794  1.978757  2.605967  0.683509"
            ]
          },
          "metadata": {
            "tags": []
          },
          "execution_count": 20
        }
      ]
    },
    {
      "cell_type": "code",
      "metadata": {
        "id": "g4fixjlBf4el",
        "colab_type": "code",
        "colab": {
          "base_uri": "https://localhost:8080/",
          "height": 122
        },
        "outputId": "e24833a0-f479-46be-ee88-5a8f5561478e"
      },
      "source": [
        "df[\"W\"]"
      ],
      "execution_count": 21,
      "outputs": [
        {
          "output_type": "execute_result",
          "data": {
            "text/plain": [
              "A    2.706850\n",
              "B    0.651118\n",
              "C   -2.018168\n",
              "D    0.188695\n",
              "E    0.190794\n",
              "Name: W, dtype: float64"
            ]
          },
          "metadata": {
            "tags": []
          },
          "execution_count": 21
        }
      ]
    },
    {
      "cell_type": "code",
      "metadata": {
        "id": "zexXn1dvgKCZ",
        "colab_type": "code",
        "colab": {
          "base_uri": "https://localhost:8080/",
          "height": 34
        },
        "outputId": "8c1ad8ae-e160-4a96-d844-0cb8f7677048"
      },
      "source": [
        "type(df[\"W\"])"
      ],
      "execution_count": 22,
      "outputs": [
        {
          "output_type": "execute_result",
          "data": {
            "text/plain": [
              "pandas.core.series.Series"
            ]
          },
          "metadata": {
            "tags": []
          },
          "execution_count": 22
        }
      ]
    },
    {
      "cell_type": "code",
      "metadata": {
        "id": "v-JB742PgW1p",
        "colab_type": "code",
        "colab": {
          "base_uri": "https://localhost:8080/",
          "height": 34
        },
        "outputId": "9bd5c927-f630-41b0-c655-dab36d880dee"
      },
      "source": [
        "type(df)"
      ],
      "execution_count": 23,
      "outputs": [
        {
          "output_type": "execute_result",
          "data": {
            "text/plain": [
              "pandas.core.frame.DataFrame"
            ]
          },
          "metadata": {
            "tags": []
          },
          "execution_count": 23
        }
      ]
    },
    {
      "cell_type": "code",
      "metadata": {
        "id": "MklrNJUFgaA0",
        "colab_type": "code",
        "colab": {
          "base_uri": "https://localhost:8080/",
          "height": 199
        },
        "outputId": "4e39c3bd-e404-4499-a949-bb9499c0b8d7"
      },
      "source": [
        "df[[\"W\",\"Z\"]]"
      ],
      "execution_count": 24,
      "outputs": [
        {
          "output_type": "execute_result",
          "data": {
            "text/html": [
              "<div>\n",
              "<style scoped>\n",
              "    .dataframe tbody tr th:only-of-type {\n",
              "        vertical-align: middle;\n",
              "    }\n",
              "\n",
              "    .dataframe tbody tr th {\n",
              "        vertical-align: top;\n",
              "    }\n",
              "\n",
              "    .dataframe thead th {\n",
              "        text-align: right;\n",
              "    }\n",
              "</style>\n",
              "<table border=\"1\" class=\"dataframe\">\n",
              "  <thead>\n",
              "    <tr style=\"text-align: right;\">\n",
              "      <th></th>\n",
              "      <th>W</th>\n",
              "      <th>Z</th>\n",
              "    </tr>\n",
              "  </thead>\n",
              "  <tbody>\n",
              "    <tr>\n",
              "      <th>A</th>\n",
              "      <td>2.706850</td>\n",
              "      <td>0.503826</td>\n",
              "    </tr>\n",
              "    <tr>\n",
              "      <th>B</th>\n",
              "      <td>0.651118</td>\n",
              "      <td>0.605965</td>\n",
              "    </tr>\n",
              "    <tr>\n",
              "      <th>C</th>\n",
              "      <td>-2.018168</td>\n",
              "      <td>-0.589001</td>\n",
              "    </tr>\n",
              "    <tr>\n",
              "      <th>D</th>\n",
              "      <td>0.188695</td>\n",
              "      <td>0.955057</td>\n",
              "    </tr>\n",
              "    <tr>\n",
              "      <th>E</th>\n",
              "      <td>0.190794</td>\n",
              "      <td>0.683509</td>\n",
              "    </tr>\n",
              "  </tbody>\n",
              "</table>\n",
              "</div>"
            ],
            "text/plain": [
              "          W         Z\n",
              "A  2.706850  0.503826\n",
              "B  0.651118  0.605965\n",
              "C -2.018168 -0.589001\n",
              "D  0.188695  0.955057\n",
              "E  0.190794  0.683509"
            ]
          },
          "metadata": {
            "tags": []
          },
          "execution_count": 24
        }
      ]
    },
    {
      "cell_type": "code",
      "metadata": {
        "id": "kEpH5tRtgsw9",
        "colab_type": "code",
        "colab": {
          "base_uri": "https://localhost:8080/",
          "height": 199
        },
        "outputId": "01fd12a1-d50e-49e5-e3c5-592af8d95421"
      },
      "source": [
        "df"
      ],
      "execution_count": 25,
      "outputs": [
        {
          "output_type": "execute_result",
          "data": {
            "text/html": [
              "<div>\n",
              "<style scoped>\n",
              "    .dataframe tbody tr th:only-of-type {\n",
              "        vertical-align: middle;\n",
              "    }\n",
              "\n",
              "    .dataframe tbody tr th {\n",
              "        vertical-align: top;\n",
              "    }\n",
              "\n",
              "    .dataframe thead th {\n",
              "        text-align: right;\n",
              "    }\n",
              "</style>\n",
              "<table border=\"1\" class=\"dataframe\">\n",
              "  <thead>\n",
              "    <tr style=\"text-align: right;\">\n",
              "      <th></th>\n",
              "      <th>W</th>\n",
              "      <th>X</th>\n",
              "      <th>Y</th>\n",
              "      <th>Z</th>\n",
              "    </tr>\n",
              "  </thead>\n",
              "  <tbody>\n",
              "    <tr>\n",
              "      <th>A</th>\n",
              "      <td>2.706850</td>\n",
              "      <td>0.628133</td>\n",
              "      <td>0.907969</td>\n",
              "      <td>0.503826</td>\n",
              "    </tr>\n",
              "    <tr>\n",
              "      <th>B</th>\n",
              "      <td>0.651118</td>\n",
              "      <td>-0.319318</td>\n",
              "      <td>-0.848077</td>\n",
              "      <td>0.605965</td>\n",
              "    </tr>\n",
              "    <tr>\n",
              "      <th>C</th>\n",
              "      <td>-2.018168</td>\n",
              "      <td>0.740122</td>\n",
              "      <td>0.528813</td>\n",
              "      <td>-0.589001</td>\n",
              "    </tr>\n",
              "    <tr>\n",
              "      <th>D</th>\n",
              "      <td>0.188695</td>\n",
              "      <td>-0.758872</td>\n",
              "      <td>-0.933237</td>\n",
              "      <td>0.955057</td>\n",
              "    </tr>\n",
              "    <tr>\n",
              "      <th>E</th>\n",
              "      <td>0.190794</td>\n",
              "      <td>1.978757</td>\n",
              "      <td>2.605967</td>\n",
              "      <td>0.683509</td>\n",
              "    </tr>\n",
              "  </tbody>\n",
              "</table>\n",
              "</div>"
            ],
            "text/plain": [
              "          W         X         Y         Z\n",
              "A  2.706850  0.628133  0.907969  0.503826\n",
              "B  0.651118 -0.319318 -0.848077  0.605965\n",
              "C -2.018168  0.740122  0.528813 -0.589001\n",
              "D  0.188695 -0.758872 -0.933237  0.955057\n",
              "E  0.190794  1.978757  2.605967  0.683509"
            ]
          },
          "metadata": {
            "tags": []
          },
          "execution_count": 25
        }
      ]
    },
    {
      "cell_type": "code",
      "metadata": {
        "id": "qYwU0lRvrhzf",
        "colab_type": "code",
        "colab": {}
      },
      "source": [
        "df[\"X+Y\"] = df[\"X\"] + df[\"Y\"]"
      ],
      "execution_count": 26,
      "outputs": []
    },
    {
      "cell_type": "code",
      "metadata": {
        "id": "ccbFC5HArrq6",
        "colab_type": "code",
        "colab": {
          "base_uri": "https://localhost:8080/",
          "height": 199
        },
        "outputId": "767d66bf-e0a9-4a3f-ed37-22d18c527892"
      },
      "source": [
        "df"
      ],
      "execution_count": 27,
      "outputs": [
        {
          "output_type": "execute_result",
          "data": {
            "text/html": [
              "<div>\n",
              "<style scoped>\n",
              "    .dataframe tbody tr th:only-of-type {\n",
              "        vertical-align: middle;\n",
              "    }\n",
              "\n",
              "    .dataframe tbody tr th {\n",
              "        vertical-align: top;\n",
              "    }\n",
              "\n",
              "    .dataframe thead th {\n",
              "        text-align: right;\n",
              "    }\n",
              "</style>\n",
              "<table border=\"1\" class=\"dataframe\">\n",
              "  <thead>\n",
              "    <tr style=\"text-align: right;\">\n",
              "      <th></th>\n",
              "      <th>W</th>\n",
              "      <th>X</th>\n",
              "      <th>Y</th>\n",
              "      <th>Z</th>\n",
              "      <th>X+Y</th>\n",
              "    </tr>\n",
              "  </thead>\n",
              "  <tbody>\n",
              "    <tr>\n",
              "      <th>A</th>\n",
              "      <td>2.706850</td>\n",
              "      <td>0.628133</td>\n",
              "      <td>0.907969</td>\n",
              "      <td>0.503826</td>\n",
              "      <td>1.536102</td>\n",
              "    </tr>\n",
              "    <tr>\n",
              "      <th>B</th>\n",
              "      <td>0.651118</td>\n",
              "      <td>-0.319318</td>\n",
              "      <td>-0.848077</td>\n",
              "      <td>0.605965</td>\n",
              "      <td>-1.167395</td>\n",
              "    </tr>\n",
              "    <tr>\n",
              "      <th>C</th>\n",
              "      <td>-2.018168</td>\n",
              "      <td>0.740122</td>\n",
              "      <td>0.528813</td>\n",
              "      <td>-0.589001</td>\n",
              "      <td>1.268936</td>\n",
              "    </tr>\n",
              "    <tr>\n",
              "      <th>D</th>\n",
              "      <td>0.188695</td>\n",
              "      <td>-0.758872</td>\n",
              "      <td>-0.933237</td>\n",
              "      <td>0.955057</td>\n",
              "      <td>-1.692109</td>\n",
              "    </tr>\n",
              "    <tr>\n",
              "      <th>E</th>\n",
              "      <td>0.190794</td>\n",
              "      <td>1.978757</td>\n",
              "      <td>2.605967</td>\n",
              "      <td>0.683509</td>\n",
              "      <td>4.584725</td>\n",
              "    </tr>\n",
              "  </tbody>\n",
              "</table>\n",
              "</div>"
            ],
            "text/plain": [
              "          W         X         Y         Z       X+Y\n",
              "A  2.706850  0.628133  0.907969  0.503826  1.536102\n",
              "B  0.651118 -0.319318 -0.848077  0.605965 -1.167395\n",
              "C -2.018168  0.740122  0.528813 -0.589001  1.268936\n",
              "D  0.188695 -0.758872 -0.933237  0.955057 -1.692109\n",
              "E  0.190794  1.978757  2.605967  0.683509  4.584725"
            ]
          },
          "metadata": {
            "tags": []
          },
          "execution_count": 27
        }
      ]
    },
    {
      "cell_type": "code",
      "metadata": {
        "id": "VFifs5YPrs6u",
        "colab_type": "code",
        "colab": {
          "base_uri": "https://localhost:8080/",
          "height": 199
        },
        "outputId": "b09f90da-d9c3-43f6-8950-a9e0186d182d"
      },
      "source": [
        "df.drop(\"X+Y\", axis=1) #this is not permanent. the X+Y column will still be showing even after dropping it in this cell"
      ],
      "execution_count": 28,
      "outputs": [
        {
          "output_type": "execute_result",
          "data": {
            "text/html": [
              "<div>\n",
              "<style scoped>\n",
              "    .dataframe tbody tr th:only-of-type {\n",
              "        vertical-align: middle;\n",
              "    }\n",
              "\n",
              "    .dataframe tbody tr th {\n",
              "        vertical-align: top;\n",
              "    }\n",
              "\n",
              "    .dataframe thead th {\n",
              "        text-align: right;\n",
              "    }\n",
              "</style>\n",
              "<table border=\"1\" class=\"dataframe\">\n",
              "  <thead>\n",
              "    <tr style=\"text-align: right;\">\n",
              "      <th></th>\n",
              "      <th>W</th>\n",
              "      <th>X</th>\n",
              "      <th>Y</th>\n",
              "      <th>Z</th>\n",
              "    </tr>\n",
              "  </thead>\n",
              "  <tbody>\n",
              "    <tr>\n",
              "      <th>A</th>\n",
              "      <td>2.706850</td>\n",
              "      <td>0.628133</td>\n",
              "      <td>0.907969</td>\n",
              "      <td>0.503826</td>\n",
              "    </tr>\n",
              "    <tr>\n",
              "      <th>B</th>\n",
              "      <td>0.651118</td>\n",
              "      <td>-0.319318</td>\n",
              "      <td>-0.848077</td>\n",
              "      <td>0.605965</td>\n",
              "    </tr>\n",
              "    <tr>\n",
              "      <th>C</th>\n",
              "      <td>-2.018168</td>\n",
              "      <td>0.740122</td>\n",
              "      <td>0.528813</td>\n",
              "      <td>-0.589001</td>\n",
              "    </tr>\n",
              "    <tr>\n",
              "      <th>D</th>\n",
              "      <td>0.188695</td>\n",
              "      <td>-0.758872</td>\n",
              "      <td>-0.933237</td>\n",
              "      <td>0.955057</td>\n",
              "    </tr>\n",
              "    <tr>\n",
              "      <th>E</th>\n",
              "      <td>0.190794</td>\n",
              "      <td>1.978757</td>\n",
              "      <td>2.605967</td>\n",
              "      <td>0.683509</td>\n",
              "    </tr>\n",
              "  </tbody>\n",
              "</table>\n",
              "</div>"
            ],
            "text/plain": [
              "          W         X         Y         Z\n",
              "A  2.706850  0.628133  0.907969  0.503826\n",
              "B  0.651118 -0.319318 -0.848077  0.605965\n",
              "C -2.018168  0.740122  0.528813 -0.589001\n",
              "D  0.188695 -0.758872 -0.933237  0.955057\n",
              "E  0.190794  1.978757  2.605967  0.683509"
            ]
          },
          "metadata": {
            "tags": []
          },
          "execution_count": 28
        }
      ]
    },
    {
      "cell_type": "code",
      "metadata": {
        "id": "aWzwxrvSsCYI",
        "colab_type": "code",
        "colab": {
          "base_uri": "https://localhost:8080/",
          "height": 199
        },
        "outputId": "9009d8b3-5712-4e27-f870-082fa2294c30"
      },
      "source": [
        "df"
      ],
      "execution_count": 29,
      "outputs": [
        {
          "output_type": "execute_result",
          "data": {
            "text/html": [
              "<div>\n",
              "<style scoped>\n",
              "    .dataframe tbody tr th:only-of-type {\n",
              "        vertical-align: middle;\n",
              "    }\n",
              "\n",
              "    .dataframe tbody tr th {\n",
              "        vertical-align: top;\n",
              "    }\n",
              "\n",
              "    .dataframe thead th {\n",
              "        text-align: right;\n",
              "    }\n",
              "</style>\n",
              "<table border=\"1\" class=\"dataframe\">\n",
              "  <thead>\n",
              "    <tr style=\"text-align: right;\">\n",
              "      <th></th>\n",
              "      <th>W</th>\n",
              "      <th>X</th>\n",
              "      <th>Y</th>\n",
              "      <th>Z</th>\n",
              "      <th>X+Y</th>\n",
              "    </tr>\n",
              "  </thead>\n",
              "  <tbody>\n",
              "    <tr>\n",
              "      <th>A</th>\n",
              "      <td>2.706850</td>\n",
              "      <td>0.628133</td>\n",
              "      <td>0.907969</td>\n",
              "      <td>0.503826</td>\n",
              "      <td>1.536102</td>\n",
              "    </tr>\n",
              "    <tr>\n",
              "      <th>B</th>\n",
              "      <td>0.651118</td>\n",
              "      <td>-0.319318</td>\n",
              "      <td>-0.848077</td>\n",
              "      <td>0.605965</td>\n",
              "      <td>-1.167395</td>\n",
              "    </tr>\n",
              "    <tr>\n",
              "      <th>C</th>\n",
              "      <td>-2.018168</td>\n",
              "      <td>0.740122</td>\n",
              "      <td>0.528813</td>\n",
              "      <td>-0.589001</td>\n",
              "      <td>1.268936</td>\n",
              "    </tr>\n",
              "    <tr>\n",
              "      <th>D</th>\n",
              "      <td>0.188695</td>\n",
              "      <td>-0.758872</td>\n",
              "      <td>-0.933237</td>\n",
              "      <td>0.955057</td>\n",
              "      <td>-1.692109</td>\n",
              "    </tr>\n",
              "    <tr>\n",
              "      <th>E</th>\n",
              "      <td>0.190794</td>\n",
              "      <td>1.978757</td>\n",
              "      <td>2.605967</td>\n",
              "      <td>0.683509</td>\n",
              "      <td>4.584725</td>\n",
              "    </tr>\n",
              "  </tbody>\n",
              "</table>\n",
              "</div>"
            ],
            "text/plain": [
              "          W         X         Y         Z       X+Y\n",
              "A  2.706850  0.628133  0.907969  0.503826  1.536102\n",
              "B  0.651118 -0.319318 -0.848077  0.605965 -1.167395\n",
              "C -2.018168  0.740122  0.528813 -0.589001  1.268936\n",
              "D  0.188695 -0.758872 -0.933237  0.955057 -1.692109\n",
              "E  0.190794  1.978757  2.605967  0.683509  4.584725"
            ]
          },
          "metadata": {
            "tags": []
          },
          "execution_count": 29
        }
      ]
    },
    {
      "cell_type": "code",
      "metadata": {
        "id": "cCWdKWc4sNkD",
        "colab_type": "code",
        "colab": {}
      },
      "source": [
        "df.drop(\"X+Y\", axis=1, inplace = True) #inplace allows us to permamently delete a column."
      ],
      "execution_count": 30,
      "outputs": []
    },
    {
      "cell_type": "code",
      "metadata": {
        "id": "3Ass704ksX9f",
        "colab_type": "code",
        "colab": {
          "base_uri": "https://localhost:8080/",
          "height": 199
        },
        "outputId": "5e2895fb-b2e0-48ce-827f-cf95251654a1"
      },
      "source": [
        "df"
      ],
      "execution_count": 31,
      "outputs": [
        {
          "output_type": "execute_result",
          "data": {
            "text/html": [
              "<div>\n",
              "<style scoped>\n",
              "    .dataframe tbody tr th:only-of-type {\n",
              "        vertical-align: middle;\n",
              "    }\n",
              "\n",
              "    .dataframe tbody tr th {\n",
              "        vertical-align: top;\n",
              "    }\n",
              "\n",
              "    .dataframe thead th {\n",
              "        text-align: right;\n",
              "    }\n",
              "</style>\n",
              "<table border=\"1\" class=\"dataframe\">\n",
              "  <thead>\n",
              "    <tr style=\"text-align: right;\">\n",
              "      <th></th>\n",
              "      <th>W</th>\n",
              "      <th>X</th>\n",
              "      <th>Y</th>\n",
              "      <th>Z</th>\n",
              "    </tr>\n",
              "  </thead>\n",
              "  <tbody>\n",
              "    <tr>\n",
              "      <th>A</th>\n",
              "      <td>2.706850</td>\n",
              "      <td>0.628133</td>\n",
              "      <td>0.907969</td>\n",
              "      <td>0.503826</td>\n",
              "    </tr>\n",
              "    <tr>\n",
              "      <th>B</th>\n",
              "      <td>0.651118</td>\n",
              "      <td>-0.319318</td>\n",
              "      <td>-0.848077</td>\n",
              "      <td>0.605965</td>\n",
              "    </tr>\n",
              "    <tr>\n",
              "      <th>C</th>\n",
              "      <td>-2.018168</td>\n",
              "      <td>0.740122</td>\n",
              "      <td>0.528813</td>\n",
              "      <td>-0.589001</td>\n",
              "    </tr>\n",
              "    <tr>\n",
              "      <th>D</th>\n",
              "      <td>0.188695</td>\n",
              "      <td>-0.758872</td>\n",
              "      <td>-0.933237</td>\n",
              "      <td>0.955057</td>\n",
              "    </tr>\n",
              "    <tr>\n",
              "      <th>E</th>\n",
              "      <td>0.190794</td>\n",
              "      <td>1.978757</td>\n",
              "      <td>2.605967</td>\n",
              "      <td>0.683509</td>\n",
              "    </tr>\n",
              "  </tbody>\n",
              "</table>\n",
              "</div>"
            ],
            "text/plain": [
              "          W         X         Y         Z\n",
              "A  2.706850  0.628133  0.907969  0.503826\n",
              "B  0.651118 -0.319318 -0.848077  0.605965\n",
              "C -2.018168  0.740122  0.528813 -0.589001\n",
              "D  0.188695 -0.758872 -0.933237  0.955057\n",
              "E  0.190794  1.978757  2.605967  0.683509"
            ]
          },
          "metadata": {
            "tags": []
          },
          "execution_count": 31
        }
      ]
    },
    {
      "cell_type": "code",
      "metadata": {
        "id": "a4Gm1BXqsZD2",
        "colab_type": "code",
        "colab": {
          "base_uri": "https://localhost:8080/",
          "height": 34
        },
        "outputId": "ad329d2b-3812-40ca-9031-50c460f35daf"
      },
      "source": [
        "df.shape #returns a tuple"
      ],
      "execution_count": 32,
      "outputs": [
        {
          "output_type": "execute_result",
          "data": {
            "text/plain": [
              "(5, 4)"
            ]
          },
          "metadata": {
            "tags": []
          },
          "execution_count": 32
        }
      ]
    },
    {
      "cell_type": "code",
      "metadata": {
        "id": "On0H9PBz3ERh",
        "colab_type": "code",
        "colab": {
          "base_uri": "https://localhost:8080/",
          "height": 105
        },
        "outputId": "1f544a6d-bcb7-4179-ac53-0fcf45beabb7"
      },
      "source": [
        "df.loc[\"A\"] #this is the first method of displaying rows. pass in the string or the character by which the row is denoted by.\n",
        "            #location based index"
      ],
      "execution_count": 33,
      "outputs": [
        {
          "output_type": "execute_result",
          "data": {
            "text/plain": [
              "W    2.706850\n",
              "X    0.628133\n",
              "Y    0.907969\n",
              "Z    0.503826\n",
              "Name: A, dtype: float64"
            ]
          },
          "metadata": {
            "tags": []
          },
          "execution_count": 33
        }
      ]
    },
    {
      "cell_type": "code",
      "metadata": {
        "id": "OnQfjlc23jXL",
        "colab_type": "code",
        "colab": {
          "base_uri": "https://localhost:8080/",
          "height": 34
        },
        "outputId": "5f44b600-d3ae-4db8-9058-b4e901d78566"
      },
      "source": [
        "type(df.loc[\"A\"])  #this shows that not only columns are series, but rows are too."
      ],
      "execution_count": 34,
      "outputs": [
        {
          "output_type": "execute_result",
          "data": {
            "text/plain": [
              "pandas.core.series.Series"
            ]
          },
          "metadata": {
            "tags": []
          },
          "execution_count": 34
        }
      ]
    },
    {
      "cell_type": "code",
      "metadata": {
        "id": "ILvQyspk34gI",
        "colab_type": "code",
        "colab": {
          "base_uri": "https://localhost:8080/",
          "height": 105
        },
        "outputId": "d187a751-bad5-4002-d4ad-f7ad9d32e1c6"
      },
      "source": [
        "df.iloc[2] #pass in the index of the row you want to display. this is the second method of displaying rows. Numerical based index"
      ],
      "execution_count": 35,
      "outputs": [
        {
          "output_type": "execute_result",
          "data": {
            "text/plain": [
              "W   -2.018168\n",
              "X    0.740122\n",
              "Y    0.528813\n",
              "Z   -0.589001\n",
              "Name: C, dtype: float64"
            ]
          },
          "metadata": {
            "tags": []
          },
          "execution_count": 35
        }
      ]
    },
    {
      "cell_type": "code",
      "metadata": {
        "id": "l1riFQLY7RHA",
        "colab_type": "code",
        "colab": {
          "base_uri": "https://localhost:8080/",
          "height": 199
        },
        "outputId": "44f95731-9867-46e3-ed48-30c8c55912c8"
      },
      "source": [
        "df"
      ],
      "execution_count": 36,
      "outputs": [
        {
          "output_type": "execute_result",
          "data": {
            "text/html": [
              "<div>\n",
              "<style scoped>\n",
              "    .dataframe tbody tr th:only-of-type {\n",
              "        vertical-align: middle;\n",
              "    }\n",
              "\n",
              "    .dataframe tbody tr th {\n",
              "        vertical-align: top;\n",
              "    }\n",
              "\n",
              "    .dataframe thead th {\n",
              "        text-align: right;\n",
              "    }\n",
              "</style>\n",
              "<table border=\"1\" class=\"dataframe\">\n",
              "  <thead>\n",
              "    <tr style=\"text-align: right;\">\n",
              "      <th></th>\n",
              "      <th>W</th>\n",
              "      <th>X</th>\n",
              "      <th>Y</th>\n",
              "      <th>Z</th>\n",
              "    </tr>\n",
              "  </thead>\n",
              "  <tbody>\n",
              "    <tr>\n",
              "      <th>A</th>\n",
              "      <td>2.706850</td>\n",
              "      <td>0.628133</td>\n",
              "      <td>0.907969</td>\n",
              "      <td>0.503826</td>\n",
              "    </tr>\n",
              "    <tr>\n",
              "      <th>B</th>\n",
              "      <td>0.651118</td>\n",
              "      <td>-0.319318</td>\n",
              "      <td>-0.848077</td>\n",
              "      <td>0.605965</td>\n",
              "    </tr>\n",
              "    <tr>\n",
              "      <th>C</th>\n",
              "      <td>-2.018168</td>\n",
              "      <td>0.740122</td>\n",
              "      <td>0.528813</td>\n",
              "      <td>-0.589001</td>\n",
              "    </tr>\n",
              "    <tr>\n",
              "      <th>D</th>\n",
              "      <td>0.188695</td>\n",
              "      <td>-0.758872</td>\n",
              "      <td>-0.933237</td>\n",
              "      <td>0.955057</td>\n",
              "    </tr>\n",
              "    <tr>\n",
              "      <th>E</th>\n",
              "      <td>0.190794</td>\n",
              "      <td>1.978757</td>\n",
              "      <td>2.605967</td>\n",
              "      <td>0.683509</td>\n",
              "    </tr>\n",
              "  </tbody>\n",
              "</table>\n",
              "</div>"
            ],
            "text/plain": [
              "          W         X         Y         Z\n",
              "A  2.706850  0.628133  0.907969  0.503826\n",
              "B  0.651118 -0.319318 -0.848077  0.605965\n",
              "C -2.018168  0.740122  0.528813 -0.589001\n",
              "D  0.188695 -0.758872 -0.933237  0.955057\n",
              "E  0.190794  1.978757  2.605967  0.683509"
            ]
          },
          "metadata": {
            "tags": []
          },
          "execution_count": 36
        }
      ]
    },
    {
      "cell_type": "code",
      "metadata": {
        "id": "WVfHQl1C81uy",
        "colab_type": "code",
        "colab": {
          "base_uri": "https://localhost:8080/",
          "height": 34
        },
        "outputId": "014f34d7-1a39-4c76-91d6-a11a9103b0d5"
      },
      "source": [
        "df.loc[\"D\"][\"Z\"] #always [rows][columns]"
      ],
      "execution_count": 37,
      "outputs": [
        {
          "output_type": "execute_result",
          "data": {
            "text/plain": [
              "0.9550565092637361"
            ]
          },
          "metadata": {
            "tags": []
          },
          "execution_count": 37
        }
      ]
    },
    {
      "cell_type": "code",
      "metadata": {
        "id": "I3HjDmR9860T",
        "colab_type": "code",
        "colab": {
          "base_uri": "https://localhost:8080/",
          "height": 108
        },
        "outputId": "d89cfe03-bcb3-4d07-8af2-43efcde547e2"
      },
      "source": [
        "df.loc[[\"A\",\"D\"],[\"W\",\"Y\"]] #A and D are the rows and W and Y are the columns"
      ],
      "execution_count": 38,
      "outputs": [
        {
          "output_type": "execute_result",
          "data": {
            "text/html": [
              "<div>\n",
              "<style scoped>\n",
              "    .dataframe tbody tr th:only-of-type {\n",
              "        vertical-align: middle;\n",
              "    }\n",
              "\n",
              "    .dataframe tbody tr th {\n",
              "        vertical-align: top;\n",
              "    }\n",
              "\n",
              "    .dataframe thead th {\n",
              "        text-align: right;\n",
              "    }\n",
              "</style>\n",
              "<table border=\"1\" class=\"dataframe\">\n",
              "  <thead>\n",
              "    <tr style=\"text-align: right;\">\n",
              "      <th></th>\n",
              "      <th>W</th>\n",
              "      <th>Y</th>\n",
              "    </tr>\n",
              "  </thead>\n",
              "  <tbody>\n",
              "    <tr>\n",
              "      <th>A</th>\n",
              "      <td>2.706850</td>\n",
              "      <td>0.907969</td>\n",
              "    </tr>\n",
              "    <tr>\n",
              "      <th>D</th>\n",
              "      <td>0.188695</td>\n",
              "      <td>-0.933237</td>\n",
              "    </tr>\n",
              "  </tbody>\n",
              "</table>\n",
              "</div>"
            ],
            "text/plain": [
              "          W         Y\n",
              "A  2.706850  0.907969\n",
              "D  0.188695 -0.933237"
            ]
          },
          "metadata": {
            "tags": []
          },
          "execution_count": 38
        }
      ]
    },
    {
      "cell_type": "markdown",
      "metadata": {
        "id": "GBe13D9y-M3c",
        "colab_type": "text"
      },
      "source": [
        "**Creating another DF and performing various operations.**"
      ]
    },
    {
      "cell_type": "code",
      "metadata": {
        "id": "Q_KB2llh93tc",
        "colab_type": "code",
        "colab": {}
      },
      "source": [
        "import numpy as np\n",
        "import pandas as pd\n",
        "from numpy.random import randn"
      ],
      "execution_count": 39,
      "outputs": []
    },
    {
      "cell_type": "code",
      "metadata": {
        "id": "7HX2u6qhESYp",
        "colab_type": "code",
        "colab": {}
      },
      "source": [
        "np.random.seed(101)"
      ],
      "execution_count": 40,
      "outputs": []
    },
    {
      "cell_type": "code",
      "metadata": {
        "id": "q2uu7bOcEwhj",
        "colab_type": "code",
        "colab": {}
      },
      "source": [
        "df = pd.DataFrame(randn(3,2),[\"BEEE\",\"CE\",\"DS\"],[\"A\",\"B\"])"
      ],
      "execution_count": 41,
      "outputs": []
    },
    {
      "cell_type": "code",
      "metadata": {
        "id": "TCM1g5byFFD3",
        "colab_type": "code",
        "colab": {
          "base_uri": "https://localhost:8080/",
          "height": 139
        },
        "outputId": "76071641-5e2f-420a-e61e-4539e7f969aa"
      },
      "source": [
        "df"
      ],
      "execution_count": 42,
      "outputs": [
        {
          "output_type": "execute_result",
          "data": {
            "text/html": [
              "<div>\n",
              "<style scoped>\n",
              "    .dataframe tbody tr th:only-of-type {\n",
              "        vertical-align: middle;\n",
              "    }\n",
              "\n",
              "    .dataframe tbody tr th {\n",
              "        vertical-align: top;\n",
              "    }\n",
              "\n",
              "    .dataframe thead th {\n",
              "        text-align: right;\n",
              "    }\n",
              "</style>\n",
              "<table border=\"1\" class=\"dataframe\">\n",
              "  <thead>\n",
              "    <tr style=\"text-align: right;\">\n",
              "      <th></th>\n",
              "      <th>A</th>\n",
              "      <th>B</th>\n",
              "    </tr>\n",
              "  </thead>\n",
              "  <tbody>\n",
              "    <tr>\n",
              "      <th>BEEE</th>\n",
              "      <td>2.706850</td>\n",
              "      <td>0.628133</td>\n",
              "    </tr>\n",
              "    <tr>\n",
              "      <th>CE</th>\n",
              "      <td>0.907969</td>\n",
              "      <td>0.503826</td>\n",
              "    </tr>\n",
              "    <tr>\n",
              "      <th>DS</th>\n",
              "      <td>0.651118</td>\n",
              "      <td>-0.319318</td>\n",
              "    </tr>\n",
              "  </tbody>\n",
              "</table>\n",
              "</div>"
            ],
            "text/plain": [
              "             A         B\n",
              "BEEE  2.706850  0.628133\n",
              "CE    0.907969  0.503826\n",
              "DS    0.651118 -0.319318"
            ]
          },
          "metadata": {
            "tags": []
          },
          "execution_count": 42
        }
      ]
    },
    {
      "cell_type": "code",
      "metadata": {
        "id": "8Q2NwuKTFF3-",
        "colab_type": "code",
        "colab": {
          "base_uri": "https://localhost:8080/",
          "height": 87
        },
        "outputId": "96cc74ab-1cf3-4a3d-f4b8-a28f53686921"
      },
      "source": [
        "#display all the values possessed by A (series)\n",
        "df[\"A\"]"
      ],
      "execution_count": 43,
      "outputs": [
        {
          "output_type": "execute_result",
          "data": {
            "text/plain": [
              "BEEE    2.706850\n",
              "CE      0.907969\n",
              "DS      0.651118\n",
              "Name: A, dtype: float64"
            ]
          },
          "metadata": {
            "tags": []
          },
          "execution_count": 43
        }
      ]
    },
    {
      "cell_type": "code",
      "metadata": {
        "id": "wLrDpwVpFcky",
        "colab_type": "code",
        "colab": {
          "base_uri": "https://localhost:8080/",
          "height": 87
        },
        "outputId": "9abd072f-6198-4c1a-cc4d-1b1e59ccfd98"
      },
      "source": [
        "#display all the values possessed by B\n",
        "df[\"B\"]"
      ],
      "execution_count": 44,
      "outputs": [
        {
          "output_type": "execute_result",
          "data": {
            "text/plain": [
              "BEEE    0.628133\n",
              "CE      0.503826\n",
              "DS     -0.319318\n",
              "Name: B, dtype: float64"
            ]
          },
          "metadata": {
            "tags": []
          },
          "execution_count": 44
        }
      ]
    },
    {
      "cell_type": "code",
      "metadata": {
        "id": "pcagF2lqFhyn",
        "colab_type": "code",
        "colab": {
          "base_uri": "https://localhost:8080/",
          "height": 34
        },
        "outputId": "86860ae9-b4f8-419a-bb26-7a0b844571d5"
      },
      "source": [
        "#display the value possessed by A in BEEE\n",
        "df.loc[\"BEEE\",\"A\"]"
      ],
      "execution_count": 45,
      "outputs": [
        {
          "output_type": "execute_result",
          "data": {
            "text/plain": [
              "2.706849839399938"
            ]
          },
          "metadata": {
            "tags": []
          },
          "execution_count": 45
        }
      ]
    },
    {
      "cell_type": "code",
      "metadata": {
        "id": "n5W2GGerFr_H",
        "colab_type": "code",
        "colab": {
          "base_uri": "https://localhost:8080/",
          "height": 70
        },
        "outputId": "aaffdf02-4a88-44b0-d754-a34264342763"
      },
      "source": [
        "#display the values stored in BEEE\n",
        "df.loc[\"BEEE\"]"
      ],
      "execution_count": 46,
      "outputs": [
        {
          "output_type": "execute_result",
          "data": {
            "text/plain": [
              "A    2.706850\n",
              "B    0.628133\n",
              "Name: BEEE, dtype: float64"
            ]
          },
          "metadata": {
            "tags": []
          },
          "execution_count": 46
        }
      ]
    },
    {
      "cell_type": "code",
      "metadata": {
        "id": "4dXcOculF2ef",
        "colab_type": "code",
        "colab": {
          "base_uri": "https://localhost:8080/",
          "height": 108
        },
        "outputId": "002f58dc-ba24-4d85-ed80-a6beed3caa5d"
      },
      "source": [
        "#display CE and DS values possessed by A and B\n",
        "df.loc[[\"CE\",\"DS\"],[\"A\",\"B\"]]"
      ],
      "execution_count": 47,
      "outputs": [
        {
          "output_type": "execute_result",
          "data": {
            "text/html": [
              "<div>\n",
              "<style scoped>\n",
              "    .dataframe tbody tr th:only-of-type {\n",
              "        vertical-align: middle;\n",
              "    }\n",
              "\n",
              "    .dataframe tbody tr th {\n",
              "        vertical-align: top;\n",
              "    }\n",
              "\n",
              "    .dataframe thead th {\n",
              "        text-align: right;\n",
              "    }\n",
              "</style>\n",
              "<table border=\"1\" class=\"dataframe\">\n",
              "  <thead>\n",
              "    <tr style=\"text-align: right;\">\n",
              "      <th></th>\n",
              "      <th>A</th>\n",
              "      <th>B</th>\n",
              "    </tr>\n",
              "  </thead>\n",
              "  <tbody>\n",
              "    <tr>\n",
              "      <th>CE</th>\n",
              "      <td>0.907969</td>\n",
              "      <td>0.503826</td>\n",
              "    </tr>\n",
              "    <tr>\n",
              "      <th>DS</th>\n",
              "      <td>0.651118</td>\n",
              "      <td>-0.319318</td>\n",
              "    </tr>\n",
              "  </tbody>\n",
              "</table>\n",
              "</div>"
            ],
            "text/plain": [
              "           A         B\n",
              "CE  0.907969  0.503826\n",
              "DS  0.651118 -0.319318"
            ]
          },
          "metadata": {
            "tags": []
          },
          "execution_count": 47
        }
      ]
    },
    {
      "cell_type": "markdown",
      "metadata": {
        "id": "8ILRw_xxGK3n",
        "colab_type": "text"
      },
      "source": [
        "**DATAFRAMES_2**"
      ]
    },
    {
      "cell_type": "code",
      "metadata": {
        "id": "96ZkUWinGFKe",
        "colab_type": "code",
        "colab": {}
      },
      "source": [
        "import numpy as np\n",
        "import pandas as pd"
      ],
      "execution_count": 48,
      "outputs": []
    },
    {
      "cell_type": "code",
      "metadata": {
        "id": "cqNSe7ztJuW5",
        "colab_type": "code",
        "colab": {
          "base_uri": "https://localhost:8080/",
          "height": 199
        },
        "outputId": "e1e41a35-45e1-4b10-f256-cca0901bff8a"
      },
      "source": [
        "np.random.seed(101)\n",
        "df = pd.DataFrame(randn(5,4),[\"A\",\"B\",\"C\",\"D\",\"E\"],[\"W\",\"X\",\"Y\",\"Z\"])\n",
        "df"
      ],
      "execution_count": 49,
      "outputs": [
        {
          "output_type": "execute_result",
          "data": {
            "text/html": [
              "<div>\n",
              "<style scoped>\n",
              "    .dataframe tbody tr th:only-of-type {\n",
              "        vertical-align: middle;\n",
              "    }\n",
              "\n",
              "    .dataframe tbody tr th {\n",
              "        vertical-align: top;\n",
              "    }\n",
              "\n",
              "    .dataframe thead th {\n",
              "        text-align: right;\n",
              "    }\n",
              "</style>\n",
              "<table border=\"1\" class=\"dataframe\">\n",
              "  <thead>\n",
              "    <tr style=\"text-align: right;\">\n",
              "      <th></th>\n",
              "      <th>W</th>\n",
              "      <th>X</th>\n",
              "      <th>Y</th>\n",
              "      <th>Z</th>\n",
              "    </tr>\n",
              "  </thead>\n",
              "  <tbody>\n",
              "    <tr>\n",
              "      <th>A</th>\n",
              "      <td>2.706850</td>\n",
              "      <td>0.628133</td>\n",
              "      <td>0.907969</td>\n",
              "      <td>0.503826</td>\n",
              "    </tr>\n",
              "    <tr>\n",
              "      <th>B</th>\n",
              "      <td>0.651118</td>\n",
              "      <td>-0.319318</td>\n",
              "      <td>-0.848077</td>\n",
              "      <td>0.605965</td>\n",
              "    </tr>\n",
              "    <tr>\n",
              "      <th>C</th>\n",
              "      <td>-2.018168</td>\n",
              "      <td>0.740122</td>\n",
              "      <td>0.528813</td>\n",
              "      <td>-0.589001</td>\n",
              "    </tr>\n",
              "    <tr>\n",
              "      <th>D</th>\n",
              "      <td>0.188695</td>\n",
              "      <td>-0.758872</td>\n",
              "      <td>-0.933237</td>\n",
              "      <td>0.955057</td>\n",
              "    </tr>\n",
              "    <tr>\n",
              "      <th>E</th>\n",
              "      <td>0.190794</td>\n",
              "      <td>1.978757</td>\n",
              "      <td>2.605967</td>\n",
              "      <td>0.683509</td>\n",
              "    </tr>\n",
              "  </tbody>\n",
              "</table>\n",
              "</div>"
            ],
            "text/plain": [
              "          W         X         Y         Z\n",
              "A  2.706850  0.628133  0.907969  0.503826\n",
              "B  0.651118 -0.319318 -0.848077  0.605965\n",
              "C -2.018168  0.740122  0.528813 -0.589001\n",
              "D  0.188695 -0.758872 -0.933237  0.955057\n",
              "E  0.190794  1.978757  2.605967  0.683509"
            ]
          },
          "metadata": {
            "tags": []
          },
          "execution_count": 49
        }
      ]
    },
    {
      "cell_type": "code",
      "metadata": {
        "id": "ZcGMwAusak_z",
        "colab_type": "code",
        "colab": {
          "base_uri": "https://localhost:8080/",
          "height": 199
        },
        "outputId": "52427179-62d7-4882-91b6-a8c3ec53bfef"
      },
      "source": [
        "df > 0"
      ],
      "execution_count": 50,
      "outputs": [
        {
          "output_type": "execute_result",
          "data": {
            "text/html": [
              "<div>\n",
              "<style scoped>\n",
              "    .dataframe tbody tr th:only-of-type {\n",
              "        vertical-align: middle;\n",
              "    }\n",
              "\n",
              "    .dataframe tbody tr th {\n",
              "        vertical-align: top;\n",
              "    }\n",
              "\n",
              "    .dataframe thead th {\n",
              "        text-align: right;\n",
              "    }\n",
              "</style>\n",
              "<table border=\"1\" class=\"dataframe\">\n",
              "  <thead>\n",
              "    <tr style=\"text-align: right;\">\n",
              "      <th></th>\n",
              "      <th>W</th>\n",
              "      <th>X</th>\n",
              "      <th>Y</th>\n",
              "      <th>Z</th>\n",
              "    </tr>\n",
              "  </thead>\n",
              "  <tbody>\n",
              "    <tr>\n",
              "      <th>A</th>\n",
              "      <td>True</td>\n",
              "      <td>True</td>\n",
              "      <td>True</td>\n",
              "      <td>True</td>\n",
              "    </tr>\n",
              "    <tr>\n",
              "      <th>B</th>\n",
              "      <td>True</td>\n",
              "      <td>False</td>\n",
              "      <td>False</td>\n",
              "      <td>True</td>\n",
              "    </tr>\n",
              "    <tr>\n",
              "      <th>C</th>\n",
              "      <td>False</td>\n",
              "      <td>True</td>\n",
              "      <td>True</td>\n",
              "      <td>False</td>\n",
              "    </tr>\n",
              "    <tr>\n",
              "      <th>D</th>\n",
              "      <td>True</td>\n",
              "      <td>False</td>\n",
              "      <td>False</td>\n",
              "      <td>True</td>\n",
              "    </tr>\n",
              "    <tr>\n",
              "      <th>E</th>\n",
              "      <td>True</td>\n",
              "      <td>True</td>\n",
              "      <td>True</td>\n",
              "      <td>True</td>\n",
              "    </tr>\n",
              "  </tbody>\n",
              "</table>\n",
              "</div>"
            ],
            "text/plain": [
              "       W      X      Y      Z\n",
              "A   True   True   True   True\n",
              "B   True  False  False   True\n",
              "C  False   True   True  False\n",
              "D   True  False  False   True\n",
              "E   True   True   True   True"
            ]
          },
          "metadata": {
            "tags": []
          },
          "execution_count": 50
        }
      ]
    },
    {
      "cell_type": "code",
      "metadata": {
        "id": "13q2lAoNa3Rd",
        "colab_type": "code",
        "colab": {
          "base_uri": "https://localhost:8080/",
          "height": 199
        },
        "outputId": "9f7950d5-07c6-4e8f-8154-92ebb5d70982"
      },
      "source": [
        "df < 0"
      ],
      "execution_count": 51,
      "outputs": [
        {
          "output_type": "execute_result",
          "data": {
            "text/html": [
              "<div>\n",
              "<style scoped>\n",
              "    .dataframe tbody tr th:only-of-type {\n",
              "        vertical-align: middle;\n",
              "    }\n",
              "\n",
              "    .dataframe tbody tr th {\n",
              "        vertical-align: top;\n",
              "    }\n",
              "\n",
              "    .dataframe thead th {\n",
              "        text-align: right;\n",
              "    }\n",
              "</style>\n",
              "<table border=\"1\" class=\"dataframe\">\n",
              "  <thead>\n",
              "    <tr style=\"text-align: right;\">\n",
              "      <th></th>\n",
              "      <th>W</th>\n",
              "      <th>X</th>\n",
              "      <th>Y</th>\n",
              "      <th>Z</th>\n",
              "    </tr>\n",
              "  </thead>\n",
              "  <tbody>\n",
              "    <tr>\n",
              "      <th>A</th>\n",
              "      <td>False</td>\n",
              "      <td>False</td>\n",
              "      <td>False</td>\n",
              "      <td>False</td>\n",
              "    </tr>\n",
              "    <tr>\n",
              "      <th>B</th>\n",
              "      <td>False</td>\n",
              "      <td>True</td>\n",
              "      <td>True</td>\n",
              "      <td>False</td>\n",
              "    </tr>\n",
              "    <tr>\n",
              "      <th>C</th>\n",
              "      <td>True</td>\n",
              "      <td>False</td>\n",
              "      <td>False</td>\n",
              "      <td>True</td>\n",
              "    </tr>\n",
              "    <tr>\n",
              "      <th>D</th>\n",
              "      <td>False</td>\n",
              "      <td>True</td>\n",
              "      <td>True</td>\n",
              "      <td>False</td>\n",
              "    </tr>\n",
              "    <tr>\n",
              "      <th>E</th>\n",
              "      <td>False</td>\n",
              "      <td>False</td>\n",
              "      <td>False</td>\n",
              "      <td>False</td>\n",
              "    </tr>\n",
              "  </tbody>\n",
              "</table>\n",
              "</div>"
            ],
            "text/plain": [
              "       W      X      Y      Z\n",
              "A  False  False  False  False\n",
              "B  False   True   True  False\n",
              "C   True  False  False   True\n",
              "D  False   True   True  False\n",
              "E  False  False  False  False"
            ]
          },
          "metadata": {
            "tags": []
          },
          "execution_count": 51
        }
      ]
    },
    {
      "cell_type": "code",
      "metadata": {
        "id": "Z12VmBWba6Q-",
        "colab_type": "code",
        "colab": {
          "base_uri": "https://localhost:8080/",
          "height": 199
        },
        "outputId": "9d860e80-d790-4b69-9454-f1c53ca7bfb4"
      },
      "source": [
        "booldf = df > 0\n",
        "booldf"
      ],
      "execution_count": 52,
      "outputs": [
        {
          "output_type": "execute_result",
          "data": {
            "text/html": [
              "<div>\n",
              "<style scoped>\n",
              "    .dataframe tbody tr th:only-of-type {\n",
              "        vertical-align: middle;\n",
              "    }\n",
              "\n",
              "    .dataframe tbody tr th {\n",
              "        vertical-align: top;\n",
              "    }\n",
              "\n",
              "    .dataframe thead th {\n",
              "        text-align: right;\n",
              "    }\n",
              "</style>\n",
              "<table border=\"1\" class=\"dataframe\">\n",
              "  <thead>\n",
              "    <tr style=\"text-align: right;\">\n",
              "      <th></th>\n",
              "      <th>W</th>\n",
              "      <th>X</th>\n",
              "      <th>Y</th>\n",
              "      <th>Z</th>\n",
              "    </tr>\n",
              "  </thead>\n",
              "  <tbody>\n",
              "    <tr>\n",
              "      <th>A</th>\n",
              "      <td>True</td>\n",
              "      <td>True</td>\n",
              "      <td>True</td>\n",
              "      <td>True</td>\n",
              "    </tr>\n",
              "    <tr>\n",
              "      <th>B</th>\n",
              "      <td>True</td>\n",
              "      <td>False</td>\n",
              "      <td>False</td>\n",
              "      <td>True</td>\n",
              "    </tr>\n",
              "    <tr>\n",
              "      <th>C</th>\n",
              "      <td>False</td>\n",
              "      <td>True</td>\n",
              "      <td>True</td>\n",
              "      <td>False</td>\n",
              "    </tr>\n",
              "    <tr>\n",
              "      <th>D</th>\n",
              "      <td>True</td>\n",
              "      <td>False</td>\n",
              "      <td>False</td>\n",
              "      <td>True</td>\n",
              "    </tr>\n",
              "    <tr>\n",
              "      <th>E</th>\n",
              "      <td>True</td>\n",
              "      <td>True</td>\n",
              "      <td>True</td>\n",
              "      <td>True</td>\n",
              "    </tr>\n",
              "  </tbody>\n",
              "</table>\n",
              "</div>"
            ],
            "text/plain": [
              "       W      X      Y      Z\n",
              "A   True   True   True   True\n",
              "B   True  False  False   True\n",
              "C  False   True   True  False\n",
              "D   True  False  False   True\n",
              "E   True   True   True   True"
            ]
          },
          "metadata": {
            "tags": []
          },
          "execution_count": 52
        }
      ]
    },
    {
      "cell_type": "code",
      "metadata": {
        "id": "mSWiwPXEbIwg",
        "colab_type": "code",
        "colab": {
          "base_uri": "https://localhost:8080/",
          "height": 199
        },
        "outputId": "1de808ca-f133-43dd-d070-0db39d7e6dd4"
      },
      "source": [
        "df[booldf] #this will return the actual values where it's true and null (NaN) where it's false"
      ],
      "execution_count": 53,
      "outputs": [
        {
          "output_type": "execute_result",
          "data": {
            "text/html": [
              "<div>\n",
              "<style scoped>\n",
              "    .dataframe tbody tr th:only-of-type {\n",
              "        vertical-align: middle;\n",
              "    }\n",
              "\n",
              "    .dataframe tbody tr th {\n",
              "        vertical-align: top;\n",
              "    }\n",
              "\n",
              "    .dataframe thead th {\n",
              "        text-align: right;\n",
              "    }\n",
              "</style>\n",
              "<table border=\"1\" class=\"dataframe\">\n",
              "  <thead>\n",
              "    <tr style=\"text-align: right;\">\n",
              "      <th></th>\n",
              "      <th>W</th>\n",
              "      <th>X</th>\n",
              "      <th>Y</th>\n",
              "      <th>Z</th>\n",
              "    </tr>\n",
              "  </thead>\n",
              "  <tbody>\n",
              "    <tr>\n",
              "      <th>A</th>\n",
              "      <td>2.706850</td>\n",
              "      <td>0.628133</td>\n",
              "      <td>0.907969</td>\n",
              "      <td>0.503826</td>\n",
              "    </tr>\n",
              "    <tr>\n",
              "      <th>B</th>\n",
              "      <td>0.651118</td>\n",
              "      <td>NaN</td>\n",
              "      <td>NaN</td>\n",
              "      <td>0.605965</td>\n",
              "    </tr>\n",
              "    <tr>\n",
              "      <th>C</th>\n",
              "      <td>NaN</td>\n",
              "      <td>0.740122</td>\n",
              "      <td>0.528813</td>\n",
              "      <td>NaN</td>\n",
              "    </tr>\n",
              "    <tr>\n",
              "      <th>D</th>\n",
              "      <td>0.188695</td>\n",
              "      <td>NaN</td>\n",
              "      <td>NaN</td>\n",
              "      <td>0.955057</td>\n",
              "    </tr>\n",
              "    <tr>\n",
              "      <th>E</th>\n",
              "      <td>0.190794</td>\n",
              "      <td>1.978757</td>\n",
              "      <td>2.605967</td>\n",
              "      <td>0.683509</td>\n",
              "    </tr>\n",
              "  </tbody>\n",
              "</table>\n",
              "</div>"
            ],
            "text/plain": [
              "          W         X         Y         Z\n",
              "A  2.706850  0.628133  0.907969  0.503826\n",
              "B  0.651118       NaN       NaN  0.605965\n",
              "C       NaN  0.740122  0.528813       NaN\n",
              "D  0.188695       NaN       NaN  0.955057\n",
              "E  0.190794  1.978757  2.605967  0.683509"
            ]
          },
          "metadata": {
            "tags": []
          },
          "execution_count": 53
        }
      ]
    },
    {
      "cell_type": "code",
      "metadata": {
        "id": "AtMKSZqkbKhM",
        "colab_type": "code",
        "colab": {
          "base_uri": "https://localhost:8080/",
          "height": 122
        },
        "outputId": "a6b44fb7-0481-44d8-cef6-f2b6fbdd718b"
      },
      "source": [
        "df[\"W\"] > 0"
      ],
      "execution_count": 54,
      "outputs": [
        {
          "output_type": "execute_result",
          "data": {
            "text/plain": [
              "A     True\n",
              "B     True\n",
              "C    False\n",
              "D     True\n",
              "E     True\n",
              "Name: W, dtype: bool"
            ]
          },
          "metadata": {
            "tags": []
          },
          "execution_count": 54
        }
      ]
    },
    {
      "cell_type": "code",
      "metadata": {
        "id": "Db1ulxZIb4Ns",
        "colab_type": "code",
        "colab": {
          "base_uri": "https://localhost:8080/",
          "height": 169
        },
        "outputId": "196e9208-901e-4063-d37a-360a9255c76e"
      },
      "source": [
        "df[df[\"W\"] > 0] #this doesn't display the row that shows false in the 'W'th column."
      ],
      "execution_count": 55,
      "outputs": [
        {
          "output_type": "execute_result",
          "data": {
            "text/html": [
              "<div>\n",
              "<style scoped>\n",
              "    .dataframe tbody tr th:only-of-type {\n",
              "        vertical-align: middle;\n",
              "    }\n",
              "\n",
              "    .dataframe tbody tr th {\n",
              "        vertical-align: top;\n",
              "    }\n",
              "\n",
              "    .dataframe thead th {\n",
              "        text-align: right;\n",
              "    }\n",
              "</style>\n",
              "<table border=\"1\" class=\"dataframe\">\n",
              "  <thead>\n",
              "    <tr style=\"text-align: right;\">\n",
              "      <th></th>\n",
              "      <th>W</th>\n",
              "      <th>X</th>\n",
              "      <th>Y</th>\n",
              "      <th>Z</th>\n",
              "    </tr>\n",
              "  </thead>\n",
              "  <tbody>\n",
              "    <tr>\n",
              "      <th>A</th>\n",
              "      <td>2.706850</td>\n",
              "      <td>0.628133</td>\n",
              "      <td>0.907969</td>\n",
              "      <td>0.503826</td>\n",
              "    </tr>\n",
              "    <tr>\n",
              "      <th>B</th>\n",
              "      <td>0.651118</td>\n",
              "      <td>-0.319318</td>\n",
              "      <td>-0.848077</td>\n",
              "      <td>0.605965</td>\n",
              "    </tr>\n",
              "    <tr>\n",
              "      <th>D</th>\n",
              "      <td>0.188695</td>\n",
              "      <td>-0.758872</td>\n",
              "      <td>-0.933237</td>\n",
              "      <td>0.955057</td>\n",
              "    </tr>\n",
              "    <tr>\n",
              "      <th>E</th>\n",
              "      <td>0.190794</td>\n",
              "      <td>1.978757</td>\n",
              "      <td>2.605967</td>\n",
              "      <td>0.683509</td>\n",
              "    </tr>\n",
              "  </tbody>\n",
              "</table>\n",
              "</div>"
            ],
            "text/plain": [
              "          W         X         Y         Z\n",
              "A  2.706850  0.628133  0.907969  0.503826\n",
              "B  0.651118 -0.319318 -0.848077  0.605965\n",
              "D  0.188695 -0.758872 -0.933237  0.955057\n",
              "E  0.190794  1.978757  2.605967  0.683509"
            ]
          },
          "metadata": {
            "tags": []
          },
          "execution_count": 55
        }
      ]
    },
    {
      "cell_type": "code",
      "metadata": {
        "id": "RkeWcWLNcThD",
        "colab_type": "code",
        "colab": {
          "base_uri": "https://localhost:8080/",
          "height": 199
        },
        "outputId": "337e5e1d-c1e1-404e-b8f6-e083ec878a67"
      },
      "source": [
        "df[df > 0]"
      ],
      "execution_count": 56,
      "outputs": [
        {
          "output_type": "execute_result",
          "data": {
            "text/html": [
              "<div>\n",
              "<style scoped>\n",
              "    .dataframe tbody tr th:only-of-type {\n",
              "        vertical-align: middle;\n",
              "    }\n",
              "\n",
              "    .dataframe tbody tr th {\n",
              "        vertical-align: top;\n",
              "    }\n",
              "\n",
              "    .dataframe thead th {\n",
              "        text-align: right;\n",
              "    }\n",
              "</style>\n",
              "<table border=\"1\" class=\"dataframe\">\n",
              "  <thead>\n",
              "    <tr style=\"text-align: right;\">\n",
              "      <th></th>\n",
              "      <th>W</th>\n",
              "      <th>X</th>\n",
              "      <th>Y</th>\n",
              "      <th>Z</th>\n",
              "    </tr>\n",
              "  </thead>\n",
              "  <tbody>\n",
              "    <tr>\n",
              "      <th>A</th>\n",
              "      <td>2.706850</td>\n",
              "      <td>0.628133</td>\n",
              "      <td>0.907969</td>\n",
              "      <td>0.503826</td>\n",
              "    </tr>\n",
              "    <tr>\n",
              "      <th>B</th>\n",
              "      <td>0.651118</td>\n",
              "      <td>NaN</td>\n",
              "      <td>NaN</td>\n",
              "      <td>0.605965</td>\n",
              "    </tr>\n",
              "    <tr>\n",
              "      <th>C</th>\n",
              "      <td>NaN</td>\n",
              "      <td>0.740122</td>\n",
              "      <td>0.528813</td>\n",
              "      <td>NaN</td>\n",
              "    </tr>\n",
              "    <tr>\n",
              "      <th>D</th>\n",
              "      <td>0.188695</td>\n",
              "      <td>NaN</td>\n",
              "      <td>NaN</td>\n",
              "      <td>0.955057</td>\n",
              "    </tr>\n",
              "    <tr>\n",
              "      <th>E</th>\n",
              "      <td>0.190794</td>\n",
              "      <td>1.978757</td>\n",
              "      <td>2.605967</td>\n",
              "      <td>0.683509</td>\n",
              "    </tr>\n",
              "  </tbody>\n",
              "</table>\n",
              "</div>"
            ],
            "text/plain": [
              "          W         X         Y         Z\n",
              "A  2.706850  0.628133  0.907969  0.503826\n",
              "B  0.651118       NaN       NaN  0.605965\n",
              "C       NaN  0.740122  0.528813       NaN\n",
              "D  0.188695       NaN       NaN  0.955057\n",
              "E  0.190794  1.978757  2.605967  0.683509"
            ]
          },
          "metadata": {
            "tags": []
          },
          "execution_count": 56
        }
      ]
    },
    {
      "cell_type": "code",
      "metadata": {
        "id": "MpUwr-rWdDXt",
        "colab_type": "code",
        "colab": {
          "base_uri": "https://localhost:8080/",
          "height": 78
        },
        "outputId": "af64d64b-1bc9-41a5-bd19-c1f4440f331d"
      },
      "source": [
        "#display all the rows in df where z < 0\n",
        "df[df[\"Z\"] < 0]"
      ],
      "execution_count": 57,
      "outputs": [
        {
          "output_type": "execute_result",
          "data": {
            "text/html": [
              "<div>\n",
              "<style scoped>\n",
              "    .dataframe tbody tr th:only-of-type {\n",
              "        vertical-align: middle;\n",
              "    }\n",
              "\n",
              "    .dataframe tbody tr th {\n",
              "        vertical-align: top;\n",
              "    }\n",
              "\n",
              "    .dataframe thead th {\n",
              "        text-align: right;\n",
              "    }\n",
              "</style>\n",
              "<table border=\"1\" class=\"dataframe\">\n",
              "  <thead>\n",
              "    <tr style=\"text-align: right;\">\n",
              "      <th></th>\n",
              "      <th>W</th>\n",
              "      <th>X</th>\n",
              "      <th>Y</th>\n",
              "      <th>Z</th>\n",
              "    </tr>\n",
              "  </thead>\n",
              "  <tbody>\n",
              "    <tr>\n",
              "      <th>C</th>\n",
              "      <td>-2.018168</td>\n",
              "      <td>0.740122</td>\n",
              "      <td>0.528813</td>\n",
              "      <td>-0.589001</td>\n",
              "    </tr>\n",
              "  </tbody>\n",
              "</table>\n",
              "</div>"
            ],
            "text/plain": [
              "          W         X         Y         Z\n",
              "C -2.018168  0.740122  0.528813 -0.589001"
            ]
          },
          "metadata": {
            "tags": []
          },
          "execution_count": 57
        }
      ]
    },
    {
      "cell_type": "code",
      "metadata": {
        "id": "jnjmCD8EdVDw",
        "colab_type": "code",
        "colab": {}
      },
      "source": [
        "resultdf = df[df[\"W\"] > 0]"
      ],
      "execution_count": 58,
      "outputs": []
    },
    {
      "cell_type": "code",
      "metadata": {
        "id": "_9QY_t3Ud066",
        "colab_type": "code",
        "colab": {
          "base_uri": "https://localhost:8080/",
          "height": 169
        },
        "outputId": "1fff3d1f-2399-4d49-becc-96aed38bd25f"
      },
      "source": [
        "resultdf"
      ],
      "execution_count": 59,
      "outputs": [
        {
          "output_type": "execute_result",
          "data": {
            "text/html": [
              "<div>\n",
              "<style scoped>\n",
              "    .dataframe tbody tr th:only-of-type {\n",
              "        vertical-align: middle;\n",
              "    }\n",
              "\n",
              "    .dataframe tbody tr th {\n",
              "        vertical-align: top;\n",
              "    }\n",
              "\n",
              "    .dataframe thead th {\n",
              "        text-align: right;\n",
              "    }\n",
              "</style>\n",
              "<table border=\"1\" class=\"dataframe\">\n",
              "  <thead>\n",
              "    <tr style=\"text-align: right;\">\n",
              "      <th></th>\n",
              "      <th>W</th>\n",
              "      <th>X</th>\n",
              "      <th>Y</th>\n",
              "      <th>Z</th>\n",
              "    </tr>\n",
              "  </thead>\n",
              "  <tbody>\n",
              "    <tr>\n",
              "      <th>A</th>\n",
              "      <td>2.706850</td>\n",
              "      <td>0.628133</td>\n",
              "      <td>0.907969</td>\n",
              "      <td>0.503826</td>\n",
              "    </tr>\n",
              "    <tr>\n",
              "      <th>B</th>\n",
              "      <td>0.651118</td>\n",
              "      <td>-0.319318</td>\n",
              "      <td>-0.848077</td>\n",
              "      <td>0.605965</td>\n",
              "    </tr>\n",
              "    <tr>\n",
              "      <th>D</th>\n",
              "      <td>0.188695</td>\n",
              "      <td>-0.758872</td>\n",
              "      <td>-0.933237</td>\n",
              "      <td>0.955057</td>\n",
              "    </tr>\n",
              "    <tr>\n",
              "      <th>E</th>\n",
              "      <td>0.190794</td>\n",
              "      <td>1.978757</td>\n",
              "      <td>2.605967</td>\n",
              "      <td>0.683509</td>\n",
              "    </tr>\n",
              "  </tbody>\n",
              "</table>\n",
              "</div>"
            ],
            "text/plain": [
              "          W         X         Y         Z\n",
              "A  2.706850  0.628133  0.907969  0.503826\n",
              "B  0.651118 -0.319318 -0.848077  0.605965\n",
              "D  0.188695 -0.758872 -0.933237  0.955057\n",
              "E  0.190794  1.978757  2.605967  0.683509"
            ]
          },
          "metadata": {
            "tags": []
          },
          "execution_count": 59
        }
      ]
    },
    {
      "cell_type": "code",
      "metadata": {
        "id": "xIItDGB9d2CG",
        "colab_type": "code",
        "colab": {
          "base_uri": "https://localhost:8080/",
          "height": 105
        },
        "outputId": "3f642af5-9757-48d8-eeef-4b887f65ea6a"
      },
      "source": [
        "resultdf[\"Y\"]"
      ],
      "execution_count": 60,
      "outputs": [
        {
          "output_type": "execute_result",
          "data": {
            "text/plain": [
              "A    0.907969\n",
              "B   -0.848077\n",
              "D   -0.933237\n",
              "E    2.605967\n",
              "Name: Y, dtype: float64"
            ]
          },
          "metadata": {
            "tags": []
          },
          "execution_count": 60
        }
      ]
    },
    {
      "cell_type": "code",
      "metadata": {
        "id": "FyYhyBWQeif_",
        "colab_type": "code",
        "colab": {
          "base_uri": "https://localhost:8080/",
          "height": 105
        },
        "outputId": "c3df6a50-6ef2-4a7e-8352-c0fb4264e75d"
      },
      "source": [
        "df[df[\"W\"] > 0][\"Y\"] #same as the above"
      ],
      "execution_count": 62,
      "outputs": [
        {
          "output_type": "execute_result",
          "data": {
            "text/plain": [
              "A    0.907969\n",
              "B   -0.848077\n",
              "D   -0.933237\n",
              "E    2.605967\n",
              "Name: Y, dtype: float64"
            ]
          },
          "metadata": {
            "tags": []
          },
          "execution_count": 62
        }
      ]
    },
    {
      "cell_type": "code",
      "metadata": {
        "id": "AlNbJK_M7hED",
        "colab_type": "code",
        "colab": {
          "base_uri": "https://localhost:8080/",
          "height": 169
        },
        "outputId": "13cc57c2-f3d4-49e8-e5ce-7abe690d0c53"
      },
      "source": [
        "df[df[\"W\"] > 0][[\"X\",\"Y\"]]"
      ],
      "execution_count": 67,
      "outputs": [
        {
          "output_type": "execute_result",
          "data": {
            "text/html": [
              "<div>\n",
              "<style scoped>\n",
              "    .dataframe tbody tr th:only-of-type {\n",
              "        vertical-align: middle;\n",
              "    }\n",
              "\n",
              "    .dataframe tbody tr th {\n",
              "        vertical-align: top;\n",
              "    }\n",
              "\n",
              "    .dataframe thead th {\n",
              "        text-align: right;\n",
              "    }\n",
              "</style>\n",
              "<table border=\"1\" class=\"dataframe\">\n",
              "  <thead>\n",
              "    <tr style=\"text-align: right;\">\n",
              "      <th></th>\n",
              "      <th>X</th>\n",
              "      <th>Y</th>\n",
              "    </tr>\n",
              "  </thead>\n",
              "  <tbody>\n",
              "    <tr>\n",
              "      <th>A</th>\n",
              "      <td>0.628133</td>\n",
              "      <td>0.907969</td>\n",
              "    </tr>\n",
              "    <tr>\n",
              "      <th>B</th>\n",
              "      <td>-0.319318</td>\n",
              "      <td>-0.848077</td>\n",
              "    </tr>\n",
              "    <tr>\n",
              "      <th>D</th>\n",
              "      <td>-0.758872</td>\n",
              "      <td>-0.933237</td>\n",
              "    </tr>\n",
              "    <tr>\n",
              "      <th>E</th>\n",
              "      <td>1.978757</td>\n",
              "      <td>2.605967</td>\n",
              "    </tr>\n",
              "  </tbody>\n",
              "</table>\n",
              "</div>"
            ],
            "text/plain": [
              "          X         Y\n",
              "A  0.628133  0.907969\n",
              "B -0.319318 -0.848077\n",
              "D -0.758872 -0.933237\n",
              "E  1.978757  2.605967"
            ]
          },
          "metadata": {
            "tags": []
          },
          "execution_count": 67
        }
      ]
    },
    {
      "cell_type": "code",
      "metadata": {
        "id": "wAAQQJVQ7rRj",
        "colab_type": "code",
        "colab": {
          "base_uri": "https://localhost:8080/",
          "height": 169
        },
        "outputId": "7a527e8b-984b-4e67-b30a-fcdfbe0d1deb"
      },
      "source": [
        "boolser = df[\"W\"] > 0\n",
        "result = df[boolser]\n",
        "columns = [\"X\",\"Y\"]\n",
        "result[columns]"
      ],
      "execution_count": 68,
      "outputs": [
        {
          "output_type": "execute_result",
          "data": {
            "text/html": [
              "<div>\n",
              "<style scoped>\n",
              "    .dataframe tbody tr th:only-of-type {\n",
              "        vertical-align: middle;\n",
              "    }\n",
              "\n",
              "    .dataframe tbody tr th {\n",
              "        vertical-align: top;\n",
              "    }\n",
              "\n",
              "    .dataframe thead th {\n",
              "        text-align: right;\n",
              "    }\n",
              "</style>\n",
              "<table border=\"1\" class=\"dataframe\">\n",
              "  <thead>\n",
              "    <tr style=\"text-align: right;\">\n",
              "      <th></th>\n",
              "      <th>X</th>\n",
              "      <th>Y</th>\n",
              "    </tr>\n",
              "  </thead>\n",
              "  <tbody>\n",
              "    <tr>\n",
              "      <th>A</th>\n",
              "      <td>0.628133</td>\n",
              "      <td>0.907969</td>\n",
              "    </tr>\n",
              "    <tr>\n",
              "      <th>B</th>\n",
              "      <td>-0.319318</td>\n",
              "      <td>-0.848077</td>\n",
              "    </tr>\n",
              "    <tr>\n",
              "      <th>D</th>\n",
              "      <td>-0.758872</td>\n",
              "      <td>-0.933237</td>\n",
              "    </tr>\n",
              "    <tr>\n",
              "      <th>E</th>\n",
              "      <td>1.978757</td>\n",
              "      <td>2.605967</td>\n",
              "    </tr>\n",
              "  </tbody>\n",
              "</table>\n",
              "</div>"
            ],
            "text/plain": [
              "          X         Y\n",
              "A  0.628133  0.907969\n",
              "B -0.319318 -0.848077\n",
              "D -0.758872 -0.933237\n",
              "E  1.978757  2.605967"
            ]
          },
          "metadata": {
            "tags": []
          },
          "execution_count": 68
        }
      ]
    },
    {
      "cell_type": "code",
      "metadata": {
        "id": "ZnFjozN88Sok",
        "colab_type": "code",
        "colab": {
          "base_uri": "https://localhost:8080/",
          "height": 199
        },
        "outputId": "781ef01e-c449-47a8-ede1-d727a9bd004b"
      },
      "source": [
        "df"
      ],
      "execution_count": 69,
      "outputs": [
        {
          "output_type": "execute_result",
          "data": {
            "text/html": [
              "<div>\n",
              "<style scoped>\n",
              "    .dataframe tbody tr th:only-of-type {\n",
              "        vertical-align: middle;\n",
              "    }\n",
              "\n",
              "    .dataframe tbody tr th {\n",
              "        vertical-align: top;\n",
              "    }\n",
              "\n",
              "    .dataframe thead th {\n",
              "        text-align: right;\n",
              "    }\n",
              "</style>\n",
              "<table border=\"1\" class=\"dataframe\">\n",
              "  <thead>\n",
              "    <tr style=\"text-align: right;\">\n",
              "      <th></th>\n",
              "      <th>W</th>\n",
              "      <th>X</th>\n",
              "      <th>Y</th>\n",
              "      <th>Z</th>\n",
              "    </tr>\n",
              "  </thead>\n",
              "  <tbody>\n",
              "    <tr>\n",
              "      <th>A</th>\n",
              "      <td>2.706850</td>\n",
              "      <td>0.628133</td>\n",
              "      <td>0.907969</td>\n",
              "      <td>0.503826</td>\n",
              "    </tr>\n",
              "    <tr>\n",
              "      <th>B</th>\n",
              "      <td>0.651118</td>\n",
              "      <td>-0.319318</td>\n",
              "      <td>-0.848077</td>\n",
              "      <td>0.605965</td>\n",
              "    </tr>\n",
              "    <tr>\n",
              "      <th>C</th>\n",
              "      <td>-2.018168</td>\n",
              "      <td>0.740122</td>\n",
              "      <td>0.528813</td>\n",
              "      <td>-0.589001</td>\n",
              "    </tr>\n",
              "    <tr>\n",
              "      <th>D</th>\n",
              "      <td>0.188695</td>\n",
              "      <td>-0.758872</td>\n",
              "      <td>-0.933237</td>\n",
              "      <td>0.955057</td>\n",
              "    </tr>\n",
              "    <tr>\n",
              "      <th>E</th>\n",
              "      <td>0.190794</td>\n",
              "      <td>1.978757</td>\n",
              "      <td>2.605967</td>\n",
              "      <td>0.683509</td>\n",
              "    </tr>\n",
              "  </tbody>\n",
              "</table>\n",
              "</div>"
            ],
            "text/plain": [
              "          W         X         Y         Z\n",
              "A  2.706850  0.628133  0.907969  0.503826\n",
              "B  0.651118 -0.319318 -0.848077  0.605965\n",
              "C -2.018168  0.740122  0.528813 -0.589001\n",
              "D  0.188695 -0.758872 -0.933237  0.955057\n",
              "E  0.190794  1.978757  2.605967  0.683509"
            ]
          },
          "metadata": {
            "tags": []
          },
          "execution_count": 69
        }
      ]
    },
    {
      "cell_type": "code",
      "metadata": {
        "id": "zd0SmDOH8ZBU",
        "colab_type": "code",
        "colab": {
          "base_uri": "https://localhost:8080/",
          "height": 139
        },
        "outputId": "3e69b683-5fc6-4ace-d192-9b3097097e59"
      },
      "source": [
        "#to display the columns W and Y where Y is positive\n",
        "df[df[\"Y\"] > 0][[\"W\",\"Y\"]]"
      ],
      "execution_count": 72,
      "outputs": [
        {
          "output_type": "execute_result",
          "data": {
            "text/html": [
              "<div>\n",
              "<style scoped>\n",
              "    .dataframe tbody tr th:only-of-type {\n",
              "        vertical-align: middle;\n",
              "    }\n",
              "\n",
              "    .dataframe tbody tr th {\n",
              "        vertical-align: top;\n",
              "    }\n",
              "\n",
              "    .dataframe thead th {\n",
              "        text-align: right;\n",
              "    }\n",
              "</style>\n",
              "<table border=\"1\" class=\"dataframe\">\n",
              "  <thead>\n",
              "    <tr style=\"text-align: right;\">\n",
              "      <th></th>\n",
              "      <th>W</th>\n",
              "      <th>Y</th>\n",
              "    </tr>\n",
              "  </thead>\n",
              "  <tbody>\n",
              "    <tr>\n",
              "      <th>A</th>\n",
              "      <td>2.706850</td>\n",
              "      <td>0.907969</td>\n",
              "    </tr>\n",
              "    <tr>\n",
              "      <th>C</th>\n",
              "      <td>-2.018168</td>\n",
              "      <td>0.528813</td>\n",
              "    </tr>\n",
              "    <tr>\n",
              "      <th>E</th>\n",
              "      <td>0.190794</td>\n",
              "      <td>2.605967</td>\n",
              "    </tr>\n",
              "  </tbody>\n",
              "</table>\n",
              "</div>"
            ],
            "text/plain": [
              "          W         Y\n",
              "A  2.706850  0.907969\n",
              "C -2.018168  0.528813\n",
              "E  0.190794  2.605967"
            ]
          },
          "metadata": {
            "tags": []
          },
          "execution_count": 72
        }
      ]
    },
    {
      "cell_type": "markdown",
      "metadata": {
        "id": "95LORFo99c5N",
        "colab_type": "text"
      },
      "source": [
        "If you want to check multiple conditions in a DataFrame, don't use the 'and' operator. 'and' operator works only when there are two boolean values. But the output we are generating is series. So, a series has so many True and False values. 'and' doesn't work then. So, instead, we can use the & operator. Similarly instead of 'or' operator, use |."
      ]
    },
    {
      "cell_type": "code",
      "metadata": {
        "id": "_6LFk4QT8ijS",
        "colab_type": "code",
        "colab": {
          "base_uri": "https://localhost:8080/",
          "height": 78
        },
        "outputId": "8ca07c27-a3c6-42d2-ffb7-b901114d3daf"
      },
      "source": [
        "w_column = df[\"W\"] > 0\n",
        "y_column = df[\"Y\"] > 1\n",
        "res = df[(w_column) & (y_column)]\n",
        "res"
      ],
      "execution_count": 74,
      "outputs": [
        {
          "output_type": "execute_result",
          "data": {
            "text/html": [
              "<div>\n",
              "<style scoped>\n",
              "    .dataframe tbody tr th:only-of-type {\n",
              "        vertical-align: middle;\n",
              "    }\n",
              "\n",
              "    .dataframe tbody tr th {\n",
              "        vertical-align: top;\n",
              "    }\n",
              "\n",
              "    .dataframe thead th {\n",
              "        text-align: right;\n",
              "    }\n",
              "</style>\n",
              "<table border=\"1\" class=\"dataframe\">\n",
              "  <thead>\n",
              "    <tr style=\"text-align: right;\">\n",
              "      <th></th>\n",
              "      <th>W</th>\n",
              "      <th>X</th>\n",
              "      <th>Y</th>\n",
              "      <th>Z</th>\n",
              "    </tr>\n",
              "  </thead>\n",
              "  <tbody>\n",
              "    <tr>\n",
              "      <th>E</th>\n",
              "      <td>0.190794</td>\n",
              "      <td>1.978757</td>\n",
              "      <td>2.605967</td>\n",
              "      <td>0.683509</td>\n",
              "    </tr>\n",
              "  </tbody>\n",
              "</table>\n",
              "</div>"
            ],
            "text/plain": [
              "          W         X         Y         Z\n",
              "E  0.190794  1.978757  2.605967  0.683509"
            ]
          },
          "metadata": {
            "tags": []
          },
          "execution_count": 74
        }
      ]
    },
    {
      "cell_type": "code",
      "metadata": {
        "id": "tKB_cQiw_m4G",
        "colab_type": "code",
        "colab": {
          "base_uri": "https://localhost:8080/",
          "height": 78
        },
        "outputId": "5058bf92-da38-4176-f154-4b2fe6ab37bd"
      },
      "source": [
        "df[(df[\"W\"] > 0) & (df[\"Y\"] > 1)] #same as above"
      ],
      "execution_count": 75,
      "outputs": [
        {
          "output_type": "execute_result",
          "data": {
            "text/html": [
              "<div>\n",
              "<style scoped>\n",
              "    .dataframe tbody tr th:only-of-type {\n",
              "        vertical-align: middle;\n",
              "    }\n",
              "\n",
              "    .dataframe tbody tr th {\n",
              "        vertical-align: top;\n",
              "    }\n",
              "\n",
              "    .dataframe thead th {\n",
              "        text-align: right;\n",
              "    }\n",
              "</style>\n",
              "<table border=\"1\" class=\"dataframe\">\n",
              "  <thead>\n",
              "    <tr style=\"text-align: right;\">\n",
              "      <th></th>\n",
              "      <th>W</th>\n",
              "      <th>X</th>\n",
              "      <th>Y</th>\n",
              "      <th>Z</th>\n",
              "    </tr>\n",
              "  </thead>\n",
              "  <tbody>\n",
              "    <tr>\n",
              "      <th>E</th>\n",
              "      <td>0.190794</td>\n",
              "      <td>1.978757</td>\n",
              "      <td>2.605967</td>\n",
              "      <td>0.683509</td>\n",
              "    </tr>\n",
              "  </tbody>\n",
              "</table>\n",
              "</div>"
            ],
            "text/plain": [
              "          W         X         Y         Z\n",
              "E  0.190794  1.978757  2.605967  0.683509"
            ]
          },
          "metadata": {
            "tags": []
          },
          "execution_count": 75
        }
      ]
    },
    {
      "cell_type": "code",
      "metadata": {
        "id": "3n692L3W_65u",
        "colab_type": "code",
        "colab": {
          "base_uri": "https://localhost:8080/",
          "height": 169
        },
        "outputId": "67c268ce-7b71-4dfa-a786-c8ef5e5a372b"
      },
      "source": [
        "df[(df[\"W\"] > 0) | (df[\"Y\"] > 1)] #opposite of the above"
      ],
      "execution_count": 77,
      "outputs": [
        {
          "output_type": "execute_result",
          "data": {
            "text/html": [
              "<div>\n",
              "<style scoped>\n",
              "    .dataframe tbody tr th:only-of-type {\n",
              "        vertical-align: middle;\n",
              "    }\n",
              "\n",
              "    .dataframe tbody tr th {\n",
              "        vertical-align: top;\n",
              "    }\n",
              "\n",
              "    .dataframe thead th {\n",
              "        text-align: right;\n",
              "    }\n",
              "</style>\n",
              "<table border=\"1\" class=\"dataframe\">\n",
              "  <thead>\n",
              "    <tr style=\"text-align: right;\">\n",
              "      <th></th>\n",
              "      <th>W</th>\n",
              "      <th>X</th>\n",
              "      <th>Y</th>\n",
              "      <th>Z</th>\n",
              "    </tr>\n",
              "  </thead>\n",
              "  <tbody>\n",
              "    <tr>\n",
              "      <th>A</th>\n",
              "      <td>2.706850</td>\n",
              "      <td>0.628133</td>\n",
              "      <td>0.907969</td>\n",
              "      <td>0.503826</td>\n",
              "    </tr>\n",
              "    <tr>\n",
              "      <th>B</th>\n",
              "      <td>0.651118</td>\n",
              "      <td>-0.319318</td>\n",
              "      <td>-0.848077</td>\n",
              "      <td>0.605965</td>\n",
              "    </tr>\n",
              "    <tr>\n",
              "      <th>D</th>\n",
              "      <td>0.188695</td>\n",
              "      <td>-0.758872</td>\n",
              "      <td>-0.933237</td>\n",
              "      <td>0.955057</td>\n",
              "    </tr>\n",
              "    <tr>\n",
              "      <th>E</th>\n",
              "      <td>0.190794</td>\n",
              "      <td>1.978757</td>\n",
              "      <td>2.605967</td>\n",
              "      <td>0.683509</td>\n",
              "    </tr>\n",
              "  </tbody>\n",
              "</table>\n",
              "</div>"
            ],
            "text/plain": [
              "          W         X         Y         Z\n",
              "A  2.706850  0.628133  0.907969  0.503826\n",
              "B  0.651118 -0.319318 -0.848077  0.605965\n",
              "D  0.188695 -0.758872 -0.933237  0.955057\n",
              "E  0.190794  1.978757  2.605967  0.683509"
            ]
          },
          "metadata": {
            "tags": []
          },
          "execution_count": 77
        }
      ]
    },
    {
      "cell_type": "code",
      "metadata": {
        "id": "SRZZUsup__Rt",
        "colab_type": "code",
        "colab": {
          "base_uri": "https://localhost:8080/",
          "height": 199
        },
        "outputId": "2b21176d-81f3-4d0f-a1cf-1be2f600d3b2"
      },
      "source": [
        "df"
      ],
      "execution_count": 78,
      "outputs": [
        {
          "output_type": "execute_result",
          "data": {
            "text/html": [
              "<div>\n",
              "<style scoped>\n",
              "    .dataframe tbody tr th:only-of-type {\n",
              "        vertical-align: middle;\n",
              "    }\n",
              "\n",
              "    .dataframe tbody tr th {\n",
              "        vertical-align: top;\n",
              "    }\n",
              "\n",
              "    .dataframe thead th {\n",
              "        text-align: right;\n",
              "    }\n",
              "</style>\n",
              "<table border=\"1\" class=\"dataframe\">\n",
              "  <thead>\n",
              "    <tr style=\"text-align: right;\">\n",
              "      <th></th>\n",
              "      <th>W</th>\n",
              "      <th>X</th>\n",
              "      <th>Y</th>\n",
              "      <th>Z</th>\n",
              "    </tr>\n",
              "  </thead>\n",
              "  <tbody>\n",
              "    <tr>\n",
              "      <th>A</th>\n",
              "      <td>2.706850</td>\n",
              "      <td>0.628133</td>\n",
              "      <td>0.907969</td>\n",
              "      <td>0.503826</td>\n",
              "    </tr>\n",
              "    <tr>\n",
              "      <th>B</th>\n",
              "      <td>0.651118</td>\n",
              "      <td>-0.319318</td>\n",
              "      <td>-0.848077</td>\n",
              "      <td>0.605965</td>\n",
              "    </tr>\n",
              "    <tr>\n",
              "      <th>C</th>\n",
              "      <td>-2.018168</td>\n",
              "      <td>0.740122</td>\n",
              "      <td>0.528813</td>\n",
              "      <td>-0.589001</td>\n",
              "    </tr>\n",
              "    <tr>\n",
              "      <th>D</th>\n",
              "      <td>0.188695</td>\n",
              "      <td>-0.758872</td>\n",
              "      <td>-0.933237</td>\n",
              "      <td>0.955057</td>\n",
              "    </tr>\n",
              "    <tr>\n",
              "      <th>E</th>\n",
              "      <td>0.190794</td>\n",
              "      <td>1.978757</td>\n",
              "      <td>2.605967</td>\n",
              "      <td>0.683509</td>\n",
              "    </tr>\n",
              "  </tbody>\n",
              "</table>\n",
              "</div>"
            ],
            "text/plain": [
              "          W         X         Y         Z\n",
              "A  2.706850  0.628133  0.907969  0.503826\n",
              "B  0.651118 -0.319318 -0.848077  0.605965\n",
              "C -2.018168  0.740122  0.528813 -0.589001\n",
              "D  0.188695 -0.758872 -0.933237  0.955057\n",
              "E  0.190794  1.978757  2.605967  0.683509"
            ]
          },
          "metadata": {
            "tags": []
          },
          "execution_count": 78
        }
      ]
    },
    {
      "cell_type": "code",
      "metadata": {
        "id": "BzB0a-mGAiaF",
        "colab_type": "code",
        "colab": {
          "base_uri": "https://localhost:8080/",
          "height": 199
        },
        "outputId": "94052551-1da5-4523-b49d-8a5466c8b223"
      },
      "source": [
        "df.reset_index() #this resets the index as the normal range (0 to n). \n",
        "#this doesn't occur normally unless specified using inplace = True."
      ],
      "execution_count": 82,
      "outputs": [
        {
          "output_type": "execute_result",
          "data": {
            "text/html": [
              "<div>\n",
              "<style scoped>\n",
              "    .dataframe tbody tr th:only-of-type {\n",
              "        vertical-align: middle;\n",
              "    }\n",
              "\n",
              "    .dataframe tbody tr th {\n",
              "        vertical-align: top;\n",
              "    }\n",
              "\n",
              "    .dataframe thead th {\n",
              "        text-align: right;\n",
              "    }\n",
              "</style>\n",
              "<table border=\"1\" class=\"dataframe\">\n",
              "  <thead>\n",
              "    <tr style=\"text-align: right;\">\n",
              "      <th></th>\n",
              "      <th>index</th>\n",
              "      <th>W</th>\n",
              "      <th>X</th>\n",
              "      <th>Y</th>\n",
              "      <th>Z</th>\n",
              "    </tr>\n",
              "  </thead>\n",
              "  <tbody>\n",
              "    <tr>\n",
              "      <th>0</th>\n",
              "      <td>A</td>\n",
              "      <td>2.706850</td>\n",
              "      <td>0.628133</td>\n",
              "      <td>0.907969</td>\n",
              "      <td>0.503826</td>\n",
              "    </tr>\n",
              "    <tr>\n",
              "      <th>1</th>\n",
              "      <td>B</td>\n",
              "      <td>0.651118</td>\n",
              "      <td>-0.319318</td>\n",
              "      <td>-0.848077</td>\n",
              "      <td>0.605965</td>\n",
              "    </tr>\n",
              "    <tr>\n",
              "      <th>2</th>\n",
              "      <td>C</td>\n",
              "      <td>-2.018168</td>\n",
              "      <td>0.740122</td>\n",
              "      <td>0.528813</td>\n",
              "      <td>-0.589001</td>\n",
              "    </tr>\n",
              "    <tr>\n",
              "      <th>3</th>\n",
              "      <td>D</td>\n",
              "      <td>0.188695</td>\n",
              "      <td>-0.758872</td>\n",
              "      <td>-0.933237</td>\n",
              "      <td>0.955057</td>\n",
              "    </tr>\n",
              "    <tr>\n",
              "      <th>4</th>\n",
              "      <td>E</td>\n",
              "      <td>0.190794</td>\n",
              "      <td>1.978757</td>\n",
              "      <td>2.605967</td>\n",
              "      <td>0.683509</td>\n",
              "    </tr>\n",
              "  </tbody>\n",
              "</table>\n",
              "</div>"
            ],
            "text/plain": [
              "  index         W         X         Y         Z\n",
              "0     A  2.706850  0.628133  0.907969  0.503826\n",
              "1     B  0.651118 -0.319318 -0.848077  0.605965\n",
              "2     C -2.018168  0.740122  0.528813 -0.589001\n",
              "3     D  0.188695 -0.758872 -0.933237  0.955057\n",
              "4     E  0.190794  1.978757  2.605967  0.683509"
            ]
          },
          "metadata": {
            "tags": []
          },
          "execution_count": 82
        }
      ]
    },
    {
      "cell_type": "code",
      "metadata": {
        "id": "excddxp5Ak-W",
        "colab_type": "code",
        "colab": {
          "base_uri": "https://localhost:8080/",
          "height": 199
        },
        "outputId": "163f9889-ad90-4b84-a0c4-6f0b4a07e7da"
      },
      "source": [
        "df"
      ],
      "execution_count": 83,
      "outputs": [
        {
          "output_type": "execute_result",
          "data": {
            "text/html": [
              "<div>\n",
              "<style scoped>\n",
              "    .dataframe tbody tr th:only-of-type {\n",
              "        vertical-align: middle;\n",
              "    }\n",
              "\n",
              "    .dataframe tbody tr th {\n",
              "        vertical-align: top;\n",
              "    }\n",
              "\n",
              "    .dataframe thead th {\n",
              "        text-align: right;\n",
              "    }\n",
              "</style>\n",
              "<table border=\"1\" class=\"dataframe\">\n",
              "  <thead>\n",
              "    <tr style=\"text-align: right;\">\n",
              "      <th></th>\n",
              "      <th>W</th>\n",
              "      <th>X</th>\n",
              "      <th>Y</th>\n",
              "      <th>Z</th>\n",
              "    </tr>\n",
              "  </thead>\n",
              "  <tbody>\n",
              "    <tr>\n",
              "      <th>A</th>\n",
              "      <td>2.706850</td>\n",
              "      <td>0.628133</td>\n",
              "      <td>0.907969</td>\n",
              "      <td>0.503826</td>\n",
              "    </tr>\n",
              "    <tr>\n",
              "      <th>B</th>\n",
              "      <td>0.651118</td>\n",
              "      <td>-0.319318</td>\n",
              "      <td>-0.848077</td>\n",
              "      <td>0.605965</td>\n",
              "    </tr>\n",
              "    <tr>\n",
              "      <th>C</th>\n",
              "      <td>-2.018168</td>\n",
              "      <td>0.740122</td>\n",
              "      <td>0.528813</td>\n",
              "      <td>-0.589001</td>\n",
              "    </tr>\n",
              "    <tr>\n",
              "      <th>D</th>\n",
              "      <td>0.188695</td>\n",
              "      <td>-0.758872</td>\n",
              "      <td>-0.933237</td>\n",
              "      <td>0.955057</td>\n",
              "    </tr>\n",
              "    <tr>\n",
              "      <th>E</th>\n",
              "      <td>0.190794</td>\n",
              "      <td>1.978757</td>\n",
              "      <td>2.605967</td>\n",
              "      <td>0.683509</td>\n",
              "    </tr>\n",
              "  </tbody>\n",
              "</table>\n",
              "</div>"
            ],
            "text/plain": [
              "          W         X         Y         Z\n",
              "A  2.706850  0.628133  0.907969  0.503826\n",
              "B  0.651118 -0.319318 -0.848077  0.605965\n",
              "C -2.018168  0.740122  0.528813 -0.589001\n",
              "D  0.188695 -0.758872 -0.933237  0.955057\n",
              "E  0.190794  1.978757  2.605967  0.683509"
            ]
          },
          "metadata": {
            "tags": []
          },
          "execution_count": 83
        }
      ]
    },
    {
      "cell_type": "code",
      "metadata": {
        "id": "NWjhnKDYB0q7",
        "colab_type": "code",
        "colab": {
          "base_uri": "https://localhost:8080/",
          "height": 230
        },
        "outputId": "afc64d01-2345-4d09-e362-7e3b5a41345b"
      },
      "source": [
        "df.set_index(\"Z\") #now Z is the new index"
      ],
      "execution_count": 85,
      "outputs": [
        {
          "output_type": "execute_result",
          "data": {
            "text/html": [
              "<div>\n",
              "<style scoped>\n",
              "    .dataframe tbody tr th:only-of-type {\n",
              "        vertical-align: middle;\n",
              "    }\n",
              "\n",
              "    .dataframe tbody tr th {\n",
              "        vertical-align: top;\n",
              "    }\n",
              "\n",
              "    .dataframe thead th {\n",
              "        text-align: right;\n",
              "    }\n",
              "</style>\n",
              "<table border=\"1\" class=\"dataframe\">\n",
              "  <thead>\n",
              "    <tr style=\"text-align: right;\">\n",
              "      <th></th>\n",
              "      <th>W</th>\n",
              "      <th>X</th>\n",
              "      <th>Y</th>\n",
              "    </tr>\n",
              "    <tr>\n",
              "      <th>Z</th>\n",
              "      <th></th>\n",
              "      <th></th>\n",
              "      <th></th>\n",
              "    </tr>\n",
              "  </thead>\n",
              "  <tbody>\n",
              "    <tr>\n",
              "      <th>0.503826</th>\n",
              "      <td>2.706850</td>\n",
              "      <td>0.628133</td>\n",
              "      <td>0.907969</td>\n",
              "    </tr>\n",
              "    <tr>\n",
              "      <th>0.605965</th>\n",
              "      <td>0.651118</td>\n",
              "      <td>-0.319318</td>\n",
              "      <td>-0.848077</td>\n",
              "    </tr>\n",
              "    <tr>\n",
              "      <th>-0.589001</th>\n",
              "      <td>-2.018168</td>\n",
              "      <td>0.740122</td>\n",
              "      <td>0.528813</td>\n",
              "    </tr>\n",
              "    <tr>\n",
              "      <th>0.955057</th>\n",
              "      <td>0.188695</td>\n",
              "      <td>-0.758872</td>\n",
              "      <td>-0.933237</td>\n",
              "    </tr>\n",
              "    <tr>\n",
              "      <th>0.683509</th>\n",
              "      <td>0.190794</td>\n",
              "      <td>1.978757</td>\n",
              "      <td>2.605967</td>\n",
              "    </tr>\n",
              "  </tbody>\n",
              "</table>\n",
              "</div>"
            ],
            "text/plain": [
              "                  W         X         Y\n",
              "Z                                      \n",
              " 0.503826  2.706850  0.628133  0.907969\n",
              " 0.605965  0.651118 -0.319318 -0.848077\n",
              "-0.589001 -2.018168  0.740122  0.528813\n",
              " 0.955057  0.188695 -0.758872 -0.933237\n",
              " 0.683509  0.190794  1.978757  2.605967"
            ]
          },
          "metadata": {
            "tags": []
          },
          "execution_count": 85
        }
      ]
    },
    {
      "cell_type": "code",
      "metadata": {
        "id": "mOuw4gLjB5dZ",
        "colab_type": "code",
        "colab": {
          "base_uri": "https://localhost:8080/",
          "height": 199
        },
        "outputId": "beb9532c-a772-474b-9e3f-59bf1085a1c3"
      },
      "source": [
        "df"
      ],
      "execution_count": 86,
      "outputs": [
        {
          "output_type": "execute_result",
          "data": {
            "text/html": [
              "<div>\n",
              "<style scoped>\n",
              "    .dataframe tbody tr th:only-of-type {\n",
              "        vertical-align: middle;\n",
              "    }\n",
              "\n",
              "    .dataframe tbody tr th {\n",
              "        vertical-align: top;\n",
              "    }\n",
              "\n",
              "    .dataframe thead th {\n",
              "        text-align: right;\n",
              "    }\n",
              "</style>\n",
              "<table border=\"1\" class=\"dataframe\">\n",
              "  <thead>\n",
              "    <tr style=\"text-align: right;\">\n",
              "      <th></th>\n",
              "      <th>W</th>\n",
              "      <th>X</th>\n",
              "      <th>Y</th>\n",
              "      <th>Z</th>\n",
              "    </tr>\n",
              "  </thead>\n",
              "  <tbody>\n",
              "    <tr>\n",
              "      <th>A</th>\n",
              "      <td>2.706850</td>\n",
              "      <td>0.628133</td>\n",
              "      <td>0.907969</td>\n",
              "      <td>0.503826</td>\n",
              "    </tr>\n",
              "    <tr>\n",
              "      <th>B</th>\n",
              "      <td>0.651118</td>\n",
              "      <td>-0.319318</td>\n",
              "      <td>-0.848077</td>\n",
              "      <td>0.605965</td>\n",
              "    </tr>\n",
              "    <tr>\n",
              "      <th>C</th>\n",
              "      <td>-2.018168</td>\n",
              "      <td>0.740122</td>\n",
              "      <td>0.528813</td>\n",
              "      <td>-0.589001</td>\n",
              "    </tr>\n",
              "    <tr>\n",
              "      <th>D</th>\n",
              "      <td>0.188695</td>\n",
              "      <td>-0.758872</td>\n",
              "      <td>-0.933237</td>\n",
              "      <td>0.955057</td>\n",
              "    </tr>\n",
              "    <tr>\n",
              "      <th>E</th>\n",
              "      <td>0.190794</td>\n",
              "      <td>1.978757</td>\n",
              "      <td>2.605967</td>\n",
              "      <td>0.683509</td>\n",
              "    </tr>\n",
              "  </tbody>\n",
              "</table>\n",
              "</div>"
            ],
            "text/plain": [
              "          W         X         Y         Z\n",
              "A  2.706850  0.628133  0.907969  0.503826\n",
              "B  0.651118 -0.319318 -0.848077  0.605965\n",
              "C -2.018168  0.740122  0.528813 -0.589001\n",
              "D  0.188695 -0.758872 -0.933237  0.955057\n",
              "E  0.190794  1.978757  2.605967  0.683509"
            ]
          },
          "metadata": {
            "tags": []
          },
          "execution_count": 86
        }
      ]
    },
    {
      "cell_type": "code",
      "metadata": {
        "id": "JurVowLfCAv0",
        "colab_type": "code",
        "colab": {}
      },
      "source": [
        ""
      ],
      "execution_count": null,
      "outputs": []
    }
  ]
}