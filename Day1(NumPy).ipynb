{
  "nbformat": 4,
  "nbformat_minor": 0,
  "metadata": {
    "colab": {
      "name": "Day1(NumPy).ipynb",
      "provenance": [],
      "collapsed_sections": [],
      "authorship_tag": "ABX9TyN36LBCXJtrBFLA+rTaT9hw",
      "include_colab_link": true
    },
    "kernelspec": {
      "name": "python3",
      "display_name": "Python 3"
    }
  },
  "cells": [
    {
      "cell_type": "markdown",
      "metadata": {
        "id": "view-in-github",
        "colab_type": "text"
      },
      "source": [
        "<a href=\"https://colab.research.google.com/github/srinijadharani/Python-for-ML-and-Data-Science/blob/master/Day1(NumPy).ipynb\" target=\"_parent\"><img src=\"https://colab.research.google.com/assets/colab-badge.svg\" alt=\"Open In Colab\"/></a>"
      ]
    },
    {
      "cell_type": "markdown",
      "metadata": {
        "id": "YP8opUErrpGZ",
        "colab_type": "text"
      },
      "source": [
        "## **PYTHON FOR DATA ANALYSIS - NUMPY (SECTION-5)**"
      ]
    },
    {
      "cell_type": "markdown",
      "metadata": {
        "id": "BmFGDckDIsvB",
        "colab_type": "text"
      },
      "source": [
        "### **NumPy Arrays**<br>\n",
        "Outputs of all the functions shown here are stored in arrays."
      ]
    },
    {
      "cell_type": "code",
      "metadata": {
        "id": "m8PJRP6qIp5F",
        "colab_type": "code",
        "colab": {}
      },
      "source": [
        "mylist = [1,2,3]"
      ],
      "execution_count": 1,
      "outputs": []
    },
    {
      "cell_type": "markdown",
      "metadata": {
        "id": "SUyg9Ly9LSvd",
        "colab_type": "text"
      },
      "source": [
        "Importing numpy package as np. We can use np with fucntions to generate the outputs that we want. array() is a function that converts the given input into an array. We can even generate a 3X3 matrix and a 1D vector.<br>\n",
        "Vectors are identified by single [ ]. Matrices have two [ ] or more."
      ]
    },
    {
      "cell_type": "code",
      "metadata": {
        "id": "5xEqMxFyJKEO",
        "colab_type": "code",
        "colab": {
          "base_uri": "https://localhost:8080/",
          "height": 34
        },
        "outputId": "cd265659-b3fd-4c2c-a88e-816456c28ea0"
      },
      "source": [
        "import numpy as np\n",
        "arr = np.array(mylist)\n",
        "arr"
      ],
      "execution_count": 2,
      "outputs": [
        {
          "output_type": "execute_result",
          "data": {
            "text/plain": [
              "array([1, 2, 3])"
            ]
          },
          "metadata": {
            "tags": []
          },
          "execution_count": 2
        }
      ]
    },
    {
      "cell_type": "code",
      "metadata": {
        "id": "77OyP_myJbWD",
        "colab_type": "code",
        "colab": {
          "base_uri": "https://localhost:8080/",
          "height": 70
        },
        "outputId": "85cbdf63-3b3c-4349-d08e-72c9973869d8"
      },
      "source": [
        "mymat = [[1,2,3],[4,5,6],[7,8,9]]\n",
        "np.array(mymat)"
      ],
      "execution_count": 3,
      "outputs": [
        {
          "output_type": "execute_result",
          "data": {
            "text/plain": [
              "array([[1, 2, 3],\n",
              "       [4, 5, 6],\n",
              "       [7, 8, 9]])"
            ]
          },
          "metadata": {
            "tags": []
          },
          "execution_count": 3
        }
      ]
    },
    {
      "cell_type": "markdown",
      "metadata": {
        "id": "-WUtU-d9MMIZ",
        "colab_type": "text"
      },
      "source": [
        "arange() is the same as range() function in vanilla Python. \n",
        "`arange(start,stop,step)`"
      ]
    },
    {
      "cell_type": "code",
      "metadata": {
        "id": "Aa2RQxhBJyNl",
        "colab_type": "code",
        "colab": {
          "base_uri": "https://localhost:8080/",
          "height": 34
        },
        "outputId": "dbf0d896-9233-4a12-dac8-2a075eeded3b"
      },
      "source": [
        "np.arange(0,11)"
      ],
      "execution_count": 4,
      "outputs": [
        {
          "output_type": "execute_result",
          "data": {
            "text/plain": [
              "array([ 0,  1,  2,  3,  4,  5,  6,  7,  8,  9, 10])"
            ]
          },
          "metadata": {
            "tags": []
          },
          "execution_count": 4
        }
      ]
    },
    {
      "cell_type": "code",
      "metadata": {
        "id": "QV2YUqGNKpTO",
        "colab_type": "code",
        "colab": {
          "base_uri": "https://localhost:8080/",
          "height": 34
        },
        "outputId": "88e20183-5757-4798-dcca-d0a4393a49ab"
      },
      "source": [
        "np.arange(0,11,2)"
      ],
      "execution_count": 5,
      "outputs": [
        {
          "output_type": "execute_result",
          "data": {
            "text/plain": [
              "array([ 0,  2,  4,  6,  8, 10])"
            ]
          },
          "metadata": {
            "tags": []
          },
          "execution_count": 5
        }
      ]
    },
    {
      "cell_type": "markdown",
      "metadata": {
        "id": "K3pq2lwdMb99",
        "colab_type": "text"
      },
      "source": [
        "zeros() helps us print how many ever zeros we want. We can print 1D vector and matrices too. To print a matrix with zeros, pass in to the fucntion zeros() a tuple.<br>\n",
        "For example, zeros((2,2))"
      ]
    },
    {
      "cell_type": "code",
      "metadata": {
        "id": "C5NhOm9UKtKL",
        "colab_type": "code",
        "colab": {
          "base_uri": "https://localhost:8080/",
          "height": 34
        },
        "outputId": "20653feb-e268-4a2a-aa74-f7c1fab529e3"
      },
      "source": [
        "np.zeros(3)"
      ],
      "execution_count": 6,
      "outputs": [
        {
          "output_type": "execute_result",
          "data": {
            "text/plain": [
              "array([0., 0., 0.])"
            ]
          },
          "metadata": {
            "tags": []
          },
          "execution_count": 6
        }
      ]
    },
    {
      "cell_type": "code",
      "metadata": {
        "id": "ED-tcSFgLCX0",
        "colab_type": "code",
        "colab": {
          "base_uri": "https://localhost:8080/",
          "height": 70
        },
        "outputId": "0b2d1e8e-ce57-4975-88d0-ea1853ba1472"
      },
      "source": [
        "np.zeros((3,3))"
      ],
      "execution_count": 7,
      "outputs": [
        {
          "output_type": "execute_result",
          "data": {
            "text/plain": [
              "array([[0., 0., 0.],\n",
              "       [0., 0., 0.],\n",
              "       [0., 0., 0.]])"
            ]
          },
          "metadata": {
            "tags": []
          },
          "execution_count": 7
        }
      ]
    },
    {
      "cell_type": "code",
      "metadata": {
        "id": "Yit2_-ogLFT5",
        "colab_type": "code",
        "colab": {
          "base_uri": "https://localhost:8080/",
          "height": 52
        },
        "outputId": "5dc071c3-f571-4745-81e5-800398b4222e"
      },
      "source": [
        "np.zeros((2,4))"
      ],
      "execution_count": 8,
      "outputs": [
        {
          "output_type": "execute_result",
          "data": {
            "text/plain": [
              "array([[0., 0., 0., 0.],\n",
              "       [0., 0., 0., 0.]])"
            ]
          },
          "metadata": {
            "tags": []
          },
          "execution_count": 8
        }
      ]
    },
    {
      "cell_type": "markdown",
      "metadata": {
        "id": "XSbvV9jDNPP5",
        "colab_type": "text"
      },
      "source": [
        "Similarly, if you want to print a matrix or a vector containing only 1s, use the function ones(). The parameters are the same as zeros()."
      ]
    },
    {
      "cell_type": "code",
      "metadata": {
        "id": "rbp5mtKlM425",
        "colab_type": "code",
        "colab": {
          "base_uri": "https://localhost:8080/",
          "height": 34
        },
        "outputId": "fd7d5309-102a-4882-e70f-8da6111ae564"
      },
      "source": [
        "np.ones(2)"
      ],
      "execution_count": 9,
      "outputs": [
        {
          "output_type": "execute_result",
          "data": {
            "text/plain": [
              "array([1., 1.])"
            ]
          },
          "metadata": {
            "tags": []
          },
          "execution_count": 9
        }
      ]
    },
    {
      "cell_type": "code",
      "metadata": {
        "id": "xOZxZ0woNwN0",
        "colab_type": "code",
        "colab": {
          "base_uri": "https://localhost:8080/",
          "height": 70
        },
        "outputId": "f2a6c634-cb00-4339-f74d-8a5b0e1980ec"
      },
      "source": [
        "np.ones((3,3))"
      ],
      "execution_count": 10,
      "outputs": [
        {
          "output_type": "execute_result",
          "data": {
            "text/plain": [
              "array([[1., 1., 1.],\n",
              "       [1., 1., 1.],\n",
              "       [1., 1., 1.]])"
            ]
          },
          "metadata": {
            "tags": []
          },
          "execution_count": 10
        }
      ]
    },
    {
      "cell_type": "markdown",
      "metadata": {
        "id": "paItMeZdOy-F",
        "colab_type": "text"
      },
      "source": [
        "The linspace() function returns evenly spaced numbers over a specified interval [start, stop].\n",
        "The endpoint of the interval can optionally be excluded."
      ]
    },
    {
      "cell_type": "code",
      "metadata": {
        "id": "rm9TI68SNzN4",
        "colab_type": "code",
        "colab": {
          "base_uri": "https://localhost:8080/",
          "height": 52
        },
        "outputId": "493e4dd2-4967-445e-84da-fc8e87678d58"
      },
      "source": [
        "np.linspace(0,4,10)"
      ],
      "execution_count": 11,
      "outputs": [
        {
          "output_type": "execute_result",
          "data": {
            "text/plain": [
              "array([0.        , 0.44444444, 0.88888889, 1.33333333, 1.77777778,\n",
              "       2.22222222, 2.66666667, 3.11111111, 3.55555556, 4.        ])"
            ]
          },
          "metadata": {
            "tags": []
          },
          "execution_count": 11
        }
      ]
    },
    {
      "cell_type": "markdown",
      "metadata": {
        "id": "N5I3KbDvPakj",
        "colab_type": "text"
      },
      "source": [
        "`eye()` prints an identity matrix of given order. Identity matirx is a square matrix and all the diagonal elements are 1s and the rest elements are 0s. The whole matrix is stored in an array."
      ]
    },
    {
      "cell_type": "code",
      "metadata": {
        "id": "7CBfsWQuO7cu",
        "colab_type": "code",
        "colab": {
          "base_uri": "https://localhost:8080/",
          "height": 70
        },
        "outputId": "ca2ebc4b-c6db-4868-f55b-ae000cf650e2"
      },
      "source": [
        "np.eye(3)"
      ],
      "execution_count": 12,
      "outputs": [
        {
          "output_type": "execute_result",
          "data": {
            "text/plain": [
              "array([[1., 0., 0.],\n",
              "       [0., 1., 0.],\n",
              "       [0., 0., 1.]])"
            ]
          },
          "metadata": {
            "tags": []
          },
          "execution_count": 12
        }
      ]
    },
    {
      "cell_type": "markdown",
      "metadata": {
        "id": "ePHQ9AAvRcEy",
        "colab_type": "text"
      },
      "source": [
        "Random Library: `random.rand(n)` prints random values and stores them in an array. `n` is the number of values we want to display."
      ]
    },
    {
      "cell_type": "code",
      "metadata": {
        "id": "hILfn2qwPrl4",
        "colab_type": "code",
        "colab": {
          "base_uri": "https://localhost:8080/",
          "height": 34
        },
        "outputId": "bf156d4d-f6e2-42ab-f3b6-4e1e841df7ba"
      },
      "source": [
        "np.random.rand(3)"
      ],
      "execution_count": 13,
      "outputs": [
        {
          "output_type": "execute_result",
          "data": {
            "text/plain": [
              "array([0.54996826, 0.30122855, 0.91349313])"
            ]
          },
          "metadata": {
            "tags": []
          },
          "execution_count": 13
        }
      ]
    },
    {
      "cell_type": "code",
      "metadata": {
        "id": "F1JNcxgZR3cI",
        "colab_type": "code",
        "colab": {
          "base_uri": "https://localhost:8080/",
          "height": 70
        },
        "outputId": "e5110766-fdfd-4c3d-dff5-6f4270c20f56"
      },
      "source": [
        "np.random.rand(3,3) #no need of passing this argument in a tuple."
      ],
      "execution_count": 14,
      "outputs": [
        {
          "output_type": "execute_result",
          "data": {
            "text/plain": [
              "array([[0.83300514, 0.62898239, 0.25185699],\n",
              "       [0.07977993, 0.74681931, 0.5682437 ],\n",
              "       [0.50863962, 0.38525586, 0.60978443]])"
            ]
          },
          "metadata": {
            "tags": []
          },
          "execution_count": 14
        }
      ]
    },
    {
      "cell_type": "markdown",
      "metadata": {
        "id": "sAu49JvMgIna",
        "colab_type": "text"
      },
      "source": [
        "`random.randn()` prints values not from a uniform distribution but fron a standard normal distribution."
      ]
    },
    {
      "cell_type": "code",
      "metadata": {
        "id": "nBr_GOTrSWjg",
        "colab_type": "code",
        "colab": {
          "base_uri": "https://localhost:8080/",
          "height": 34
        },
        "outputId": "a0ec2919-9640-4b82-a3a5-99d861216b9f"
      },
      "source": [
        "np.random.randn(2)"
      ],
      "execution_count": 15,
      "outputs": [
        {
          "output_type": "execute_result",
          "data": {
            "text/plain": [
              "array([-0.05780458, -1.13581128])"
            ]
          },
          "metadata": {
            "tags": []
          },
          "execution_count": 15
        }
      ]
    },
    {
      "cell_type": "code",
      "metadata": {
        "id": "ABHjOCzUfpWh",
        "colab_type": "code",
        "colab": {
          "base_uri": "https://localhost:8080/",
          "height": 70
        },
        "outputId": "25b28250-0e70-42af-e231-9eff6c4c5e51"
      },
      "source": [
        "np.random.randn(3,3)"
      ],
      "execution_count": 16,
      "outputs": [
        {
          "output_type": "execute_result",
          "data": {
            "text/plain": [
              "array([[-1.45234937,  0.97572675,  0.0470141 ],\n",
              "       [-1.0407462 ,  0.20441572, -0.57195403],\n",
              "       [-0.04053941, -0.9018634 ,  0.34711145]])"
            ]
          },
          "metadata": {
            "tags": []
          },
          "execution_count": 16
        }
      ]
    },
    {
      "cell_type": "markdown",
      "metadata": {
        "id": "x4eWCs5WgUIr",
        "colab_type": "text"
      },
      "source": [
        "`random.randint(start, stop, n)` prints radom values from start to stop (stop exclusive). n is the number of values that are being printed."
      ]
    },
    {
      "cell_type": "code",
      "metadata": {
        "id": "LTLouNtRfsNi",
        "colab_type": "code",
        "colab": {
          "base_uri": "https://localhost:8080/",
          "height": 34
        },
        "outputId": "47734b5b-d81a-4df3-858d-21530b395c3a"
      },
      "source": [
        "np.random.randint(1,100,10)"
      ],
      "execution_count": 17,
      "outputs": [
        {
          "output_type": "execute_result",
          "data": {
            "text/plain": [
              "array([57, 38, 89, 52, 68,  8,  3, 67, 64, 81])"
            ]
          },
          "metadata": {
            "tags": []
          },
          "execution_count": 17
        }
      ]
    },
    {
      "cell_type": "markdown",
      "metadata": {
        "id": "NuxXn7Wdhfsq",
        "colab_type": "text"
      },
      "source": [
        "`reshape()`: This function allows us to reshape the array that we have previously printed. Remember, the argument value should not exceed that of the length of the array. The number of elements in the array is equal to the product of the two arguments we pass in reshape()."
      ]
    },
    {
      "cell_type": "code",
      "metadata": {
        "id": "sVXsti1JgDWS",
        "colab_type": "code",
        "colab": {}
      },
      "source": [
        "arr = np.arange(25)"
      ],
      "execution_count": 18,
      "outputs": []
    },
    {
      "cell_type": "code",
      "metadata": {
        "id": "yNk9EEvxiwDc",
        "colab_type": "code",
        "colab": {
          "base_uri": "https://localhost:8080/",
          "height": 52
        },
        "outputId": "3fa4b057-5141-44a5-8c91-efbf4bcbbad3"
      },
      "source": [
        "arr"
      ],
      "execution_count": 19,
      "outputs": [
        {
          "output_type": "execute_result",
          "data": {
            "text/plain": [
              "array([ 0,  1,  2,  3,  4,  5,  6,  7,  8,  9, 10, 11, 12, 13, 14, 15, 16,\n",
              "       17, 18, 19, 20, 21, 22, 23, 24])"
            ]
          },
          "metadata": {
            "tags": []
          },
          "execution_count": 19
        }
      ]
    },
    {
      "cell_type": "code",
      "metadata": {
        "id": "H4zsaMKki1aC",
        "colab_type": "code",
        "colab": {
          "base_uri": "https://localhost:8080/",
          "height": 105
        },
        "outputId": "38bf312a-e4dc-4013-b920-803e60e51f1d"
      },
      "source": [
        "arr.reshape(5,5)"
      ],
      "execution_count": 20,
      "outputs": [
        {
          "output_type": "execute_result",
          "data": {
            "text/plain": [
              "array([[ 0,  1,  2,  3,  4],\n",
              "       [ 5,  6,  7,  8,  9],\n",
              "       [10, 11, 12, 13, 14],\n",
              "       [15, 16, 17, 18, 19],\n",
              "       [20, 21, 22, 23, 24]])"
            ]
          },
          "metadata": {
            "tags": []
          },
          "execution_count": 20
        }
      ]
    },
    {
      "cell_type": "code",
      "metadata": {
        "id": "YAtApmcKi7TZ",
        "colab_type": "code",
        "colab": {}
      },
      "source": [
        "arr = np.arange(9)"
      ],
      "execution_count": 21,
      "outputs": []
    },
    {
      "cell_type": "code",
      "metadata": {
        "id": "vLnP4sc_i_46",
        "colab_type": "code",
        "colab": {
          "base_uri": "https://localhost:8080/",
          "height": 34
        },
        "outputId": "77dff947-4870-4113-f477-bf233e420e31"
      },
      "source": [
        "arr"
      ],
      "execution_count": 22,
      "outputs": [
        {
          "output_type": "execute_result",
          "data": {
            "text/plain": [
              "array([0, 1, 2, 3, 4, 5, 6, 7, 8])"
            ]
          },
          "metadata": {
            "tags": []
          },
          "execution_count": 22
        }
      ]
    },
    {
      "cell_type": "code",
      "metadata": {
        "id": "rJJxPOTRjAls",
        "colab_type": "code",
        "colab": {
          "base_uri": "https://localhost:8080/",
          "height": 70
        },
        "outputId": "eaf0b92d-aa0f-4d1a-da9e-20c49573b0f9"
      },
      "source": [
        "arr.reshape(3,3)"
      ],
      "execution_count": 23,
      "outputs": [
        {
          "output_type": "execute_result",
          "data": {
            "text/plain": [
              "array([[0, 1, 2],\n",
              "       [3, 4, 5],\n",
              "       [6, 7, 8]])"
            ]
          },
          "metadata": {
            "tags": []
          },
          "execution_count": 23
        }
      ]
    },
    {
      "cell_type": "markdown",
      "metadata": {
        "id": "nQQEioSZjzIy",
        "colab_type": "text"
      },
      "source": [
        "`max()` and `min()` are used to display the maximum and the minimum values (respectively) of an array."
      ]
    },
    {
      "cell_type": "code",
      "metadata": {
        "id": "5KSdT04rjC_r",
        "colab_type": "code",
        "colab": {
          "base_uri": "https://localhost:8080/",
          "height": 34
        },
        "outputId": "97e4d8ef-d04e-424f-e79a-4c8c8df207f8"
      },
      "source": [
        "arr.max()"
      ],
      "execution_count": 24,
      "outputs": [
        {
          "output_type": "execute_result",
          "data": {
            "text/plain": [
              "8"
            ]
          },
          "metadata": {
            "tags": []
          },
          "execution_count": 24
        }
      ]
    },
    {
      "cell_type": "code",
      "metadata": {
        "id": "C_3R1qYejvxZ",
        "colab_type": "code",
        "colab": {
          "base_uri": "https://localhost:8080/",
          "height": 34
        },
        "outputId": "5ff571bc-71e2-43eb-86a7-3b6249cd2014"
      },
      "source": [
        "arr.min()"
      ],
      "execution_count": 25,
      "outputs": [
        {
          "output_type": "execute_result",
          "data": {
            "text/plain": [
              "0"
            ]
          },
          "metadata": {
            "tags": []
          },
          "execution_count": 25
        }
      ]
    },
    {
      "cell_type": "code",
      "metadata": {
        "id": "M3u44RN-okcY",
        "colab_type": "code",
        "colab": {
          "base_uri": "https://localhost:8080/",
          "height": 34
        },
        "outputId": "b16359c4-de57-48b7-e0e9-9871da611f27"
      },
      "source": [
        "arr.argmax() #returns the index position of the maximum value "
      ],
      "execution_count": 26,
      "outputs": [
        {
          "output_type": "execute_result",
          "data": {
            "text/plain": [
              "8"
            ]
          },
          "metadata": {
            "tags": []
          },
          "execution_count": 26
        }
      ]
    },
    {
      "cell_type": "code",
      "metadata": {
        "id": "F2gGXLy9ol9-",
        "colab_type": "code",
        "colab": {
          "base_uri": "https://localhost:8080/",
          "height": 34
        },
        "outputId": "1012baab-8c2a-4cd5-bb13-732234dbc9c7"
      },
      "source": [
        "arr.argmin() #returns the index position of the minimum value"
      ],
      "execution_count": 27,
      "outputs": [
        {
          "output_type": "execute_result",
          "data": {
            "text/plain": [
              "0"
            ]
          },
          "metadata": {
            "tags": []
          },
          "execution_count": 27
        }
      ]
    },
    {
      "cell_type": "code",
      "metadata": {
        "id": "9wg1Gtn8ouj9",
        "colab_type": "code",
        "colab": {}
      },
      "source": [
        "matrix = arr.reshape(3,3)"
      ],
      "execution_count": 28,
      "outputs": []
    },
    {
      "cell_type": "code",
      "metadata": {
        "id": "EZ0RatSlpRyv",
        "colab_type": "code",
        "colab": {
          "base_uri": "https://localhost:8080/",
          "height": 34
        },
        "outputId": "6b21f413-c0b0-4ef7-cb82-841c0229beee"
      },
      "source": [
        "arr.shape #the plain array - vector"
      ],
      "execution_count": 29,
      "outputs": [
        {
          "output_type": "execute_result",
          "data": {
            "text/plain": [
              "(9,)"
            ]
          },
          "metadata": {
            "tags": []
          },
          "execution_count": 29
        }
      ]
    },
    {
      "cell_type": "code",
      "metadata": {
        "id": "_h8jATDGpThy",
        "colab_type": "code",
        "colab": {
          "base_uri": "https://localhost:8080/",
          "height": 34
        },
        "outputId": "622dd323-99f4-4f74-97b0-de7abc3d58c6"
      },
      "source": [
        "matrix.shape #the matrix - 2D array"
      ],
      "execution_count": 30,
      "outputs": [
        {
          "output_type": "execute_result",
          "data": {
            "text/plain": [
              "(3, 3)"
            ]
          },
          "metadata": {
            "tags": []
          },
          "execution_count": 30
        }
      ]
    },
    {
      "cell_type": "code",
      "metadata": {
        "id": "PSK7BW5hpeiV",
        "colab_type": "code",
        "colab": {
          "base_uri": "https://localhost:8080/",
          "height": 34
        },
        "outputId": "8eb8db8d-d27d-4143-a189-8f5c238b706c"
      },
      "source": [
        "arr.dtype #to find out what data type the array is. Here, it's a 64 bit integer array"
      ],
      "execution_count": 31,
      "outputs": [
        {
          "output_type": "execute_result",
          "data": {
            "text/plain": [
              "dtype('int64')"
            ]
          },
          "metadata": {
            "tags": []
          },
          "execution_count": 31
        }
      ]
    },
    {
      "cell_type": "code",
      "metadata": {
        "id": "U5ZycsHwpqJP",
        "colab_type": "code",
        "colab": {
          "base_uri": "https://localhost:8080/",
          "height": 34
        },
        "outputId": "2c03d71a-6a4b-4316-b0d7-f821ff4d43f1"
      },
      "source": [
        "matrix.dtype"
      ],
      "execution_count": 32,
      "outputs": [
        {
          "output_type": "execute_result",
          "data": {
            "text/plain": [
              "dtype('int64')"
            ]
          },
          "metadata": {
            "tags": []
          },
          "execution_count": 32
        }
      ]
    },
    {
      "cell_type": "markdown",
      "metadata": {
        "id": "lw1fG-OJsH6e",
        "colab_type": "text"
      },
      "source": [
        "## **NumPy Array Selecting and Indexing**"
      ]
    },
    {
      "cell_type": "code",
      "metadata": {
        "id": "51m8lAfup4iJ",
        "colab_type": "code",
        "colab": {}
      },
      "source": [
        "import numpy as np"
      ],
      "execution_count": 33,
      "outputs": []
    },
    {
      "cell_type": "code",
      "metadata": {
        "id": "zax2e-bJsTxZ",
        "colab_type": "code",
        "colab": {
          "base_uri": "https://localhost:8080/",
          "height": 34
        },
        "outputId": "907b023f-9d5c-440b-9eb7-de9d32cfb58e"
      },
      "source": [
        "arr = np.arange(0,11)\n",
        "arr"
      ],
      "execution_count": 34,
      "outputs": [
        {
          "output_type": "execute_result",
          "data": {
            "text/plain": [
              "array([ 0,  1,  2,  3,  4,  5,  6,  7,  8,  9, 10])"
            ]
          },
          "metadata": {
            "tags": []
          },
          "execution_count": 34
        }
      ]
    },
    {
      "cell_type": "code",
      "metadata": {
        "id": "MdSZ5hZOsZO7",
        "colab_type": "code",
        "colab": {
          "base_uri": "https://localhost:8080/",
          "height": 34
        },
        "outputId": "bd29c1d8-1745-4079-8f43-f786518f11bd"
      },
      "source": [
        "arr = np.arange(0,21,2)\n",
        "arr"
      ],
      "execution_count": 35,
      "outputs": [
        {
          "output_type": "execute_result",
          "data": {
            "text/plain": [
              "array([ 0,  2,  4,  6,  8, 10, 12, 14, 16, 18, 20])"
            ]
          },
          "metadata": {
            "tags": []
          },
          "execution_count": 35
        }
      ]
    },
    {
      "cell_type": "code",
      "metadata": {
        "id": "5VyqxZWcspOj",
        "colab_type": "code",
        "colab": {
          "base_uri": "https://localhost:8080/",
          "height": 34
        },
        "outputId": "9e316c36-40cf-46ca-dfd4-97cfe4e4c9d0"
      },
      "source": [
        "arr[4]"
      ],
      "execution_count": 36,
      "outputs": [
        {
          "output_type": "execute_result",
          "data": {
            "text/plain": [
              "8"
            ]
          },
          "metadata": {
            "tags": []
          },
          "execution_count": 36
        }
      ]
    },
    {
      "cell_type": "code",
      "metadata": {
        "id": "FzTozucAsuG1",
        "colab_type": "code",
        "colab": {
          "base_uri": "https://localhost:8080/",
          "height": 34
        },
        "outputId": "16b306e9-e052-4b0c-bbfa-4644f85b79f0"
      },
      "source": [
        "arr[0:5]"
      ],
      "execution_count": 37,
      "outputs": [
        {
          "output_type": "execute_result",
          "data": {
            "text/plain": [
              "array([0, 2, 4, 6, 8])"
            ]
          },
          "metadata": {
            "tags": []
          },
          "execution_count": 37
        }
      ]
    },
    {
      "cell_type": "code",
      "metadata": {
        "id": "g3yCsyfPsxcG",
        "colab_type": "code",
        "colab": {
          "base_uri": "https://localhost:8080/",
          "height": 34
        },
        "outputId": "0602da13-0a6a-4d90-f8db-bdb035e182c0"
      },
      "source": [
        "arr[0:7:2]"
      ],
      "execution_count": 38,
      "outputs": [
        {
          "output_type": "execute_result",
          "data": {
            "text/plain": [
              "array([ 0,  4,  8, 12])"
            ]
          },
          "metadata": {
            "tags": []
          },
          "execution_count": 38
        }
      ]
    },
    {
      "cell_type": "code",
      "metadata": {
        "id": "YTgPSUoxs3_Z",
        "colab_type": "code",
        "colab": {
          "base_uri": "https://localhost:8080/",
          "height": 34
        },
        "outputId": "975384e6-f12a-4b39-9a80-46fc62e45a44"
      },
      "source": [
        "arr[::-1]"
      ],
      "execution_count": 39,
      "outputs": [
        {
          "output_type": "execute_result",
          "data": {
            "text/plain": [
              "array([20, 18, 16, 14, 12, 10,  8,  6,  4,  2,  0])"
            ]
          },
          "metadata": {
            "tags": []
          },
          "execution_count": 39
        }
      ]
    },
    {
      "cell_type": "code",
      "metadata": {
        "id": "lwBqIt9ys5fL",
        "colab_type": "code",
        "colab": {
          "base_uri": "https://localhost:8080/",
          "height": 34
        },
        "outputId": "62f34ac7-f311-4d18-d266-04b3382dab53"
      },
      "source": [
        "arr[:7]"
      ],
      "execution_count": 40,
      "outputs": [
        {
          "output_type": "execute_result",
          "data": {
            "text/plain": [
              "array([ 0,  2,  4,  6,  8, 10, 12])"
            ]
          },
          "metadata": {
            "tags": []
          },
          "execution_count": 40
        }
      ]
    },
    {
      "cell_type": "code",
      "metadata": {
        "id": "ZRZYjPzjtBKo",
        "colab_type": "code",
        "colab": {
          "base_uri": "https://localhost:8080/",
          "height": 34
        },
        "outputId": "37e3205c-21ef-4159-e25a-b40fe6a99298"
      },
      "source": [
        "arr[2:]"
      ],
      "execution_count": 41,
      "outputs": [
        {
          "output_type": "execute_result",
          "data": {
            "text/plain": [
              "array([ 4,  6,  8, 10, 12, 14, 16, 18, 20])"
            ]
          },
          "metadata": {
            "tags": []
          },
          "execution_count": 41
        }
      ]
    },
    {
      "cell_type": "code",
      "metadata": {
        "id": "l-L3N2KStJXR",
        "colab_type": "code",
        "colab": {}
      },
      "source": [
        "arr[0:5] = 200"
      ],
      "execution_count": 42,
      "outputs": []
    },
    {
      "cell_type": "code",
      "metadata": {
        "id": "py_SpkVstiId",
        "colab_type": "code",
        "colab": {
          "base_uri": "https://localhost:8080/",
          "height": 34
        },
        "outputId": "152f73c7-caf1-4ca5-debd-e65a07c16fc4"
      },
      "source": [
        "arr"
      ],
      "execution_count": 43,
      "outputs": [
        {
          "output_type": "execute_result",
          "data": {
            "text/plain": [
              "array([200, 200, 200, 200, 200,  10,  12,  14,  16,  18,  20])"
            ]
          },
          "metadata": {
            "tags": []
          },
          "execution_count": 43
        }
      ]
    },
    {
      "cell_type": "code",
      "metadata": {
        "id": "jlx9YX1GtjHo",
        "colab_type": "code",
        "colab": {
          "base_uri": "https://localhost:8080/",
          "height": 34
        },
        "outputId": "7b83d07f-badf-416b-e0b0-80abf4a021ef"
      },
      "source": [
        "arr = np.arange(0,21,2)\n",
        "arr"
      ],
      "execution_count": 44,
      "outputs": [
        {
          "output_type": "execute_result",
          "data": {
            "text/plain": [
              "array([ 0,  2,  4,  6,  8, 10, 12, 14, 16, 18, 20])"
            ]
          },
          "metadata": {
            "tags": []
          },
          "execution_count": 44
        }
      ]
    },
    {
      "cell_type": "code",
      "metadata": {
        "id": "pxZr3p-etn4Y",
        "colab_type": "code",
        "colab": {
          "base_uri": "https://localhost:8080/",
          "height": 34
        },
        "outputId": "2e046d44-f6fa-48a9-ba75-4c8bd3846a41"
      },
      "source": [
        "arr_slice = arr[0:6]\n",
        "arr_slice"
      ],
      "execution_count": 45,
      "outputs": [
        {
          "output_type": "execute_result",
          "data": {
            "text/plain": [
              "array([ 0,  2,  4,  6,  8, 10])"
            ]
          },
          "metadata": {
            "tags": []
          },
          "execution_count": 45
        }
      ]
    },
    {
      "cell_type": "code",
      "metadata": {
        "id": "qM8v2zJ4uAIh",
        "colab_type": "code",
        "colab": {}
      },
      "source": [
        "arr_slice[:] = 100"
      ],
      "execution_count": 46,
      "outputs": []
    },
    {
      "cell_type": "code",
      "metadata": {
        "id": "e2WVKCdtuC1j",
        "colab_type": "code",
        "colab": {
          "base_uri": "https://localhost:8080/",
          "height": 34
        },
        "outputId": "103b4028-1dff-4d75-965a-6fa2b05869b0"
      },
      "source": [
        "arr_slice"
      ],
      "execution_count": 47,
      "outputs": [
        {
          "output_type": "execute_result",
          "data": {
            "text/plain": [
              "array([100, 100, 100, 100, 100, 100])"
            ]
          },
          "metadata": {
            "tags": []
          },
          "execution_count": 47
        }
      ]
    },
    {
      "cell_type": "code",
      "metadata": {
        "id": "I7UaLPfzuFck",
        "colab_type": "code",
        "colab": {}
      },
      "source": [
        "arr_slice = arr[0:6]\n",
        "arr_slice\n",
        "arr_slice[:] = 99"
      ],
      "execution_count": 48,
      "outputs": []
    },
    {
      "cell_type": "code",
      "metadata": {
        "id": "ODwgQke3ucMl",
        "colab_type": "code",
        "colab": {
          "base_uri": "https://localhost:8080/",
          "height": 34
        },
        "outputId": "daccd6ba-cf4e-490d-b531-568df31bc4e0"
      },
      "source": [
        "arr_slice"
      ],
      "execution_count": 49,
      "outputs": [
        {
          "output_type": "execute_result",
          "data": {
            "text/plain": [
              "array([99, 99, 99, 99, 99, 99])"
            ]
          },
          "metadata": {
            "tags": []
          },
          "execution_count": 49
        }
      ]
    },
    {
      "cell_type": "code",
      "metadata": {
        "id": "ALY35xqBufHy",
        "colab_type": "code",
        "colab": {
          "base_uri": "https://localhost:8080/",
          "height": 34
        },
        "outputId": "ca47807e-d09b-4b64-ad19-4adb04fd12b9"
      },
      "source": [
        "arr"
      ],
      "execution_count": 50,
      "outputs": [
        {
          "output_type": "execute_result",
          "data": {
            "text/plain": [
              "array([99, 99, 99, 99, 99, 99, 12, 14, 16, 18, 20])"
            ]
          },
          "metadata": {
            "tags": []
          },
          "execution_count": 50
        }
      ]
    },
    {
      "cell_type": "markdown",
      "metadata": {
        "id": "ILKrbL0-ujZu",
        "colab_type": "text"
      },
      "source": [
        "Here, we notice that even though we changed the elements in the sliced array, the elements of the original array are also getting changed. This means that the sliced array is not a copy of a slice of the original array but it is a view of the original. And the reason why NumPy does that is to avoid memory issues with very large arrays.<br>\n",
        "If you don't want a reference of the actual array, we can use the `copy()` function."
      ]
    },
    {
      "cell_type": "code",
      "metadata": {
        "id": "cn6B8tmwuiJe",
        "colab_type": "code",
        "colab": {
          "base_uri": "https://localhost:8080/",
          "height": 34
        },
        "outputId": "0e6a4e44-cfe6-41b6-ecb2-8654e06f535e"
      },
      "source": [
        "arr"
      ],
      "execution_count": 51,
      "outputs": [
        {
          "output_type": "execute_result",
          "data": {
            "text/plain": [
              "array([99, 99, 99, 99, 99, 99, 12, 14, 16, 18, 20])"
            ]
          },
          "metadata": {
            "tags": []
          },
          "execution_count": 51
        }
      ]
    },
    {
      "cell_type": "code",
      "metadata": {
        "id": "V-hp3maOwzoC",
        "colab_type": "code",
        "colab": {}
      },
      "source": [
        "arr_copy = arr.copy()"
      ],
      "execution_count": 52,
      "outputs": []
    },
    {
      "cell_type": "code",
      "metadata": {
        "id": "b5Omb-5Rw7OV",
        "colab_type": "code",
        "colab": {}
      },
      "source": [
        "arr_copy[:] = 100 #set all values to 100"
      ],
      "execution_count": 53,
      "outputs": []
    },
    {
      "cell_type": "code",
      "metadata": {
        "id": "zd0olj65w_Uv",
        "colab_type": "code",
        "colab": {
          "base_uri": "https://localhost:8080/",
          "height": 34
        },
        "outputId": "2bd3acc6-fc68-4280-aa64-d66968321f81"
      },
      "source": [
        "arr_copy"
      ],
      "execution_count": 54,
      "outputs": [
        {
          "output_type": "execute_result",
          "data": {
            "text/plain": [
              "array([100, 100, 100, 100, 100, 100, 100, 100, 100, 100, 100])"
            ]
          },
          "metadata": {
            "tags": []
          },
          "execution_count": 54
        }
      ]
    },
    {
      "cell_type": "code",
      "metadata": {
        "id": "za-ikjlzxAnT",
        "colab_type": "code",
        "colab": {
          "base_uri": "https://localhost:8080/",
          "height": 34
        },
        "outputId": "dff96c50-98e2-4086-8798-5bedd1981e66"
      },
      "source": [
        "arr"
      ],
      "execution_count": 55,
      "outputs": [
        {
          "output_type": "execute_result",
          "data": {
            "text/plain": [
              "array([99, 99, 99, 99, 99, 99, 12, 14, 16, 18, 20])"
            ]
          },
          "metadata": {
            "tags": []
          },
          "execution_count": 55
        }
      ]
    },
    {
      "cell_type": "markdown",
      "metadata": {
        "id": "rW7ZIZ8TxCmB",
        "colab_type": "text"
      },
      "source": [
        "The original array is unaffected. Changes made to the copied array will not be reflected on `arr`."
      ]
    },
    {
      "cell_type": "markdown",
      "metadata": {
        "id": "QtEwYpnixgiS",
        "colab_type": "text"
      },
      "source": [
        "## **Indexing- 2D Array**<br>\n",
        "1. Double bracket format\n",
        "2. Single bracket format"
      ]
    },
    {
      "cell_type": "code",
      "metadata": {
        "id": "Y0TGYq_oxBlL",
        "colab_type": "code",
        "colab": {}
      },
      "source": [
        "import numpy as np"
      ],
      "execution_count": 56,
      "outputs": []
    },
    {
      "cell_type": "code",
      "metadata": {
        "id": "bd1TOWOOx3tM",
        "colab_type": "code",
        "colab": {}
      },
      "source": [
        "arr_2d = np.array([[1,2,3],[4,5,6],[7,8,9]])"
      ],
      "execution_count": 57,
      "outputs": []
    },
    {
      "cell_type": "code",
      "metadata": {
        "id": "gARbvkgXyAW1",
        "colab_type": "code",
        "colab": {
          "base_uri": "https://localhost:8080/",
          "height": 70
        },
        "outputId": "7e4414b6-cad6-459c-eec6-c3e514bc69dd"
      },
      "source": [
        "arr_2d"
      ],
      "execution_count": 58,
      "outputs": [
        {
          "output_type": "execute_result",
          "data": {
            "text/plain": [
              "array([[1, 2, 3],\n",
              "       [4, 5, 6],\n",
              "       [7, 8, 9]])"
            ]
          },
          "metadata": {
            "tags": []
          },
          "execution_count": 58
        }
      ]
    },
    {
      "cell_type": "code",
      "metadata": {
        "id": "fXCpBlwgyJCC",
        "colab_type": "code",
        "colab": {
          "base_uri": "https://localhost:8080/",
          "height": 34
        },
        "outputId": "e1d9f6e3-3c35-4379-ecd3-d1de10ffb719"
      },
      "source": [
        "arr_2d[1][2] #to print '6' (double bracket format)"
      ],
      "execution_count": 59,
      "outputs": [
        {
          "output_type": "execute_result",
          "data": {
            "text/plain": [
              "6"
            ]
          },
          "metadata": {
            "tags": []
          },
          "execution_count": 59
        }
      ]
    },
    {
      "cell_type": "code",
      "metadata": {
        "id": "o7_eynB3yesi",
        "colab_type": "code",
        "colab": {
          "base_uri": "https://localhost:8080/",
          "height": 34
        },
        "outputId": "6fdb6754-43f6-4dfe-c7af-6f826dcb40c9"
      },
      "source": [
        "arr_2d[1]"
      ],
      "execution_count": 60,
      "outputs": [
        {
          "output_type": "execute_result",
          "data": {
            "text/plain": [
              "array([4, 5, 6])"
            ]
          },
          "metadata": {
            "tags": []
          },
          "execution_count": 60
        }
      ]
    },
    {
      "cell_type": "code",
      "metadata": {
        "id": "n0dQ99q3yNEH",
        "colab_type": "code",
        "colab": {
          "base_uri": "https://localhost:8080/",
          "height": 34
        },
        "outputId": "4424dda3-9a57-44dd-eba0-901d8d926c4f"
      },
      "source": [
        "arr_2d[0][2]"
      ],
      "execution_count": 61,
      "outputs": [
        {
          "output_type": "execute_result",
          "data": {
            "text/plain": [
              "3"
            ]
          },
          "metadata": {
            "tags": []
          },
          "execution_count": 61
        }
      ]
    },
    {
      "cell_type": "code",
      "metadata": {
        "id": "4f9giS5vyZbR",
        "colab_type": "code",
        "colab": {
          "base_uri": "https://localhost:8080/",
          "height": 34
        },
        "outputId": "f7ec5af8-5d35-427c-c953-83137b35f4f2"
      },
      "source": [
        "arr_2d[0,2] #single bracket format #best practice"
      ],
      "execution_count": 62,
      "outputs": [
        {
          "output_type": "execute_result",
          "data": {
            "text/plain": [
              "3"
            ]
          },
          "metadata": {
            "tags": []
          },
          "execution_count": 62
        }
      ]
    },
    {
      "cell_type": "code",
      "metadata": {
        "id": "LZflgxG7yb6k",
        "colab_type": "code",
        "colab": {
          "base_uri": "https://localhost:8080/",
          "height": 34
        },
        "outputId": "464bf20f-bb89-4e85-a4fb-9619c27dd190"
      },
      "source": [
        "arr_2d[2,2]"
      ],
      "execution_count": 63,
      "outputs": [
        {
          "output_type": "execute_result",
          "data": {
            "text/plain": [
              "9"
            ]
          },
          "metadata": {
            "tags": []
          },
          "execution_count": 63
        }
      ]
    },
    {
      "cell_type": "code",
      "metadata": {
        "id": "Kf7EnLWezDHv",
        "colab_type": "code",
        "colab": {
          "base_uri": "https://localhost:8080/",
          "height": 52
        },
        "outputId": "d3cf5e68-7012-46ce-f395-cf458369fc44"
      },
      "source": [
        "arr_2d[0:2,1:]"
      ],
      "execution_count": 64,
      "outputs": [
        {
          "output_type": "execute_result",
          "data": {
            "text/plain": [
              "array([[2, 3],\n",
              "       [5, 6]])"
            ]
          },
          "metadata": {
            "tags": []
          },
          "execution_count": 64
        }
      ]
    },
    {
      "cell_type": "code",
      "metadata": {
        "id": "JVRZ6srgzVxY",
        "colab_type": "code",
        "colab": {
          "base_uri": "https://localhost:8080/",
          "height": 52
        },
        "outputId": "422c494d-b779-44f8-d762-fd79810f9bd6"
      },
      "source": [
        "arr_2d[1:3,0:2]"
      ],
      "execution_count": 65,
      "outputs": [
        {
          "output_type": "execute_result",
          "data": {
            "text/plain": [
              "array([[4, 5],\n",
              "       [7, 8]])"
            ]
          },
          "metadata": {
            "tags": []
          },
          "execution_count": 65
        }
      ]
    },
    {
      "cell_type": "code",
      "metadata": {
        "id": "IQRNiAAVz7jk",
        "colab_type": "code",
        "colab": {}
      },
      "source": [
        "arr = np.arange(0,11)"
      ],
      "execution_count": 66,
      "outputs": []
    },
    {
      "cell_type": "code",
      "metadata": {
        "id": "_FjkiR_t0WjR",
        "colab_type": "code",
        "colab": {
          "base_uri": "https://localhost:8080/",
          "height": 34
        },
        "outputId": "fcd9c2e4-3443-424b-f7c7-09da63e7c8c9"
      },
      "source": [
        "arr"
      ],
      "execution_count": 67,
      "outputs": [
        {
          "output_type": "execute_result",
          "data": {
            "text/plain": [
              "array([ 0,  1,  2,  3,  4,  5,  6,  7,  8,  9, 10])"
            ]
          },
          "metadata": {
            "tags": []
          },
          "execution_count": 67
        }
      ]
    },
    {
      "cell_type": "code",
      "metadata": {
        "id": "s8n3QhFy0XZX",
        "colab_type": "code",
        "colab": {}
      },
      "source": [
        "bool_arr = arr > 4"
      ],
      "execution_count": 68,
      "outputs": []
    },
    {
      "cell_type": "code",
      "metadata": {
        "id": "vnmxwJmC0a-s",
        "colab_type": "code",
        "colab": {
          "base_uri": "https://localhost:8080/",
          "height": 52
        },
        "outputId": "c3622608-cf81-48a6-fd74-09271772e773"
      },
      "source": [
        "bool_arr"
      ],
      "execution_count": 69,
      "outputs": [
        {
          "output_type": "execute_result",
          "data": {
            "text/plain": [
              "array([False, False, False, False, False,  True,  True,  True,  True,\n",
              "        True,  True])"
            ]
          },
          "metadata": {
            "tags": []
          },
          "execution_count": 69
        }
      ]
    },
    {
      "cell_type": "code",
      "metadata": {
        "id": "2lW4qgP60pAS",
        "colab_type": "code",
        "colab": {
          "base_uri": "https://localhost:8080/",
          "height": 34
        },
        "outputId": "526217e0-40e9-4f12-d736-b5f04908bae1"
      },
      "source": [
        "arr[bool_arr] #this only returns the values where bool == True"
      ],
      "execution_count": 70,
      "outputs": [
        {
          "output_type": "execute_result",
          "data": {
            "text/plain": [
              "array([ 5,  6,  7,  8,  9, 10])"
            ]
          },
          "metadata": {
            "tags": []
          },
          "execution_count": 70
        }
      ]
    },
    {
      "cell_type": "code",
      "metadata": {
        "id": "nJKw23nT00sO",
        "colab_type": "code",
        "colab": {
          "base_uri": "https://localhost:8080/",
          "height": 34
        },
        "outputId": "74a84d41-2811-4829-fffe-581b406a527f"
      },
      "source": [
        "arr[arr > 4]"
      ],
      "execution_count": 71,
      "outputs": [
        {
          "output_type": "execute_result",
          "data": {
            "text/plain": [
              "array([ 5,  6,  7,  8,  9, 10])"
            ]
          },
          "metadata": {
            "tags": []
          },
          "execution_count": 71
        }
      ]
    },
    {
      "cell_type": "code",
      "metadata": {
        "id": "zCXpZ8Wr1Cxo",
        "colab_type": "code",
        "colab": {
          "base_uri": "https://localhost:8080/",
          "height": 34
        },
        "outputId": "6e8bd85d-23cf-4eb4-aab2-0dfe4311fca1"
      },
      "source": [
        "arr[arr < 3]"
      ],
      "execution_count": 72,
      "outputs": [
        {
          "output_type": "execute_result",
          "data": {
            "text/plain": [
              "array([0, 1, 2])"
            ]
          },
          "metadata": {
            "tags": []
          },
          "execution_count": 72
        }
      ]
    },
    {
      "cell_type": "code",
      "metadata": {
        "id": "fZkDWCS31d0z",
        "colab_type": "code",
        "colab": {}
      },
      "source": [
        "arr_2d = np.arange(0,50).reshape(5,10)"
      ],
      "execution_count": 73,
      "outputs": []
    },
    {
      "cell_type": "code",
      "metadata": {
        "id": "zgFfL5bB1fO1",
        "colab_type": "code",
        "colab": {
          "base_uri": "https://localhost:8080/",
          "height": 105
        },
        "outputId": "d5cb7bf3-c75f-451b-a745-5871b5fbfe10"
      },
      "source": [
        "arr_2d"
      ],
      "execution_count": 74,
      "outputs": [
        {
          "output_type": "execute_result",
          "data": {
            "text/plain": [
              "array([[ 0,  1,  2,  3,  4,  5,  6,  7,  8,  9],\n",
              "       [10, 11, 12, 13, 14, 15, 16, 17, 18, 19],\n",
              "       [20, 21, 22, 23, 24, 25, 26, 27, 28, 29],\n",
              "       [30, 31, 32, 33, 34, 35, 36, 37, 38, 39],\n",
              "       [40, 41, 42, 43, 44, 45, 46, 47, 48, 49]])"
            ]
          },
          "metadata": {
            "tags": []
          },
          "execution_count": 74
        }
      ]
    },
    {
      "cell_type": "code",
      "metadata": {
        "id": "7NVDm1Pf1l8E",
        "colab_type": "code",
        "colab": {
          "base_uri": "https://localhost:8080/",
          "height": 34
        },
        "outputId": "b4c9c5b7-191f-41ea-cbd7-83a67f138e56"
      },
      "source": [
        "arr_2d[0,1:4]"
      ],
      "execution_count": 75,
      "outputs": [
        {
          "output_type": "execute_result",
          "data": {
            "text/plain": [
              "array([1, 2, 3])"
            ]
          },
          "metadata": {
            "tags": []
          },
          "execution_count": 75
        }
      ]
    },
    {
      "cell_type": "code",
      "metadata": {
        "id": "Ct1dshMU18Y8",
        "colab_type": "code",
        "colab": {
          "base_uri": "https://localhost:8080/",
          "height": 34
        },
        "outputId": "780a8ce1-8ca4-497c-d0b8-d2bae39ef277"
      },
      "source": [
        "arr_2d[3:4,6:10]"
      ],
      "execution_count": 76,
      "outputs": [
        {
          "output_type": "execute_result",
          "data": {
            "text/plain": [
              "array([[36, 37, 38, 39]])"
            ]
          },
          "metadata": {
            "tags": []
          },
          "execution_count": 76
        }
      ]
    },
    {
      "cell_type": "code",
      "metadata": {
        "id": "RVv99nZ72I4T",
        "colab_type": "code",
        "colab": {
          "base_uri": "https://localhost:8080/",
          "height": 52
        },
        "outputId": "1aec2b7d-5717-4f4c-cdb7-4fb9e4d41e3a"
      },
      "source": [
        "arr_2d[3:5,6:10]"
      ],
      "execution_count": 77,
      "outputs": [
        {
          "output_type": "execute_result",
          "data": {
            "text/plain": [
              "array([[36, 37, 38, 39],\n",
              "       [46, 47, 48, 49]])"
            ]
          },
          "metadata": {
            "tags": []
          },
          "execution_count": 77
        }
      ]
    },
    {
      "cell_type": "markdown",
      "metadata": {
        "id": "2reMUkhO2cVN",
        "colab_type": "text"
      },
      "source": [
        "## **NumPy Operations (perform on NumPy arrays)**"
      ]
    },
    {
      "cell_type": "code",
      "metadata": {
        "id": "MMOLpb6J2Y6l",
        "colab_type": "code",
        "colab": {}
      },
      "source": [
        "import numpy as np"
      ],
      "execution_count": 78,
      "outputs": []
    },
    {
      "cell_type": "code",
      "metadata": {
        "id": "ZYx5oI-i2nWd",
        "colab_type": "code",
        "colab": {}
      },
      "source": [
        "arr = np.arange(0,11)"
      ],
      "execution_count": 79,
      "outputs": []
    },
    {
      "cell_type": "code",
      "metadata": {
        "id": "SX5HDel52q8L",
        "colab_type": "code",
        "colab": {
          "base_uri": "https://localhost:8080/",
          "height": 34
        },
        "outputId": "2d2fc846-2e2e-4201-99f7-c936e241f85c"
      },
      "source": [
        "arr"
      ],
      "execution_count": 80,
      "outputs": [
        {
          "output_type": "execute_result",
          "data": {
            "text/plain": [
              "array([ 0,  1,  2,  3,  4,  5,  6,  7,  8,  9, 10])"
            ]
          },
          "metadata": {
            "tags": []
          },
          "execution_count": 80
        }
      ]
    },
    {
      "cell_type": "code",
      "metadata": {
        "id": "GvAFs7zo2r2O",
        "colab_type": "code",
        "colab": {
          "base_uri": "https://localhost:8080/",
          "height": 34
        },
        "outputId": "e6b53cac-1fe8-4d59-a6f4-8e39a28d8a08"
      },
      "source": [
        "arr + arr #add each element of arr to itself"
      ],
      "execution_count": 81,
      "outputs": [
        {
          "output_type": "execute_result",
          "data": {
            "text/plain": [
              "array([ 0,  2,  4,  6,  8, 10, 12, 14, 16, 18, 20])"
            ]
          },
          "metadata": {
            "tags": []
          },
          "execution_count": 81
        }
      ]
    },
    {
      "cell_type": "code",
      "metadata": {
        "id": "zwlO-bSa2wCQ",
        "colab_type": "code",
        "colab": {
          "base_uri": "https://localhost:8080/",
          "height": 34
        },
        "outputId": "ad9ae93f-0a12-4b8a-ce48-dbf713764512"
      },
      "source": [
        "arr - arr"
      ],
      "execution_count": 82,
      "outputs": [
        {
          "output_type": "execute_result",
          "data": {
            "text/plain": [
              "array([0, 0, 0, 0, 0, 0, 0, 0, 0, 0, 0])"
            ]
          },
          "metadata": {
            "tags": []
          },
          "execution_count": 82
        }
      ]
    },
    {
      "cell_type": "code",
      "metadata": {
        "id": "xzWBsFVn3B-S",
        "colab_type": "code",
        "colab": {
          "base_uri": "https://localhost:8080/",
          "height": 34
        },
        "outputId": "07955dbe-2131-4841-cc04-31dbca117b44"
      },
      "source": [
        "arr * arr"
      ],
      "execution_count": 83,
      "outputs": [
        {
          "output_type": "execute_result",
          "data": {
            "text/plain": [
              "array([  0,   1,   4,   9,  16,  25,  36,  49,  64,  81, 100])"
            ]
          },
          "metadata": {
            "tags": []
          },
          "execution_count": 83
        }
      ]
    },
    {
      "cell_type": "code",
      "metadata": {
        "id": "iILZTG1E3DQA",
        "colab_type": "code",
        "colab": {
          "base_uri": "https://localhost:8080/",
          "height": 34
        },
        "outputId": "60a72d39-b30a-4377-ee9b-e6ccd8e5bebc"
      },
      "source": [
        "arr + 100 #adds 100 to each element of arr, but this won't affect the original array"
      ],
      "execution_count": 84,
      "outputs": [
        {
          "output_type": "execute_result",
          "data": {
            "text/plain": [
              "array([100, 101, 102, 103, 104, 105, 106, 107, 108, 109, 110])"
            ]
          },
          "metadata": {
            "tags": []
          },
          "execution_count": 84
        }
      ]
    },
    {
      "cell_type": "code",
      "metadata": {
        "id": "F0dxlQUB3L7e",
        "colab_type": "code",
        "colab": {
          "base_uri": "https://localhost:8080/",
          "height": 34
        },
        "outputId": "362927ca-4f0b-43dc-fd66-350781f31a4b"
      },
      "source": [
        "arr "
      ],
      "execution_count": 85,
      "outputs": [
        {
          "output_type": "execute_result",
          "data": {
            "text/plain": [
              "array([ 0,  1,  2,  3,  4,  5,  6,  7,  8,  9, 10])"
            ]
          },
          "metadata": {
            "tags": []
          },
          "execution_count": 85
        }
      ]
    },
    {
      "cell_type": "code",
      "metadata": {
        "id": "o0ZJLH4m3Nrs",
        "colab_type": "code",
        "colab": {
          "base_uri": "https://localhost:8080/",
          "height": 34
        },
        "outputId": "dfa3e10b-98fe-4641-d8ce-57f89a714ff7"
      },
      "source": [
        "arr * 100"
      ],
      "execution_count": 86,
      "outputs": [
        {
          "output_type": "execute_result",
          "data": {
            "text/plain": [
              "array([   0,  100,  200,  300,  400,  500,  600,  700,  800,  900, 1000])"
            ]
          },
          "metadata": {
            "tags": []
          },
          "execution_count": 86
        }
      ]
    },
    {
      "cell_type": "markdown",
      "metadata": {
        "id": "Z7IXY4nU3nb6",
        "colab_type": "text"
      },
      "source": [
        "An error will be thrown (in vanilla python) if we try to divide a number by 0. But in NumPy, a warning will be generated instead of an error."
      ]
    },
    {
      "cell_type": "code",
      "metadata": {
        "id": "NPOv_oaO3Xea",
        "colab_type": "code",
        "colab": {
          "base_uri": "https://localhost:8080/",
          "height": 70
        },
        "outputId": "1a53a4dc-e7f4-4a86-fcf0-9fbf6d533c21"
      },
      "source": [
        "arr / arr #0/0 doesn't make sense"
      ],
      "execution_count": 87,
      "outputs": [
        {
          "output_type": "stream",
          "text": [
            "/usr/local/lib/python3.6/dist-packages/ipykernel_launcher.py:1: RuntimeWarning: invalid value encountered in true_divide\n",
            "  \"\"\"Entry point for launching an IPython kernel.\n"
          ],
          "name": "stderr"
        },
        {
          "output_type": "execute_result",
          "data": {
            "text/plain": [
              "array([nan,  1.,  1.,  1.,  1.,  1.,  1.,  1.,  1.,  1.,  1.])"
            ]
          },
          "metadata": {
            "tags": []
          },
          "execution_count": 87
        }
      ]
    },
    {
      "cell_type": "code",
      "metadata": {
        "id": "sGDOdAXd36o8",
        "colab_type": "code",
        "colab": {
          "base_uri": "https://localhost:8080/",
          "height": 105
        },
        "outputId": "fd76a4dc-6c75-4c83-920b-75ddab303bbf"
      },
      "source": [
        "1 / arr #the output will be infinity for 1/0"
      ],
      "execution_count": 88,
      "outputs": [
        {
          "output_type": "stream",
          "text": [
            "/usr/local/lib/python3.6/dist-packages/ipykernel_launcher.py:1: RuntimeWarning: divide by zero encountered in true_divide\n",
            "  \"\"\"Entry point for launching an IPython kernel.\n"
          ],
          "name": "stderr"
        },
        {
          "output_type": "execute_result",
          "data": {
            "text/plain": [
              "array([       inf, 1.        , 0.5       , 0.33333333, 0.25      ,\n",
              "       0.2       , 0.16666667, 0.14285714, 0.125     , 0.11111111,\n",
              "       0.1       ])"
            ]
          },
          "metadata": {
            "tags": []
          },
          "execution_count": 88
        }
      ]
    },
    {
      "cell_type": "markdown",
      "metadata": {
        "id": "JuVxlXQ24gOa",
        "colab_type": "text"
      },
      "source": [
        "**Universal Array Functions**<br>\n",
        "You can perform an operation using these functions and broadcast it across the array."
      ]
    },
    {
      "cell_type": "code",
      "metadata": {
        "id": "Ye2Ncemb4GU0",
        "colab_type": "code",
        "colab": {
          "base_uri": "https://localhost:8080/",
          "height": 70
        },
        "outputId": "3901babd-8ba8-4eb9-9c78-a3c8febf4bf1"
      },
      "source": [
        "np.sqrt(arr) #square root"
      ],
      "execution_count": 89,
      "outputs": [
        {
          "output_type": "execute_result",
          "data": {
            "text/plain": [
              "array([0.        , 1.        , 1.41421356, 1.73205081, 2.        ,\n",
              "       2.23606798, 2.44948974, 2.64575131, 2.82842712, 3.        ,\n",
              "       3.16227766])"
            ]
          },
          "metadata": {
            "tags": []
          },
          "execution_count": 89
        }
      ]
    },
    {
      "cell_type": "code",
      "metadata": {
        "id": "DbuPyii35QEZ",
        "colab_type": "code",
        "colab": {
          "base_uri": "https://localhost:8080/",
          "height": 70
        },
        "outputId": "e7f70155-39a5-4779-b85f-19b0b656775b"
      },
      "source": [
        "np.exp(arr) #e^arr[i]"
      ],
      "execution_count": 90,
      "outputs": [
        {
          "output_type": "execute_result",
          "data": {
            "text/plain": [
              "array([1.00000000e+00, 2.71828183e+00, 7.38905610e+00, 2.00855369e+01,\n",
              "       5.45981500e+01, 1.48413159e+02, 4.03428793e+02, 1.09663316e+03,\n",
              "       2.98095799e+03, 8.10308393e+03, 2.20264658e+04])"
            ]
          },
          "metadata": {
            "tags": []
          },
          "execution_count": 90
        }
      ]
    },
    {
      "cell_type": "code",
      "metadata": {
        "id": "wBorwUQ-5W-g",
        "colab_type": "code",
        "colab": {
          "base_uri": "https://localhost:8080/",
          "height": 34
        },
        "outputId": "d976e527-0baf-4254-9577-15b1f22dfec6"
      },
      "source": [
        "np.max(arr)"
      ],
      "execution_count": 91,
      "outputs": [
        {
          "output_type": "execute_result",
          "data": {
            "text/plain": [
              "10"
            ]
          },
          "metadata": {
            "tags": []
          },
          "execution_count": 91
        }
      ]
    },
    {
      "cell_type": "code",
      "metadata": {
        "id": "Wbbjc3AZ5ZDa",
        "colab_type": "code",
        "colab": {
          "base_uri": "https://localhost:8080/",
          "height": 34
        },
        "outputId": "184abef5-e56a-4f77-d133-88e7446c5029"
      },
      "source": [
        "np.min(arr)"
      ],
      "execution_count": 92,
      "outputs": [
        {
          "output_type": "execute_result",
          "data": {
            "text/plain": [
              "0"
            ]
          },
          "metadata": {
            "tags": []
          },
          "execution_count": 92
        }
      ]
    },
    {
      "cell_type": "code",
      "metadata": {
        "id": "AAcSVhhL5ap_",
        "colab_type": "code",
        "colab": {
          "base_uri": "https://localhost:8080/",
          "height": 70
        },
        "outputId": "5885f6db-3634-40c8-e57d-f26cda1e2436"
      },
      "source": [
        "np.sin(arr) #sin(arr[i])"
      ],
      "execution_count": 93,
      "outputs": [
        {
          "output_type": "execute_result",
          "data": {
            "text/plain": [
              "array([ 0.        ,  0.84147098,  0.90929743,  0.14112001, -0.7568025 ,\n",
              "       -0.95892427, -0.2794155 ,  0.6569866 ,  0.98935825,  0.41211849,\n",
              "       -0.54402111])"
            ]
          },
          "metadata": {
            "tags": []
          },
          "execution_count": 93
        }
      ]
    },
    {
      "cell_type": "code",
      "metadata": {
        "id": "hLiKMiK75jKH",
        "colab_type": "code",
        "colab": {
          "base_uri": "https://localhost:8080/",
          "height": 105
        },
        "outputId": "3e3e4ff0-14f9-47dd-db81-0ea82d88a30f"
      },
      "source": [
        "np.log(arr)"
      ],
      "execution_count": 94,
      "outputs": [
        {
          "output_type": "stream",
          "text": [
            "/usr/local/lib/python3.6/dist-packages/ipykernel_launcher.py:1: RuntimeWarning: divide by zero encountered in log\n",
            "  \"\"\"Entry point for launching an IPython kernel.\n"
          ],
          "name": "stderr"
        },
        {
          "output_type": "execute_result",
          "data": {
            "text/plain": [
              "array([      -inf, 0.        , 0.69314718, 1.09861229, 1.38629436,\n",
              "       1.60943791, 1.79175947, 1.94591015, 2.07944154, 2.19722458,\n",
              "       2.30258509])"
            ]
          },
          "metadata": {
            "tags": []
          },
          "execution_count": 94
        }
      ]
    }
  ]
}